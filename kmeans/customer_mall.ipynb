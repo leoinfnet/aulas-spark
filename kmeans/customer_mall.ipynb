{
 "cells": [
  {
   "cell_type": "code",
   "execution_count": 16,
   "id": "a7b5f9f7-033d-42ae-8545-62f2e3143e13",
   "metadata": {
    "collapsed": true,
    "jupyter": {
     "outputs_hidden": true
    },
    "tags": []
   },
   "outputs": [
    {
     "name": "stdout",
     "output_type": "stream",
     "text": [
      "Requirement already satisfied: scikit-learn in /opt/conda/lib/python3.10/site-packages (1.2.2)\n",
      "Requirement already satisfied: numpy>=1.17.3 in /opt/conda/lib/python3.10/site-packages (from scikit-learn) (1.23.5)\n",
      "Requirement already satisfied: scipy>=1.3.2 in /opt/conda/lib/python3.10/site-packages (from scikit-learn) (1.10.1)\n",
      "Requirement already satisfied: joblib>=1.1.1 in /opt/conda/lib/python3.10/site-packages (from scikit-learn) (1.2.0)\n",
      "Requirement already satisfied: threadpoolctl>=2.0.0 in /opt/conda/lib/python3.10/site-packages (from scikit-learn) (3.1.0)\n",
      "Requirement already satisfied: pandas in /opt/conda/lib/python3.10/site-packages (2.0.1)\n",
      "Requirement already satisfied: python-dateutil>=2.8.2 in /opt/conda/lib/python3.10/site-packages (from pandas) (2.8.2)\n",
      "Requirement already satisfied: pytz>=2020.1 in /opt/conda/lib/python3.10/site-packages (from pandas) (2023.3)\n",
      "Requirement already satisfied: tzdata>=2022.1 in /opt/conda/lib/python3.10/site-packages (from pandas) (2023.3)\n",
      "Requirement already satisfied: numpy>=1.21.0 in /opt/conda/lib/python3.10/site-packages (from pandas) (1.23.5)\n",
      "Requirement already satisfied: six>=1.5 in /opt/conda/lib/python3.10/site-packages (from python-dateutil>=2.8.2->pandas) (1.16.0)\n",
      "Requirement already satisfied: matplotlib in /opt/conda/lib/python3.10/site-packages (3.7.1)\n",
      "Requirement already satisfied: contourpy>=1.0.1 in /opt/conda/lib/python3.10/site-packages (from matplotlib) (1.0.7)\n",
      "Requirement already satisfied: cycler>=0.10 in /opt/conda/lib/python3.10/site-packages (from matplotlib) (0.11.0)\n",
      "Requirement already satisfied: fonttools>=4.22.0 in /opt/conda/lib/python3.10/site-packages (from matplotlib) (4.39.3)\n",
      "Requirement already satisfied: kiwisolver>=1.0.1 in /opt/conda/lib/python3.10/site-packages (from matplotlib) (1.4.4)\n",
      "Requirement already satisfied: numpy>=1.20 in /opt/conda/lib/python3.10/site-packages (from matplotlib) (1.23.5)\n",
      "Requirement already satisfied: packaging>=20.0 in /opt/conda/lib/python3.10/site-packages (from matplotlib) (23.1)\n",
      "Requirement already satisfied: pillow>=6.2.0 in /opt/conda/lib/python3.10/site-packages (from matplotlib) (9.5.0)\n",
      "Requirement already satisfied: pyparsing>=2.3.1 in /opt/conda/lib/python3.10/site-packages (from matplotlib) (3.0.9)\n",
      "Requirement already satisfied: python-dateutil>=2.7 in /opt/conda/lib/python3.10/site-packages (from matplotlib) (2.8.2)\n",
      "Requirement already satisfied: six>=1.5 in /opt/conda/lib/python3.10/site-packages (from python-dateutil>=2.7->matplotlib) (1.16.0)\n",
      "Requirement already satisfied: numpy in /opt/conda/lib/python3.10/site-packages (1.23.5)\n",
      "Requirement already satisfied: seaborn in /opt/conda/lib/python3.10/site-packages (0.12.2)\n",
      "Requirement already satisfied: numpy!=1.24.0,>=1.17 in /opt/conda/lib/python3.10/site-packages (from seaborn) (1.23.5)\n",
      "Requirement already satisfied: pandas>=0.25 in /opt/conda/lib/python3.10/site-packages (from seaborn) (2.0.1)\n",
      "Requirement already satisfied: matplotlib!=3.6.1,>=3.1 in /opt/conda/lib/python3.10/site-packages (from seaborn) (3.7.1)\n",
      "Requirement already satisfied: contourpy>=1.0.1 in /opt/conda/lib/python3.10/site-packages (from matplotlib!=3.6.1,>=3.1->seaborn) (1.0.7)\n",
      "Requirement already satisfied: cycler>=0.10 in /opt/conda/lib/python3.10/site-packages (from matplotlib!=3.6.1,>=3.1->seaborn) (0.11.0)\n",
      "Requirement already satisfied: fonttools>=4.22.0 in /opt/conda/lib/python3.10/site-packages (from matplotlib!=3.6.1,>=3.1->seaborn) (4.39.3)\n",
      "Requirement already satisfied: kiwisolver>=1.0.1 in /opt/conda/lib/python3.10/site-packages (from matplotlib!=3.6.1,>=3.1->seaborn) (1.4.4)\n",
      "Requirement already satisfied: packaging>=20.0 in /opt/conda/lib/python3.10/site-packages (from matplotlib!=3.6.1,>=3.1->seaborn) (23.1)\n",
      "Requirement already satisfied: pillow>=6.2.0 in /opt/conda/lib/python3.10/site-packages (from matplotlib!=3.6.1,>=3.1->seaborn) (9.5.0)\n",
      "Requirement already satisfied: pyparsing>=2.3.1 in /opt/conda/lib/python3.10/site-packages (from matplotlib!=3.6.1,>=3.1->seaborn) (3.0.9)\n",
      "Requirement already satisfied: python-dateutil>=2.7 in /opt/conda/lib/python3.10/site-packages (from matplotlib!=3.6.1,>=3.1->seaborn) (2.8.2)\n",
      "Requirement already satisfied: pytz>=2020.1 in /opt/conda/lib/python3.10/site-packages (from pandas>=0.25->seaborn) (2023.3)\n",
      "Requirement already satisfied: tzdata>=2022.1 in /opt/conda/lib/python3.10/site-packages (from pandas>=0.25->seaborn) (2023.3)\n",
      "Requirement already satisfied: six>=1.5 in /opt/conda/lib/python3.10/site-packages (from python-dateutil>=2.7->matplotlib!=3.6.1,>=3.1->seaborn) (1.16.0)\n",
      "Collecting plotly\n",
      "  Using cached plotly-5.14.1-py2.py3-none-any.whl (15.3 MB)\n",
      "\u001b[31mERROR: Could not find a version that satisfies the requirement as (from versions: none)\u001b[0m\u001b[31m\n",
      "\u001b[0m\u001b[31mERROR: No matching distribution found for as\u001b[0m\u001b[31m\n",
      "\u001b[0m"
     ]
    }
   ],
   "source": [
    "!pip install scikit-learn\n",
    "!pip install pandas\n",
    "!pip install matplotlib\n",
    "!pip install numpy\n",
    "!pip install seaborn\n"
   ]
  },
  {
   "cell_type": "code",
   "execution_count": 17,
   "id": "66b3b1fe-2a6a-48cd-85bf-bc95365b7e73",
   "metadata": {
    "tags": []
   },
   "outputs": [
    {
     "name": "stdout",
     "output_type": "stream",
     "text": [
      "Collecting plotly\n",
      "  Using cached plotly-5.14.1-py2.py3-none-any.whl (15.3 MB)\n",
      "Collecting tenacity>=6.2.0 (from plotly)\n",
      "  Downloading tenacity-8.2.2-py3-none-any.whl (24 kB)\n",
      "Requirement already satisfied: packaging in /opt/conda/lib/python3.10/site-packages (from plotly) (23.1)\n",
      "Installing collected packages: tenacity, plotly\n",
      "Successfully installed plotly-5.14.1 tenacity-8.2.2\n",
      "Note: you may need to restart the kernel to use updated packages.\n"
     ]
    }
   ],
   "source": [
    "pip install plotly\n"
   ]
  },
  {
   "cell_type": "code",
   "execution_count": 4,
   "id": "be7f4cc6-deab-425a-abbb-05c95a280eec",
   "metadata": {
    "tags": []
   },
   "outputs": [
    {
     "name": "stdout",
     "output_type": "stream",
     "text": [
      "+----------+------+---+-------------+--------------+\n",
      "|CustomerID|Gender|Age|Annual_Income|Spending_Score|\n",
      "+----------+------+---+-------------+--------------+\n",
      "|         1|  Male| 19|           15|            39|\n",
      "|         2|  Male| 21|           15|            81|\n",
      "|         3|Female| 20|           16|             6|\n",
      "|         4|Female| 23|           16|            77|\n",
      "|         5|Female| 31|           17|            40|\n",
      "|         6|Female| 22|           17|            76|\n",
      "|         7|Female| 35|           18|             6|\n",
      "|         8|Female| 23|           18|            94|\n",
      "|         9|  Male| 64|           19|             3|\n",
      "|        10|Female| 30|           19|            72|\n",
      "|        11|  Male| 67|           19|            14|\n",
      "|        12|Female| 35|           19|            99|\n",
      "|        13|Female| 58|           20|            15|\n",
      "|        14|Female| 24|           20|            77|\n",
      "|        15|  Male| 37|           20|            13|\n",
      "|        16|  Male| 22|           20|            79|\n",
      "|        17|Female| 35|           21|            35|\n",
      "|        18|  Male| 20|           21|            66|\n",
      "|        19|  Male| 52|           23|            29|\n",
      "|        20|Female| 35|           23|            98|\n",
      "+----------+------+---+-------------+--------------+\n",
      "only showing top 20 rows\n",
      "\n"
     ]
    }
   ],
   "source": [
    "from pyspark.sql import SparkSession\n",
    "spark = SparkSession.builder.appName(\"Mall Customers\").getOrCreate()\n",
    "df = spark.read.csv(\"Mall_Customers.csv\", inferSchema=True,sep=\",\",header=True)\n",
    "df.show()"
   ]
  },
  {
   "cell_type": "code",
   "execution_count": 5,
   "id": "6ef2e6dd-cdb3-4b99-98ca-30fda5919ca7",
   "metadata": {
    "tags": []
   },
   "outputs": [
    {
     "name": "stdout",
     "output_type": "stream",
     "text": [
      "+-------------+--------------+\n",
      "|Annual_Income|Spending_Score|\n",
      "+-------------+--------------+\n",
      "|           15|            39|\n",
      "|           15|            81|\n",
      "|           16|             6|\n",
      "|           16|            77|\n",
      "|           17|            40|\n",
      "|           17|            76|\n",
      "|           18|             6|\n",
      "|           18|            94|\n",
      "|           19|             3|\n",
      "|           19|            72|\n",
      "|           19|            14|\n",
      "|           19|            99|\n",
      "|           20|            15|\n",
      "|           20|            77|\n",
      "|           20|            13|\n",
      "|           20|            79|\n",
      "|           21|            35|\n",
      "|           21|            66|\n",
      "|           23|            29|\n",
      "|           23|            98|\n",
      "+-------------+--------------+\n",
      "only showing top 20 rows\n",
      "\n"
     ]
    }
   ],
   "source": [
    "customers = df.select(\"Annual_Income\",\"Spending_Score\")\n",
    "customers.show()"
   ]
  },
  {
   "cell_type": "code",
   "execution_count": 39,
   "id": "0b9dc168-c369-4ff1-8ac1-bba1e48ac510",
   "metadata": {
    "tags": []
   },
   "outputs": [
    {
     "data": {
      "text/html": [
       "<iframe\n",
       "    scrolling=\"no\"\n",
       "    width=\"420px\"\n",
       "    height=\"545px\"\n",
       "    src=\"iframe_figures/figure_39.html\"\n",
       "    frameborder=\"0\"\n",
       "    allowfullscreen\n",
       "></iframe>\n"
      ]
     },
     "metadata": {},
     "output_type": "display_data"
    }
   ],
   "source": [
    "import plotly.express as px\n",
    "import plotly.io as pio\n",
    "fig = px.scatter(customers.toPandas(), y='Spending_Score', x='Annual_Income')\n",
    "fig.update_layout(\n",
    "    margin=dict(l=20, r=20, t=20, b=20),\n",
    "    paper_bgcolor=\"LightSteelBlue\",\n",
    "    width = 400\n",
    ")\n",
    "fig.show()\n",
    "pio.renderers.default = 'iframe'"
   ]
  },
  {
   "cell_type": "code",
   "execution_count": 27,
   "id": "7299b8c3-3996-4a19-a77b-b903a7e28ca0",
   "metadata": {
    "collapsed": true,
    "jupyter": {
     "outputs_hidden": true
    },
    "tags": []
   },
   "outputs": [
    {
     "name": "stdout",
     "output_type": "stream",
     "text": [
      "+-------------+--------------+-----------+\n",
      "|Annual_Income|Spending_Score|   features|\n",
      "+-------------+--------------+-----------+\n",
      "|           15|            39|[15.0,39.0]|\n",
      "|           15|            81|[15.0,81.0]|\n",
      "|           16|             6| [16.0,6.0]|\n",
      "|           16|            77|[16.0,77.0]|\n",
      "|           17|            40|[17.0,40.0]|\n",
      "|           17|            76|[17.0,76.0]|\n",
      "|           18|             6| [18.0,6.0]|\n",
      "|           18|            94|[18.0,94.0]|\n",
      "|           19|             3| [19.0,3.0]|\n",
      "|           19|            72|[19.0,72.0]|\n",
      "|           19|            14|[19.0,14.0]|\n",
      "|           19|            99|[19.0,99.0]|\n",
      "|           20|            15|[20.0,15.0]|\n",
      "|           20|            77|[20.0,77.0]|\n",
      "|           20|            13|[20.0,13.0]|\n",
      "|           20|            79|[20.0,79.0]|\n",
      "|           21|            35|[21.0,35.0]|\n",
      "|           21|            66|[21.0,66.0]|\n",
      "|           23|            29|[23.0,29.0]|\n",
      "|           23|            98|[23.0,98.0]|\n",
      "+-------------+--------------+-----------+\n",
      "only showing top 20 rows\n",
      "\n"
     ]
    }
   ],
   "source": [
    "from pyspark.ml.feature import VectorAssembler\n",
    "X = customers.columns\n",
    "assembler = VectorAssembler(inputCols=X, outputCol=\"features\")\n",
    "assembled = assembler.transform(customers)\n",
    "assembled.show()\n"
   ]
  },
  {
   "cell_type": "code",
   "execution_count": 51,
   "id": "8ee934fd-8ba0-492d-b6f6-47ba40a35ec7",
   "metadata": {
    "tags": []
   },
   "outputs": [],
   "source": [
    "from pyspark.ml.clustering import KMeans \n",
    "k_means = KMeans(k=5,featuresCol='features')\n",
    "fited = k_means.fit(assembled)\n",
    "transformed = fited.transform(assembled)\n"
   ]
  },
  {
   "cell_type": "code",
   "execution_count": 52,
   "id": "e698dc7c-3984-4d2c-8568-5724ee192702",
   "metadata": {
    "tags": []
   },
   "outputs": [
    {
     "name": "stdout",
     "output_type": "stream",
     "text": [
      "+-----------+\n",
      "|   features|\n",
      "+-----------+\n",
      "|[15.0,39.0]|\n",
      "|[15.0,81.0]|\n",
      "+-----------+\n",
      "only showing top 2 rows\n",
      "\n"
     ]
    }
   ],
   "source": [
    "transformed.select(\"features\").show(2)"
   ]
  },
  {
   "cell_type": "code",
   "execution_count": 53,
   "id": "a66fd33c-4141-40df-a59b-c11c39f50400",
   "metadata": {
    "tags": []
   },
   "outputs": [
    {
     "name": "stdout",
     "output_type": "stream",
     "text": [
      "+----+----+----------+\n",
      "|   x|   y|prediction|\n",
      "+----+----+----------+\n",
      "|15.0|39.0|         1|\n",
      "|15.0|81.0|         3|\n",
      "|16.0| 6.0|         1|\n",
      "|16.0|77.0|         3|\n",
      "|17.0|40.0|         1|\n",
      "|17.0|76.0|         3|\n",
      "|18.0| 6.0|         1|\n",
      "|18.0|94.0|         3|\n",
      "|19.0| 3.0|         1|\n",
      "|19.0|72.0|         3|\n",
      "|19.0|14.0|         1|\n",
      "|19.0|99.0|         3|\n",
      "|20.0|15.0|         1|\n",
      "|20.0|77.0|         3|\n",
      "|20.0|13.0|         1|\n",
      "|20.0|79.0|         3|\n",
      "|21.0|35.0|         1|\n",
      "|21.0|66.0|         3|\n",
      "|23.0|29.0|         1|\n",
      "|23.0|98.0|         3|\n",
      "+----+----+----------+\n",
      "only showing top 20 rows\n",
      "\n"
     ]
    }
   ],
   "source": [
    "from pyspark.ml.functions import vector_to_array\n",
    "features_xy = transformed.withColumn('x',vector_to_array('features')[0])\\\n",
    "          .withColumn('y',vector_to_array('features')[1])\n",
    "\n",
    "features_xy.select(['x','y','prediction']).show()\n"
   ]
  },
  {
   "cell_type": "code",
   "execution_count": 54,
   "id": "fb2ad604-4cc2-47d0-9b7f-d13d21648316",
   "metadata": {
    "tags": []
   },
   "outputs": [
    {
     "data": {
      "text/html": [
       "<iframe\n",
       "    scrolling=\"no\"\n",
       "    width=\"100%\"\n",
       "    height=\"545px\"\n",
       "    src=\"iframe_figures/figure_54.html\"\n",
       "    frameborder=\"0\"\n",
       "    allowfullscreen\n",
       "></iframe>\n"
      ]
     },
     "metadata": {},
     "output_type": "display_data"
    }
   ],
   "source": [
    "fig = px.scatter(features_xy.toPandas(),x='x',y='y', color='prediction')\n",
    "fig.show()\n",
    "fig.update_layout(\n",
    "    margin=dict(l=20, r=20, t=20, b=20),\n",
    "    paper_bgcolor=\"LightSteelBlue\",\n",
    "    width = 800\n",
    ")\n",
    "pio.renderers.default = 'iframe'"
   ]
  },
  {
   "cell_type": "code",
   "execution_count": null,
   "id": "3535674f-ce4d-474e-b057-4e35a5f7ad65",
   "metadata": {},
   "outputs": [],
   "source": []
  }
 ],
 "metadata": {
  "kernelspec": {
   "display_name": "Python 3 (ipykernel)",
   "language": "python",
   "name": "python3"
  },
  "language_info": {
   "codemirror_mode": {
    "name": "ipython",
    "version": 3
   },
   "file_extension": ".py",
   "mimetype": "text/x-python",
   "name": "python",
   "nbconvert_exporter": "python",
   "pygments_lexer": "ipython3",
   "version": "3.10.10"
  }
 },
 "nbformat": 4,
 "nbformat_minor": 5
}
