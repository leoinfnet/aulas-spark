{
 "cells": [
  {
   "cell_type": "code",
   "execution_count": 1,
   "id": "eb5f4a81-cb3b-4ae1-b86c-2110002ff00a",
   "metadata": {
    "tags": []
   },
   "outputs": [
    {
     "name": "stdout",
     "output_type": "stream",
     "text": [
      "+-------+----+------------+--------+------------+-----------+------------------+--------+--------------------+----------------+---+--------+-------------------+----+-----------+----------+-----------+-------+--------------------+\n",
      "|valence|year|acousticness| artists|danceability|duration_ms|            energy|explicit|                  id|instrumentalness|key|liveness|           loudness|mode|       name|popularity|speechiness|  tempo|        artists_song|\n",
      "+-------+----+------------+--------+------------+-----------+------------------+--------+--------------------+----------------+---+--------+-------------------+----+-----------+----------+-----------+-------+--------------------+\n",
      "|  0.285|2000|     0.00239|Coldplay|       0.429|     266773|0.6609999999999999|       0|3AJwUDP919kvQ9Qco...|         1.21E-4| 11|   0.234|             -7.227|   1|     Yellow|        84|     0.0281|173.372|   Coldplay - Yellow|\n",
      "|  0.613|2000|       0.143| OutKast|       0.843|     270507|0.8059999999999999|       1|0I3q5fE6wg7LIfHGn...|             0.0|  4|  0.0771|-5.9460000000000015|   0|Ms. Jackson|        80|      0.269| 94.948|OutKast - Ms. Jac...|\n",
      "+-------+----+------------+--------+------------+-----------+------------------+--------+--------------------+----------------+---+--------+-------------------+----+-----------+----------+-----------+-------+--------------------+\n",
      "only showing top 2 rows\n",
      "\n"
     ]
    }
   ],
   "source": [
    "from pyspark.sql import SparkSession\n",
    "spark = SparkSession.builder.appName(\"Cluster Por Musicas\").getOrCreate()\n",
    "df = spark.read.csv('dados_musicas.csv', header=True, inferSchema=True, sep=';')\n",
    "df.show(2)"
   ]
  },
  {
   "cell_type": "code",
   "execution_count": 3,
   "id": "ae3a2c30-42b7-4a6c-b082-bb8da62c5193",
   "metadata": {
    "collapsed": true,
    "jupyter": {
     "outputs_hidden": true
    },
    "tags": []
   },
   "outputs": [
    {
     "data": {
      "text/plain": [
       "['valence',\n",
       " 'year',\n",
       " 'acousticness',\n",
       " 'danceability',\n",
       " 'duration_ms',\n",
       " 'energy',\n",
       " 'explicit',\n",
       " 'instrumentalness',\n",
       " 'key',\n",
       " 'liveness',\n",
       " 'loudness',\n",
       " 'mode',\n",
       " 'popularity',\n",
       " 'speechiness',\n",
       " 'tempo']"
      ]
     },
     "execution_count": 3,
     "metadata": {},
     "output_type": "execute_result"
    }
   ],
   "source": [
    "X = df.columns\n",
    "X.remove('artists')\n",
    "X.remove('id')\n",
    "X.remove('name')\n",
    "X.remove('artists_song')\n",
    "X\n"
   ]
  },
  {
   "cell_type": "code",
   "execution_count": 6,
   "id": "abb64998-a327-4636-9541-1d219f8ee8cb",
   "metadata": {
    "tags": []
   },
   "outputs": [
    {
     "name": "stdout",
     "output_type": "stream",
     "text": [
      "+-------------------------------------------------------------------------------------------------------------------+\n",
      "|features                                                                                                           |\n",
      "+-------------------------------------------------------------------------------------------------------------------+\n",
      "|[0.285,2000.0,0.00239,0.429,266773.0,0.6609999999999999,0.0,1.21E-4,11.0,0.234,-7.227,1.0,84.0,0.0281,173.372]     |\n",
      "|[0.613,2000.0,0.143,0.843,270507.0,0.8059999999999999,1.0,0.0,4.0,0.0771,-5.9460000000000015,0.0,80.0,0.269,94.948]|\n",
      "+-------------------------------------------------------------------------------------------------------------------+\n",
      "only showing top 2 rows\n",
      "\n"
     ]
    }
   ],
   "source": [
    "from pyspark.ml.feature import VectorAssembler\n",
    "dados_encoded = VectorAssembler(inputCols=X,outputCol='features').transform(df)\n",
    "dados_encoded.select('features').show(2,truncate=False)"
   ]
  },
  {
   "cell_type": "code",
   "execution_count": 9,
   "id": "af2cb619-3f61-4970-a56d-07940fa2c9ba",
   "metadata": {
    "tags": []
   },
   "outputs": [
    {
     "name": "stdout",
     "output_type": "stream",
     "text": [
      "+------------------------------------------------------------------------------------------------------------------------------------------------------------------------------------------------------------------------------------------------------------------------------+\n",
      "|features_scaled                                                                                                                                                                                                                                                               |\n",
      "+------------------------------------------------------------------------------------------------------------------------------------------------------------------------------------------------------------------------------------------------------------------------------+\n",
      "|[1.156596679221045,329.8170613984441,0.008403188822334736,2.5040545743834373,3.7858811737298526,2.980511298201045,0.0,6.070790766862789E-4,3.0696424994844875,1.4832857988766257,-1.672877140523799,2.1095281038799514,7.265838057312001,0.2649447312760731,5.617072632181055]|\n",
      "|[2.4876974188157917,329.8170613984441,0.5027849379053837,4.9205547930192015,3.8388718448349017,3.634329964220942,2.2283306931828584,0.0,1.1162336361761773,0.48872365424524716,-1.3763563688327813,0.0,6.919845768868572,2.536303655276287,3.0762165302374473]                |\n",
      "+------------------------------------------------------------------------------------------------------------------------------------------------------------------------------------------------------------------------------------------------------------------------------+\n",
      "only showing top 2 rows\n",
      "\n"
     ]
    }
   ],
   "source": [
    "from pyspark.ml.feature import StandardScaler\n",
    "scaler = StandardScaler(inputCol='features',outputCol='features_scaled')\n",
    "fited = scaler.fit(dados_encoded)\n",
    "transformed = fited.transform(dados_encoded)\n",
    "transformed.select('features_scaled').show(2,truncate=False)\n"
   ]
  },
  {
   "cell_type": "code",
   "execution_count": 10,
   "id": "796a8a88-38ea-4a35-a954-bcbc61173a67",
   "metadata": {
    "tags": []
   },
   "outputs": [
    {
     "data": {
      "text/plain": [
       "15"
      ]
     },
     "execution_count": 10,
     "metadata": {},
     "output_type": "execute_result"
    }
   ],
   "source": [
    "K = len(X)\n",
    "K"
   ]
  },
  {
   "cell_type": "code",
   "execution_count": 12,
   "id": "9fffa6cc-aba0-4050-8da2-4f75fffaef33",
   "metadata": {
    "tags": []
   },
   "outputs": [],
   "source": [
    "from pyspark.ml.feature import PCA\n",
    "pca = PCA(k=15, inputCol='features_scaled', outputCol='pca_features')\n",
    "fited_pca = pca.fit(transformed)\n",
    "tansformed_pca = fited_pca.transform(transformed)"
   ]
  },
  {
   "cell_type": "code",
   "execution_count": 15,
   "id": "476993f8-e633-4a58-a2a7-06cb4e629b33",
   "metadata": {
    "collapsed": true,
    "jupyter": {
     "outputs_hidden": true
    },
    "tags": []
   },
   "outputs": [
    {
     "name": "stdout",
     "output_type": "stream",
     "text": [
      "+-----------------------------------------------------------------------------------------------------------------------------------------------------------------------------------------------------------------------------------------------------------------------------------------------+\n",
      "|pca_features                                                                                                                                                                                                                                                                                   |\n",
      "+-----------------------------------------------------------------------------------------------------------------------------------------------------------------------------------------------------------------------------------------------------------------------------------------------+\n",
      "|[-34.71004464775706,-165.3684878490618,-11.163498729832531,-139.11374280854452,14.152192300931285,-6.254422223810332,-42.69458485776042,-16.588092631577997,9.66596394758738,-34.9413126526068,28.04969515425075,-225.94998516282251,70.79663239594994,19.121999135662072,3.860924374743731]   |\n",
      "|[-36.49885762774909,-167.85185045616552,-10.729023248906778,-135.90435265671317,13.388401890587135,-3.9729807278308047,-41.47781491317667,-14.242204749538198,9.82679418637608,-34.71320178150799,27.447041739664968,-226.17984121438133,71.60380229148143,18.50769148036035,4.283294987370473]|\n",
      "+-----------------------------------------------------------------------------------------------------------------------------------------------------------------------------------------------------------------------------------------------------------------------------------------------+\n",
      "only showing top 2 rows\n",
      "\n"
     ]
    }
   ],
   "source": [
    "tansformed_pca.select('pca_features').show(2,truncate=False)"
   ]
  },
  {
   "cell_type": "code",
   "execution_count": 16,
   "id": "ec12de1c-b939-4a3e-af5d-d82e4366ed2d",
   "metadata": {
    "tags": []
   },
   "outputs": [
    {
     "data": {
      "text/plain": [
       "DenseVector([0.213, 0.133, 0.0939, 0.0869, 0.0733, 0.0665, 0.0616, 0.0563, 0.0505, 0.0462, 0.0339, 0.0284, 0.0264, 0.0202, 0.0099])"
      ]
     },
     "execution_count": 16,
     "metadata": {},
     "output_type": "execute_result"
    }
   ],
   "source": [
    "fited_pca.explainedVariance"
   ]
  },
  {
   "cell_type": "code",
   "execution_count": 19,
   "id": "0cdcc9f0-cf62-4073-89ae-8aa216c5f7d8",
   "metadata": {
    "tags": []
   },
   "outputs": [
    {
     "data": {
      "text/plain": [
       "100.00000000000004"
      ]
     },
     "execution_count": 19,
     "metadata": {},
     "output_type": "execute_result"
    }
   ],
   "source": [
    "sum(fited_pca.explainedVariance) * 100"
   ]
  },
  {
   "cell_type": "code",
   "execution_count": 21,
   "id": "0d676d44-1597-4816-8a0c-9eabfcea86dd",
   "metadata": {
    "tags": []
   },
   "outputs": [
    {
     "data": {
      "text/plain": [
       "[0.21297354127107346,\n",
       " 0.3459774162295507,\n",
       " 0.43989805678254457,\n",
       " 0.5267820578269105,\n",
       " 0.6001038103117929,\n",
       " 0.666571951365239,\n",
       " 0.7282174213581728,\n",
       " 0.7845103843321024,\n",
       " 0.8350002357002615,\n",
       " 0.8812446547406771,\n",
       " 0.9151737562703051,\n",
       " 0.9435370133056041,\n",
       " 0.9699018569070164,\n",
       " 0.9900947792885583,\n",
       " 1.0000000000000004]"
      ]
     },
     "execution_count": 21,
     "metadata": {},
     "output_type": "execute_result"
    }
   ],
   "source": [
    "lista_valores = [sum(fited_pca.explainedVariance[0:i+1]) for i in range(K)]\n",
    "lista_valores"
   ]
  },
  {
   "cell_type": "code",
   "execution_count": 25,
   "id": "1851a142-238f-4554-a3f1-d1dd568f52d5",
   "metadata": {
    "tags": []
   },
   "outputs": [
    {
     "data": {
      "text/plain": [
       "6"
      ]
     },
     "execution_count": 25,
     "metadata": {},
     "output_type": "execute_result"
    }
   ],
   "source": [
    "import numpy as np\n",
    "k = sum(np.array(lista_valores) < 0.7)\n",
    "k"
   ]
  },
  {
   "cell_type": "code",
   "execution_count": 39,
   "id": "fbe72863-3dfe-47df-a935-59999a363c30",
   "metadata": {
    "tags": []
   },
   "outputs": [],
   "source": [
    "pca = PCA(k=6, inputCol='features_scaled', outputCol='pca_features')\n",
    "fited_pca_2 = pca.fit(transformed)\n",
    "tansformed_pca_final = fited_pca_2.transform(transformed)"
   ]
  },
  {
   "cell_type": "code",
   "execution_count": 35,
   "id": "b7931435-29c3-47fe-b956-0c8a45f3cd19",
   "metadata": {
    "tags": []
   },
   "outputs": [
    {
     "name": "stdout",
     "output_type": "stream",
     "text": [
      "+-----------------------------------------------------------------------------------------------------------------------+\n",
      "|pca_features                                                                                                           |\n",
      "+-----------------------------------------------------------------------------------------------------------------------+\n",
      "|[-34.71004464775706,-165.3684878490618,-11.163498729832531,-139.11374280854452,14.152192300931285,-6.254422223810332]  |\n",
      "|[-36.49885762774909,-167.85185045616552,-10.729023248906778,-135.90435265671317,13.388401890587135,-3.9729807278308047]|\n",
      "+-----------------------------------------------------------------------------------------------------------------------+\n",
      "only showing top 2 rows\n",
      "\n"
     ]
    }
   ],
   "source": [
    "tansformed_pca_final.select(\"pca_features\").show(2,truncate=False)"
   ]
  },
  {
   "cell_type": "code",
   "execution_count": 40,
   "id": "7027dd10-ba30-4f4e-8325-445009b49d81",
   "metadata": {
    "tags": []
   },
   "outputs": [
    {
     "data": {
      "text/plain": [
       "66.6571951365239"
      ]
     },
     "execution_count": 40,
     "metadata": {},
     "output_type": "execute_result"
    }
   ],
   "source": [
    "sum(fited_pca_2.explainedVariance) * 100"
   ]
  },
  {
   "cell_type": "code",
   "execution_count": 42,
   "id": "edf44451-4903-4000-b518-b7f635c625ef",
   "metadata": {
    "tags": []
   },
   "outputs": [],
   "source": [
    "from pyspark.ml import Pipeline\n",
    "pca_pipeline = Pipeline(stages=[\n",
    "    VectorAssembler(inputCols=X,outputCol='features'),\n",
    "    StandardScaler(inputCol='features',outputCol='features_scaled'),\n",
    "    PCA(k=6, inputCol='features_scaled', outputCol='pca_features')\n",
    "])"
   ]
  },
  {
   "cell_type": "code",
   "execution_count": 43,
   "id": "bae0cd74-348f-4ce6-abb4-502662e1dcf3",
   "metadata": {
    "tags": []
   },
   "outputs": [],
   "source": [
    "model_pca_pipeline = pca_pipeline.fit(df)\n",
    "projection = model_pca_pipeline.transform(df)\n"
   ]
  },
  {
   "cell_type": "code",
   "execution_count": 46,
   "id": "dc5b84ad-c1cc-40ea-b045-9ab55165f858",
   "metadata": {
    "tags": []
   },
   "outputs": [
    {
     "name": "stdout",
     "output_type": "stream",
     "text": [
      "+-----------------------------------------------------------------------------------------------------------------------+\n",
      "|pca_features                                                                                                           |\n",
      "+-----------------------------------------------------------------------------------------------------------------------+\n",
      "|[-34.71004464775706,-165.3684878490618,-11.163498729832531,-139.11374280854452,14.152192300931285,-6.254422223810332]  |\n",
      "|[-36.49885762774909,-167.85185045616552,-10.729023248906778,-135.90435265671317,13.388401890587135,-3.9729807278308047]|\n",
      "+-----------------------------------------------------------------------------------------------------------------------+\n",
      "only showing top 2 rows\n",
      "\n"
     ]
    }
   ],
   "source": [
    "projection.select('pca_features').show(2,truncate=False)"
   ]
  },
  {
   "cell_type": "code",
   "execution_count": 47,
   "id": "48fe6062-ffa5-4cca-8d60-04abae126754",
   "metadata": {
    "tags": []
   },
   "outputs": [],
   "source": [
    "from pyspark.ml.clustering import KMeans\n",
    "kmeans = KMeans(k=50, featuresCol='pca_features')\n",
    "fited = kmeans.fit(projection)\n",
    "transformed = fited.transform(projection)"
   ]
  },
  {
   "cell_type": "code",
   "execution_count": 129,
   "id": "a8a0cb78-a741-4798-bbf5-7924b05af6ab",
   "metadata": {
    "tags": []
   },
   "outputs": [
    {
     "name": "stdout",
     "output_type": "stream",
     "text": [
      "+----------------------------------------------------------------------------------+----------+\n",
      "|artists_song                                                                      |prediction|\n",
      "+----------------------------------------------------------------------------------+----------+\n",
      "|Coldplay - Yellow                                                                 |37        |\n",
      "|OutKast - Ms. Jackson                                                             |9         |\n",
      "|Linkin Park - In the End                                                          |0         |\n",
      "|3 Doors Down - Kryptonite                                                         |16        |\n",
      "|Eminem - The Real Slim Shady                                                      |48        |\n",
      "|Disturbed - Down with the Sickness                                                |48        |\n",
      "|Nelly - Ride Wit Me                                                               |1         |\n",
      "|Eminem - Stan                                                                     |22        |\n",
      "|*NSYNC - Bye Bye Bye                                                              |7         |\n",
      "|Britney Spears - Oops!...I Did It Again                                           |1         |\n",
      "|Coldplay - Sparks                                                                 |40        |\n",
      "|Linkin Park - One Step Closer                                                     |17        |\n",
      "|Shaggy - It Wasn't Me                                                             |1         |\n",
      "|Nelly - Country Grammar (Hot Shit)                                                |14        |\n",
      "|The Beatles - Hey Jude - Remastered 2015                                          |0         |\n",
      "|The Beatles - I Want To Hold Your Hand - Remastered 2015                          |43        |\n",
      "|Lifehouse - Hanging By A Moment                                                   |6         |\n",
      "|Linkin Park - Crawling                                                            |6         |\n",
      "|OutKast - So Fresh, So Clean                                                      |9         |\n",
      "|Sam Cooke - (What A) Wonderful World                                              |25        |\n",
      "|Limp Bizkit - Rollin' (Air Raid Vehicle)                                          |14        |\n",
      "|Shaggy - Angel                                                                    |17        |\n",
      "|Eminem - The Way I Am                                                             |22        |\n",
      "|Deftones - Change (In the House of Flies)                                         |37        |\n",
      "|Linkin Park - Papercut                                                            |28        |\n",
      "|*NSYNC - It's Gonna Be Me                                                         |17        |\n",
      "|Britney Spears - My Only Wish (This Year)                                         |45        |\n",
      "|U2 - Beautiful Day                                                                |6         |\n",
      "|Sam Cooke - Bring It On Home to Me                                                |31        |\n",
      "|Ludacris - What's Your Fantasy (Featuring Shawna)                                 |9         |\n",
      "|Godsmack - Awake                                                                  |0         |\n",
      "|Christina Aguilera - This Christmas                                               |45        |\n",
      "|A Perfect Circle - Judith                                                         |23        |\n",
      "|Sam Cooke - You Send Me                                                           |10        |\n",
      "|Eminem - Kill You                                                                 |9         |\n",
      "|Joe - I Wanna Know                                                                |5         |\n",
      "|Limp Bizkit - My Way                                                              |14        |\n",
      "|*NSYNC - This I Promise You                                                       |26        |\n",
      "|Ja Rule - Put It On Me                                                            |9         |\n",
      "|Christina Aguilera - Have Yourself a Merry Little Christmas                       |20        |\n",
      "|Rage Against The Machine - Renegades Of Funk                                      |6         |\n",
      "|OutKast - B.O.B. - Bombs Over Baghdad                                             |44        |\n",
      "|Matchbox Twenty - If You're Gone                                                  |8         |\n",
      "|Erykah Badu - Didn't Cha Know                                                     |25        |\n",
      "|Enya - Only Time                                                                  |40        |\n",
      "|Mindless Self Indulgence - Faggot                                                 |45        |\n",
      "|Eminem - Bitch Please II                                                          |14        |\n",
      "|Mudvayne - Dig                                                                    |7         |\n",
      "|Backstreet Boys - Shape of My Heart                                               |0         |\n",
      "|Joan Sebastian - Me Gustas                                                        |33        |\n",
      "|Radiohead - Treefingers                                                           |21        |\n",
      "|Los Tucanes De Tijuana - Mis Tres Viejas                                          |25        |\n",
      "|Sade - By Your Side                                                               |8         |\n",
      "|Nelly Furtado - I'm Like A Bird                                                   |44        |\n",
      "|Coldplay - Trouble                                                                |23        |\n",
      "|Musiq Soulchild - Just Friends (Sunny)                                            |18        |\n",
      "|Limp Bizkit - Take A Look Around                                                  |5         |\n",
      "|Linkin Park - A Place for My Head                                                 |28        |\n",
      "|Three 6 Mafia - Sippin On Some Syrup (feat. UGK (Underground Kingz) & Project Pat)|48        |\n",
      "|Britney Spears - Stronger                                                         |44        |\n",
      "|Deftones - Passenger                                                              |30        |\n",
      "|Joan Sebastian - Secreto De Amor                                                  |31        |\n",
      "|Phoenix - If I Ever Feel Better                                                   |48        |\n",
      "|Mindless Self Indulgence - Bitches                                                |9         |\n",
      "|Linkin Park - Points of Authority                                                 |7         |\n",
      "|Britney Spears - Lucky                                                            |18        |\n",
      "|The Beatles - She Loves You - Mono / Remastered                                   |44        |\n",
      "|Los Tucanes De Tijuana - El Amor Soñado                                           |17        |\n",
      "|Frédéric Chopin - Chopin: Nocturne No. 20 in C-Sharp Minor, Op. Posth.            |46        |\n",
      "|Nelly - E.I.                                                                      |22        |\n",
      "|Jagged Edge - He Can't Love U                                                     |7         |\n",
      "|Radiohead - Everything In Its Right Place                                         |20        |\n",
      "|A Perfect Circle - 3 Libras                                                       |0         |\n",
      "|JAY-Z - I Just Wanna Love U (Give It 2 Me)                                        |9         |\n",
      "|Coldplay - Don't Panic                                                            |34        |\n",
      "|The Offspring - Want You Bad                                                      |6         |\n",
      "|Joan Sebastian - Un Idiota                                                        |8         |\n",
      "|Linkin Park - Runaway                                                             |44        |\n",
      "|Deftones - Digital Bath                                                           |5         |\n",
      "|Jill Scott - A Long Walk                                                          |8         |\n",
      "|Switchfoot - Dare You To Move                                                     |26        |\n",
      "|Gillian Welch - I'll Fly Away                                                     |10        |\n",
      "|3 Doors Down - Loser                                                              |5         |\n",
      "|Hank Williams - A Country Boy Can Survive                                         |8         |\n",
      "|Jagged Edge - Let's Get Married                                                   |18        |\n",
      "|DAngelo - Untitled (How Does It Feel)                                             |8         |\n",
      "|Musiq Soulchild - Love                                                            |8         |\n",
      "|Enya - A Day Without Rain                                                         |12        |\n",
      "|Coldplay - Shiver                                                                 |6         |\n",
      "|Modest Mouse - Gravity Rides Everything                                           |34        |\n",
      "|Nelly - Batter Up                                                                 |9         |\n",
      "|The Beatles - I Feel Fine - Remastered 2015                                       |44        |\n",
      "|Radiohead - How To Disappear Completely                                           |20        |\n",
      "|Jagged Edge - Promise                                                             |48        |\n",
      "|3 Doors Down - Be Like That                                                       |0         |\n",
      "|The Beatles - Day Tripper - Remastered 2015                                       |17        |\n",
      "|Linkin Park - With You                                                            |37        |\n",
      "|The Beatles - Paperback Writer - Remastered 2015                                  |44        |\n",
      "|Linkin Park - My December                                                         |18        |\n",
      "|Los Cadetes De Linares - Flor de Capomo                                           |25        |\n",
      "+----------------------------------------------------------------------------------+----------+\n",
      "only showing top 100 rows\n",
      "\n"
     ]
    }
   ],
   "source": [
    "transformed.select('artists_song','prediction').show(100, truncate=False)"
   ]
  },
  {
   "cell_type": "code",
   "execution_count": 61,
   "id": "55506942-d768-41ad-8578-d389bde66e68",
   "metadata": {
    "tags": []
   },
   "outputs": [],
   "source": [
    "#Elbow Method\n",
    "elbow_values = []\n",
    "for K in range(2,50):\n",
    "    kmeans = KMeans(k=K, featuresCol='pca_features')\n",
    "    fited = kmeans.fit(projection)\n",
    "    transformed = fited.transform(projection)\n",
    "    elbow_values.append(fited.summary.trainingCost)\n"
   ]
  },
  {
   "cell_type": "code",
   "execution_count": 63,
   "id": "66d02622-881f-4466-aba7-3169ec123886",
   "metadata": {
    "tags": []
   },
   "outputs": [
    {
     "data": {
      "image/png": "[encoded data removed]",
      "text/plain": [
       "<Figure size 640x480 with 1 Axes>"
      ]
     },
     "metadata": {},
     "output_type": "display_data"
    }
   ],
   "source": [
    "import matplotlib.pyplot as plt\n",
    "plt.style.use('fivethirtyeight')\n",
    "plt.plot(range(2,50),elbow_values)\n",
    "plt.xticks(range(2,50))\n",
    "plt.xlabel('Numero de Clusters')\n",
    "plt.ylabel('Cost')\n",
    "plt.show()"
   ]
  },
  {
   "cell_type": "code",
   "execution_count": 64,
   "id": "e5e4d030-18e4-405d-8465-6f02fe509485",
   "metadata": {
    "tags": []
   },
   "outputs": [
    {
     "data": {
      "text/plain": [
       "14"
      ]
     },
     "execution_count": 64,
     "metadata": {},
     "output_type": "execute_result"
    }
   ],
   "source": [
    "from kneed import KneeLocator\n",
    "knee = KneeLocator(range(2,50), elbow_values, curve='convex', direction='decreasing')\n",
    "knee.elbow"
   ]
  },
  {
   "cell_type": "code",
   "execution_count": 65,
   "id": "da2951e1-f8d3-4143-bc68-c3d034950da4",
   "metadata": {
    "tags": []
   },
   "outputs": [],
   "source": [
    "kmeans = KMeans(k=14, featuresCol='pca_features')\n",
    "fited = kmeans.fit(projection)\n",
    "transformed_optimal = fited.transform(projection)\n"
   ]
  },
  {
   "cell_type": "code",
   "execution_count": 66,
   "id": "7d404ed9-1ac0-46ef-bf81-a0616b4332cc",
   "metadata": {
    "tags": []
   },
   "outputs": [],
   "source": [
    "from pyspark.ml.functions import vector_to_array\n",
    "projection_optmal = transformed_optimal.withColumn('x', vector_to_array('pca_features')[0])\\\n",
    "                    .withColumn('y', vector_to_array('pca_features')[1])"
   ]
  },
  {
   "cell_type": "code",
   "execution_count": 67,
   "id": "baede08e-20a0-4ae3-b5ca-ddaade12025b",
   "metadata": {
    "tags": []
   },
   "outputs": [
    {
     "name": "stdout",
     "output_type": "stream",
     "text": [
      "+-------------------+-------------------+----------+\n",
      "|                  x|                  y|prediction|\n",
      "+-------------------+-------------------+----------+\n",
      "| -34.71004464775706| -165.3684878490618|        10|\n",
      "| -36.49885762774909|-167.85185045616552|         9|\n",
      "| -35.46030091694059|-165.99633344577884|         6|\n",
      "| -35.56301325520586|-165.59515096480604|         6|\n",
      "|  -36.5455697490757| -167.3751250580248|         0|\n",
      "| -36.71322229026236|-166.48208483099705|         9|\n",
      "| -36.01324617882224|-166.63514920955342|         9|\n",
      "|-36.542687712104936| -166.9792823483324|         9|\n",
      "| -36.42524900978434|-165.10535006330755|         3|\n",
      "| -35.87207491577076|-166.03098838247914|         3|\n",
      "+-------------------+-------------------+----------+\n",
      "only showing top 10 rows\n",
      "\n"
     ]
    }
   ],
   "source": [
    "projection_optmal.select(['x','y','prediction']).show(10)"
   ]
  },
  {
   "cell_type": "code",
   "execution_count": 72,
   "id": "d3871d04-03c8-445f-b98b-013baa6c6256",
   "metadata": {
    "tags": []
   },
   "outputs": [
    {
     "data": {
      "text/html": [
       "<div>\n",
       "<style scoped>\n",
       "    .dataframe tbody tr th:only-of-type {\n",
       "        vertical-align: middle;\n",
       "    }\n",
       "\n",
       "    .dataframe tbody tr th {\n",
       "        vertical-align: top;\n",
       "    }\n",
       "\n",
       "    .dataframe thead th {\n",
       "        text-align: right;\n",
       "    }\n",
       "</style>\n",
       "<table border=\"1\" class=\"dataframe\">\n",
       "  <thead>\n",
       "    <tr style=\"text-align: right;\">\n",
       "      <th></th>\n",
       "      <th>valence</th>\n",
       "      <th>year</th>\n",
       "      <th>acousticness</th>\n",
       "      <th>artists</th>\n",
       "      <th>danceability</th>\n",
       "      <th>duration_ms</th>\n",
       "      <th>energy</th>\n",
       "      <th>explicit</th>\n",
       "      <th>id</th>\n",
       "      <th>instrumentalness</th>\n",
       "      <th>...</th>\n",
       "      <th>popularity</th>\n",
       "      <th>speechiness</th>\n",
       "      <th>tempo</th>\n",
       "      <th>artists_song</th>\n",
       "      <th>features</th>\n",
       "      <th>features_scaled</th>\n",
       "      <th>pca_features</th>\n",
       "      <th>prediction</th>\n",
       "      <th>x</th>\n",
       "      <th>y</th>\n",
       "    </tr>\n",
       "  </thead>\n",
       "  <tbody>\n",
       "    <tr>\n",
       "      <th>0</th>\n",
       "      <td>0.285</td>\n",
       "      <td>2000</td>\n",
       "      <td>0.00239</td>\n",
       "      <td>Coldplay</td>\n",
       "      <td>0.429</td>\n",
       "      <td>266773</td>\n",
       "      <td>0.661</td>\n",
       "      <td>0</td>\n",
       "      <td>3AJwUDP919kvQ9QcozQPxg</td>\n",
       "      <td>0.000121</td>\n",
       "      <td>...</td>\n",
       "      <td>84</td>\n",
       "      <td>0.0281</td>\n",
       "      <td>173.372</td>\n",
       "      <td>Coldplay - Yellow</td>\n",
       "      <td>[0.285, 2000.0, 0.00239, 0.429, 266773.0, 0.66...</td>\n",
       "      <td>[1.156596679221045, 329.8170613984441, 0.00840...</td>\n",
       "      <td>[-34.71004464775706, -165.3684878490618, -11.1...</td>\n",
       "      <td>10</td>\n",
       "      <td>-34.710045</td>\n",
       "      <td>-165.368488</td>\n",
       "    </tr>\n",
       "    <tr>\n",
       "      <th>1</th>\n",
       "      <td>0.613</td>\n",
       "      <td>2000</td>\n",
       "      <td>0.14300</td>\n",
       "      <td>OutKast</td>\n",
       "      <td>0.843</td>\n",
       "      <td>270507</td>\n",
       "      <td>0.806</td>\n",
       "      <td>1</td>\n",
       "      <td>0I3q5fE6wg7LIfHGngUTnV</td>\n",
       "      <td>0.000000</td>\n",
       "      <td>...</td>\n",
       "      <td>80</td>\n",
       "      <td>0.2690</td>\n",
       "      <td>94.948</td>\n",
       "      <td>OutKast - Ms. Jackson</td>\n",
       "      <td>[0.613, 2000.0, 0.143, 0.843, 270507.0, 0.8059...</td>\n",
       "      <td>[2.4876974188157917, 329.8170613984441, 0.5027...</td>\n",
       "      <td>[-36.49885762774909, -167.85185045616552, -10....</td>\n",
       "      <td>9</td>\n",
       "      <td>-36.498858</td>\n",
       "      <td>-167.851850</td>\n",
       "    </tr>\n",
       "    <tr>\n",
       "      <th>2</th>\n",
       "      <td>0.400</td>\n",
       "      <td>2000</td>\n",
       "      <td>0.00958</td>\n",
       "      <td>Linkin Park</td>\n",
       "      <td>0.556</td>\n",
       "      <td>216880</td>\n",
       "      <td>0.864</td>\n",
       "      <td>0</td>\n",
       "      <td>60a0Rd6pjrkxjPbaKzXjfq</td>\n",
       "      <td>0.000000</td>\n",
       "      <td>...</td>\n",
       "      <td>84</td>\n",
       "      <td>0.0584</td>\n",
       "      <td>105.143</td>\n",
       "      <td>Linkin Park - In the End</td>\n",
       "      <td>[0.4, 2000.0, 0.00958, 0.556, 216880.0, 0.8640...</td>\n",
       "      <td>[1.6232935848716423, 329.8170613984441, 0.0336...</td>\n",
       "      <td>[-35.46030091694059, -165.99633344577884, -11....</td>\n",
       "      <td>6</td>\n",
       "      <td>-35.460301</td>\n",
       "      <td>-165.996333</td>\n",
       "    </tr>\n",
       "    <tr>\n",
       "      <th>3</th>\n",
       "      <td>0.543</td>\n",
       "      <td>2000</td>\n",
       "      <td>0.00664</td>\n",
       "      <td>3 Doors Down</td>\n",
       "      <td>0.545</td>\n",
       "      <td>233933</td>\n",
       "      <td>0.865</td>\n",
       "      <td>0</td>\n",
       "      <td>6ZOBP3NvffbU4SZcrnt1k6</td>\n",
       "      <td>0.000011</td>\n",
       "      <td>...</td>\n",
       "      <td>78</td>\n",
       "      <td>0.0286</td>\n",
       "      <td>99.009</td>\n",
       "      <td>3 Doors Down - Kryptonite</td>\n",
       "      <td>[0.5429999999999999, 2000.0, 0.00664, 0.545, 2...</td>\n",
       "      <td>[2.203621041463254, 329.8170613984441, 0.02334...</td>\n",
       "      <td>[-35.56301325520586, -165.59515096480604, -11....</td>\n",
       "      <td>6</td>\n",
       "      <td>-35.563013</td>\n",
       "      <td>-165.595151</td>\n",
       "    </tr>\n",
       "    <tr>\n",
       "      <th>4</th>\n",
       "      <td>0.760</td>\n",
       "      <td>2000</td>\n",
       "      <td>0.03020</td>\n",
       "      <td>Eminem</td>\n",
       "      <td>0.949</td>\n",
       "      <td>284200</td>\n",
       "      <td>0.661</td>\n",
       "      <td>1</td>\n",
       "      <td>3yfqSUWxFvZELEM4PmlwIR</td>\n",
       "      <td>0.000000</td>\n",
       "      <td>...</td>\n",
       "      <td>80</td>\n",
       "      <td>0.0572</td>\n",
       "      <td>104.504</td>\n",
       "      <td>Eminem - The Real Slim Shady</td>\n",
       "      <td>[0.76, 2000.0, 0.0302, 0.949, 284200.0, 0.6609...</td>\n",
       "      <td>[3.0842578112561205, 329.8170613984441, 0.1061...</td>\n",
       "      <td>[-36.5455697490757, -167.3751250580248, -11.88...</td>\n",
       "      <td>0</td>\n",
       "      <td>-36.545570</td>\n",
       "      <td>-167.375125</td>\n",
       "    </tr>\n",
       "    <tr>\n",
       "      <th>...</th>\n",
       "      <td>...</td>\n",
       "      <td>...</td>\n",
       "      <td>...</td>\n",
       "      <td>...</td>\n",
       "      <td>...</td>\n",
       "      <td>...</td>\n",
       "      <td>...</td>\n",
       "      <td>...</td>\n",
       "      <td>...</td>\n",
       "      <td>...</td>\n",
       "      <td>...</td>\n",
       "      <td>...</td>\n",
       "      <td>...</td>\n",
       "      <td>...</td>\n",
       "      <td>...</td>\n",
       "      <td>...</td>\n",
       "      <td>...</td>\n",
       "      <td>...</td>\n",
       "      <td>...</td>\n",
       "      <td>...</td>\n",
       "      <td>...</td>\n",
       "    </tr>\n",
       "    <tr>\n",
       "      <th>20306</th>\n",
       "      <td>0.187</td>\n",
       "      <td>2020</td>\n",
       "      <td>0.57400</td>\n",
       "      <td>Bazzi</td>\n",
       "      <td>0.445</td>\n",
       "      <td>176250</td>\n",
       "      <td>0.330</td>\n",
       "      <td>0</td>\n",
       "      <td>0PUkanqCGTb6qseXPKOw1F</td>\n",
       "      <td>0.000000</td>\n",
       "      <td>...</td>\n",
       "      <td>69</td>\n",
       "      <td>0.0429</td>\n",
       "      <td>128.025</td>\n",
       "      <td>Bazzi - I Don't Think I'm Okay</td>\n",
       "      <td>[0.187, 2020.0, 0.574, 0.445, 176250.0, 0.33, ...</td>\n",
       "      <td>[0.7588897509274928, 333.1152320124285, 2.0181...</td>\n",
       "      <td>[-33.06646257511095, -167.90227534038993, -12....</td>\n",
       "      <td>1</td>\n",
       "      <td>-33.066463</td>\n",
       "      <td>-167.902275</td>\n",
       "    </tr>\n",
       "    <tr>\n",
       "      <th>20307</th>\n",
       "      <td>0.240</td>\n",
       "      <td>2020</td>\n",
       "      <td>0.81500</td>\n",
       "      <td>Bryson Tiller</td>\n",
       "      <td>0.467</td>\n",
       "      <td>179188</td>\n",
       "      <td>0.429</td>\n",
       "      <td>0</td>\n",
       "      <td>6Iw6fQVKZi0fWtEQBrTFcP</td>\n",
       "      <td>0.000052</td>\n",
       "      <td>...</td>\n",
       "      <td>65</td>\n",
       "      <td>0.0964</td>\n",
       "      <td>148.530</td>\n",
       "      <td>Bryson Tiller - Timeless Interlude</td>\n",
       "      <td>[0.24, 2020.0, 0.815, 0.467, 179188.0, 0.429, ...</td>\n",
       "      <td>[0.9739761509229853, 333.1152320124285, 2.8655...</td>\n",
       "      <td>[-33.25250737401926, -168.0927830743737, -11.5...</td>\n",
       "      <td>1</td>\n",
       "      <td>-33.252507</td>\n",
       "      <td>-168.092783</td>\n",
       "    </tr>\n",
       "    <tr>\n",
       "      <th>20308</th>\n",
       "      <td>0.466</td>\n",
       "      <td>2020</td>\n",
       "      <td>0.31000</td>\n",
       "      <td>Fleet Foxes</td>\n",
       "      <td>0.562</td>\n",
       "      <td>253613</td>\n",
       "      <td>0.686</td>\n",
       "      <td>0</td>\n",
       "      <td>308prODCCD0O660tIktbUi</td>\n",
       "      <td>0.022500</td>\n",
       "      <td>...</td>\n",
       "      <td>66</td>\n",
       "      <td>0.0249</td>\n",
       "      <td>103.054</td>\n",
       "      <td>Fleet Foxes - Sunblind</td>\n",
       "      <td>[0.466, 2020.0, 0.31, 0.562, 253613.0, 0.68599...</td>\n",
       "      <td>[1.8911370263754634, 333.1152320124285, 1.0899...</td>\n",
       "      <td>[-34.33830500625214, -167.07584728873724, -12....</td>\n",
       "      <td>12</td>\n",
       "      <td>-34.338305</td>\n",
       "      <td>-167.075847</td>\n",
       "    </tr>\n",
       "    <tr>\n",
       "      <th>20309</th>\n",
       "      <td>0.522</td>\n",
       "      <td>2020</td>\n",
       "      <td>0.20400</td>\n",
       "      <td>Gunna</td>\n",
       "      <td>0.598</td>\n",
       "      <td>230600</td>\n",
       "      <td>0.472</td>\n",
       "      <td>1</td>\n",
       "      <td>2f8y4CuG57UJEmkG3ujd0D</td>\n",
       "      <td>0.000015</td>\n",
       "      <td>...</td>\n",
       "      <td>66</td>\n",
       "      <td>0.2580</td>\n",
       "      <td>120.080</td>\n",
       "      <td>Gunna - NASTY GIRL / ON CAMERA</td>\n",
       "      <td>[0.522, 2020.0, 0.204, 0.598, 230600.0, 0.472,...</td>\n",
       "      <td>[2.118398128257493, 333.1152320124285, 0.71725...</td>\n",
       "      <td>[-34.8052192074759, -168.98141212295508, -11.1...</td>\n",
       "      <td>2</td>\n",
       "      <td>-34.805219</td>\n",
       "      <td>-168.981412</td>\n",
       "    </tr>\n",
       "    <tr>\n",
       "      <th>20310</th>\n",
       "      <td>0.195</td>\n",
       "      <td>2020</td>\n",
       "      <td>0.00998</td>\n",
       "      <td>Eminem</td>\n",
       "      <td>0.671</td>\n",
       "      <td>337147</td>\n",
       "      <td>0.623</td>\n",
       "      <td>1</td>\n",
       "      <td>5SiZJoLXp3WOl3J4C8IK0d</td>\n",
       "      <td>0.000008</td>\n",
       "      <td>...</td>\n",
       "      <td>70</td>\n",
       "      <td>0.3080</td>\n",
       "      <td>75.055</td>\n",
       "      <td>Eminem - Darkness</td>\n",
       "      <td>[0.195, 2020.0, 0.00998, 0.6709999999999999, 3...</td>\n",
       "      <td>[0.7913556226249256, 333.1152320124285, 0.0350...</td>\n",
       "      <td>[-35.71361109732097, -168.59581306897383, -8.6...</td>\n",
       "      <td>2</td>\n",
       "      <td>-35.713611</td>\n",
       "      <td>-168.595813</td>\n",
       "    </tr>\n",
       "  </tbody>\n",
       "</table>\n",
       "<p>20311 rows × 25 columns</p>\n",
       "</div>"
      ],
      "text/plain": [
       "       valence  year  acousticness        artists  danceability  duration_ms   \n",
       "0        0.285  2000       0.00239       Coldplay         0.429       266773  \\\n",
       "1        0.613  2000       0.14300        OutKast         0.843       270507   \n",
       "2        0.400  2000       0.00958    Linkin Park         0.556       216880   \n",
       "3        0.543  2000       0.00664   3 Doors Down         0.545       233933   \n",
       "4        0.760  2000       0.03020         Eminem         0.949       284200   \n",
       "...        ...   ...           ...            ...           ...          ...   \n",
       "20306    0.187  2020       0.57400          Bazzi         0.445       176250   \n",
       "20307    0.240  2020       0.81500  Bryson Tiller         0.467       179188   \n",
       "20308    0.466  2020       0.31000    Fleet Foxes         0.562       253613   \n",
       "20309    0.522  2020       0.20400          Gunna         0.598       230600   \n",
       "20310    0.195  2020       0.00998         Eminem         0.671       337147   \n",
       "\n",
       "       energy  explicit                      id  instrumentalness  ...   \n",
       "0       0.661         0  3AJwUDP919kvQ9QcozQPxg          0.000121  ...  \\\n",
       "1       0.806         1  0I3q5fE6wg7LIfHGngUTnV          0.000000  ...   \n",
       "2       0.864         0  60a0Rd6pjrkxjPbaKzXjfq          0.000000  ...   \n",
       "3       0.865         0  6ZOBP3NvffbU4SZcrnt1k6          0.000011  ...   \n",
       "4       0.661         1  3yfqSUWxFvZELEM4PmlwIR          0.000000  ...   \n",
       "...       ...       ...                     ...               ...  ...   \n",
       "20306   0.330         0  0PUkanqCGTb6qseXPKOw1F          0.000000  ...   \n",
       "20307   0.429         0  6Iw6fQVKZi0fWtEQBrTFcP          0.000052  ...   \n",
       "20308   0.686         0  308prODCCD0O660tIktbUi          0.022500  ...   \n",
       "20309   0.472         1  2f8y4CuG57UJEmkG3ujd0D          0.000015  ...   \n",
       "20310   0.623         1  5SiZJoLXp3WOl3J4C8IK0d          0.000008  ...   \n",
       "\n",
       "       popularity  speechiness    tempo                        artists_song   \n",
       "0              84       0.0281  173.372                   Coldplay - Yellow  \\\n",
       "1              80       0.2690   94.948               OutKast - Ms. Jackson   \n",
       "2              84       0.0584  105.143            Linkin Park - In the End   \n",
       "3              78       0.0286   99.009           3 Doors Down - Kryptonite   \n",
       "4              80       0.0572  104.504        Eminem - The Real Slim Shady   \n",
       "...           ...          ...      ...                                 ...   \n",
       "20306          69       0.0429  128.025      Bazzi - I Don't Think I'm Okay   \n",
       "20307          65       0.0964  148.530  Bryson Tiller - Timeless Interlude   \n",
       "20308          66       0.0249  103.054              Fleet Foxes - Sunblind   \n",
       "20309          66       0.2580  120.080      Gunna - NASTY GIRL / ON CAMERA   \n",
       "20310          70       0.3080   75.055                   Eminem - Darkness   \n",
       "\n",
       "                                                features   \n",
       "0      [0.285, 2000.0, 0.00239, 0.429, 266773.0, 0.66...  \\\n",
       "1      [0.613, 2000.0, 0.143, 0.843, 270507.0, 0.8059...   \n",
       "2      [0.4, 2000.0, 0.00958, 0.556, 216880.0, 0.8640...   \n",
       "3      [0.5429999999999999, 2000.0, 0.00664, 0.545, 2...   \n",
       "4      [0.76, 2000.0, 0.0302, 0.949, 284200.0, 0.6609...   \n",
       "...                                                  ...   \n",
       "20306  [0.187, 2020.0, 0.574, 0.445, 176250.0, 0.33, ...   \n",
       "20307  [0.24, 2020.0, 0.815, 0.467, 179188.0, 0.429, ...   \n",
       "20308  [0.466, 2020.0, 0.31, 0.562, 253613.0, 0.68599...   \n",
       "20309  [0.522, 2020.0, 0.204, 0.598, 230600.0, 0.472,...   \n",
       "20310  [0.195, 2020.0, 0.00998, 0.6709999999999999, 3...   \n",
       "\n",
       "                                         features_scaled   \n",
       "0      [1.156596679221045, 329.8170613984441, 0.00840...  \\\n",
       "1      [2.4876974188157917, 329.8170613984441, 0.5027...   \n",
       "2      [1.6232935848716423, 329.8170613984441, 0.0336...   \n",
       "3      [2.203621041463254, 329.8170613984441, 0.02334...   \n",
       "4      [3.0842578112561205, 329.8170613984441, 0.1061...   \n",
       "...                                                  ...   \n",
       "20306  [0.7588897509274928, 333.1152320124285, 2.0181...   \n",
       "20307  [0.9739761509229853, 333.1152320124285, 2.8655...   \n",
       "20308  [1.8911370263754634, 333.1152320124285, 1.0899...   \n",
       "20309  [2.118398128257493, 333.1152320124285, 0.71725...   \n",
       "20310  [0.7913556226249256, 333.1152320124285, 0.0350...   \n",
       "\n",
       "                                            pca_features  prediction   \n",
       "0      [-34.71004464775706, -165.3684878490618, -11.1...          10  \\\n",
       "1      [-36.49885762774909, -167.85185045616552, -10....           9   \n",
       "2      [-35.46030091694059, -165.99633344577884, -11....           6   \n",
       "3      [-35.56301325520586, -165.59515096480604, -11....           6   \n",
       "4      [-36.5455697490757, -167.3751250580248, -11.88...           0   \n",
       "...                                                  ...         ...   \n",
       "20306  [-33.06646257511095, -167.90227534038993, -12....           1   \n",
       "20307  [-33.25250737401926, -168.0927830743737, -11.5...           1   \n",
       "20308  [-34.33830500625214, -167.07584728873724, -12....          12   \n",
       "20309  [-34.8052192074759, -168.98141212295508, -11.1...           2   \n",
       "20310  [-35.71361109732097, -168.59581306897383, -8.6...           2   \n",
       "\n",
       "               x           y  \n",
       "0     -34.710045 -165.368488  \n",
       "1     -36.498858 -167.851850  \n",
       "2     -35.460301 -165.996333  \n",
       "3     -35.563013 -165.595151  \n",
       "4     -36.545570 -167.375125  \n",
       "...          ...         ...  \n",
       "20306 -33.066463 -167.902275  \n",
       "20307 -33.252507 -168.092783  \n",
       "20308 -34.338305 -167.075847  \n",
       "20309 -34.805219 -168.981412  \n",
       "20310 -35.713611 -168.595813  \n",
       "\n",
       "[20311 rows x 25 columns]"
      ]
     },
     "execution_count": 72,
     "metadata": {},
     "output_type": "execute_result"
    }
   ],
   "source": [
    "projection_optmal.toPandas()"
   ]
  },
  {
   "cell_type": "code",
   "execution_count": 74,
   "id": "cc8882b7-1760-4cfe-9eee-67f68db4de31",
   "metadata": {
    "tags": []
   },
   "outputs": [
    {
     "data": {
      "text/html": [
       "<iframe\n",
       "    scrolling=\"no\"\n",
       "    width=\"100%\"\n",
       "    height=\"545px\"\n",
       "    src=\"iframe_figures/figure_74.html\"\n",
       "    frameborder=\"0\"\n",
       "    allowfullscreen\n",
       "></iframe>\n"
      ]
     },
     "metadata": {},
     "output_type": "display_data"
    }
   ],
   "source": [
    "import plotly.io as pio\n",
    "import plotly.express as px\n",
    "fig = px.scatter(projection_optmal.toPandas(),x='x', y='y',color='prediction',hover_data=['artists_song'])\n",
    "fig.show()\n",
    "pio.renderers.default = 'iframe'"
   ]
  },
  {
   "cell_type": "code",
   "execution_count": 130,
   "id": "88e50883-0add-4792-b866-0e801d7c219c",
   "metadata": {
    "tags": []
   },
   "outputs": [],
   "source": [
    "#nome_musica = 'Disturbed - Down with the Sickness'\n",
    "#nome_musica =  'Linkin Park - Crawling'\n",
    "#nome_musica = 'Eminem - Stan'\n",
    "nome_musica = 'Los Cadetes De Linares - Flor de Capomo'"
   ]
  },
  {
   "cell_type": "code",
   "execution_count": 131,
   "id": "977fa12b-0c61-4ae2-9f5b-db4b3ea3e237",
   "metadata": {
    "tags": []
   },
   "outputs": [
    {
     "data": {
      "text/plain": [
       "4"
      ]
     },
     "execution_count": 131,
     "metadata": {},
     "output_type": "execute_result"
    }
   ],
   "source": [
    "\n",
    "cluster_musica = projection_optmal.filter(projection_optmal.artists_song == nome_musica)\\\n",
    ".select('prediction').collect()[0][0]\n",
    "cluster_musica"
   ]
  },
  {
   "cell_type": "code",
   "execution_count": 132,
   "id": "62b0d7cc-1a77-422e-8802-b0662d26b429",
   "metadata": {
    "tags": []
   },
   "outputs": [
    {
     "name": "stdout",
     "output_type": "stream",
     "text": [
      "+--------------------+--------------------+----------+\n",
      "|        artists_song|                  id|prediction|\n",
      "+--------------------+--------------------+----------+\n",
      "|Sam Cooke - (What...|2g2GkH3vZHk4lWzBj...|         4|\n",
      "|Sam Cooke - Bring...|0WVTQp3SOCuMr08jh...|         4|\n",
      "|Sam Cooke - You S...|5aivQ5CkXXHJoMLy0...|         4|\n",
      "|Erykah Badu - Did...|7pv80uUHfocFqfTyt...|         4|\n",
      "|Joan Sebastian - ...|7jtbRKtXtGtsJOBMa...|         4|\n",
      "+--------------------+--------------------+----------+\n",
      "only showing top 5 rows\n",
      "\n"
     ]
    }
   ],
   "source": [
    "musicas_recomendadas = projection_optmal.filter(projection_optmal.prediction == cluster_musica )\n",
    "musicas_recomendadas.select('artists_song', 'id', 'prediction').show(5)"
   ]
  },
  {
   "cell_type": "code",
   "execution_count": 133,
   "id": "79dba27b-f01d-4df7-8da6-fcb8fc3bff60",
   "metadata": {
    "tags": []
   },
   "outputs": [
    {
     "data": {
      "text/plain": [
       "DenseVector([-34.0208, -166.0017, -13.3256, -136.1397, 12.9398, -5.3313])"
      ]
     },
     "execution_count": 133,
     "metadata": {},
     "output_type": "execute_result"
    }
   ],
   "source": [
    "componentes_musica = musicas_recomendadas.filter(musicas_recomendadas.artists_song == nome_musica)\\\n",
    ".select(\"pca_features\").collect()[0][0]\n",
    "componentes_musica"
   ]
  },
  {
   "cell_type": "code",
   "execution_count": 125,
   "id": "83ee3efa-255f-42dc-a05d-6a36479b8ee3",
   "metadata": {
    "tags": []
   },
   "outputs": [],
   "source": [
    "from scipy.spatial.distance import euclidean \n",
    "def calcula_distancia(value):\n",
    "    return euclidean(componentes_musica,value)\n"
   ]
  },
  {
   "cell_type": "code",
   "execution_count": 134,
   "id": "e6a19ae1-f996-4a52-992c-bdf0d5613d56",
   "metadata": {
    "tags": []
   },
   "outputs": [],
   "source": [
    "import pyspark.sql.functions as f\n",
    "from pyspark.sql.types import FloatType\n",
    "\n",
    "udf_calcula_distancia = f.udf(calcula_distancia, FloatType())\n",
    "musicas_recomendadas_dist = musicas_recomendadas.withColumn('dist',udf_calcula_distancia('pca_features'))\n",
    "\n"
   ]
  },
  {
   "cell_type": "code",
   "execution_count": 135,
   "id": "5c8aa216-5014-478d-b09b-f1a40bc46078",
   "metadata": {
    "tags": []
   },
   "outputs": [],
   "source": [
    "#musicas_recomendadas_dist.select('artists_song','dist').show(truncate=False)\n",
    "musicas_recomendadas_dist.sort('dist', ascending=True).select('artists_song','dist')\n",
    "recomendadas = spark.createDataFrame(musicas_recomendadas_dist.sort('dist', ascending=True).take(15)).select('id', 'artists_song','dist')"
   ]
  },
  {
   "cell_type": "code",
   "execution_count": 136,
   "id": "d59803f9-7211-4d86-80eb-4eb3268d5e15",
   "metadata": {
    "tags": []
   },
   "outputs": [
    {
     "name": "stdout",
     "output_type": "stream",
     "text": [
      "+----------------------+------------------------------------------------------------------------+------------------+\n",
      "|id                    |artists_song                                                            |dist              |\n",
      "+----------------------+------------------------------------------------------------------------+------------------+\n",
      "|2c6j8sFoaNDbMfolV1eJFp|Los Cadetes De Linares - Flor de Capomo                                 |0.0               |\n",
      "|15TITugVC8RrpLctHXOqT8|Johnny Cash - Daddy Sang Bass                                           |0.496715247631073 |\n",
      "|1NnBOnFPFdYJdauawQt5bN|Michael Bublé - Save the Last Dance for Me                              |0.517471969127655 |\n",
      "|4eH47ofIZbrbKwmLJSu5hb|Waylon Jennings - Are You Sure Hank Done It This Way                    |0.5197324752807617|\n",
      "|7FYQ5lnm0aSw5gughyiDkr|Waylon Jennings - I'm a Ramblin' Man                                    |0.5594388842582703|\n",
      "|2tGgIA04KdLTRRGY5Ndw5w|The Countdown Kids - Old MacDonald Had a Farm                           |0.5692256689071655|\n",
      "|1Hwa4ULKX8lrKMgFpgS5Ph|La Arrolladora Banda El Limón De Rene Camacho - Sobre Mis Pies          |0.5917381048202515|\n",
      "|2pBLpt9CZUy7FA2lTVEFlx|Joan Sebastian - No Es De Madera                                        |0.6200302839279175|\n",
      "|1woGeMgjOIAF2OnH6qGGhX|Waylon Jennings - Don't You Think This Outlaw Bit's Done Got out of Hand|0.6415131688117981|\n",
      "|0euhtxv2yxdJIx5kZfGOln|Grupo Laberinto - El Quema Tierras                                      |0.6595964431762695|\n",
      "|404MXA5pRTh93BrxPeGrQp|La Arrolladora Banda El Limón De Rene Camacho - De Ti Exclusivo         |0.6598204970359802|\n",
      "|0NpvdCO506uO58D4AbKzki|Frankie Valli & The Four Seasons - Sherry                               |0.6939368844032288|\n",
      "|3kw8I0dqXA3QsR3nlabcgI|Tierra Cali - Maldito Amor                                              |0.7067556977272034|\n",
      "|208bYsadJ56km31IENM2qS|Kenny Chesney - No Shoes, No Shirt, No Problems                         |0.7370637059211731|\n",
      "|1Cbw6WMknPdct4PeOuUzJH|Juan Luis Guerra 4.40 - Si Tu No Bailas Conmigo                         |0.7510227560997009|\n",
      "+----------------------+------------------------------------------------------------------------+------------------+\n",
      "\n"
     ]
    }
   ],
   "source": [
    "recomendadas.show(truncate=False)"
   ]
  },
  {
   "cell_type": "code",
   "execution_count": null,
   "id": "3f4597cf-6ea8-4f76-bb28-9110a51b9ae6",
   "metadata": {},
   "outputs": [],
   "source": []
  }
 ],
 "metadata": {
  "kernelspec": {
   "display_name": "Python 3 (ipykernel)",
   "language": "python",
   "name": "python3"
  },
  "language_info": {
   "codemirror_mode": {
    "name": "ipython",
    "version": 3
   },
   "file_extension": ".py",
   "mimetype": "text/x-python",
   "name": "python",
   "nbconvert_exporter": "python",
   "pygments_lexer": "ipython3",
   "version": "3.10.10"
  }
 },
 "nbformat": 4,
 "nbformat_minor": 5
}
