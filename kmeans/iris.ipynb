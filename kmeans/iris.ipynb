{
 "cells": [
  {
   "cell_type": "code",
   "execution_count": 47,
   "id": "1a62995d-59b0-46eb-a3f8-62501e193bc5",
   "metadata": {
    "tags": []
   },
   "outputs": [
    {
     "name": "stdout",
     "output_type": "stream",
     "text": [
      "Collecting plotly\n",
      "  Using cached plotly-5.14.1-py2.py3-none-any.whl (15.3 MB)\n",
      "Collecting tenacity>=6.2.0 (from plotly)\n",
      "  Using cached tenacity-8.2.2-py3-none-any.whl (24 kB)\n",
      "Requirement already satisfied: packaging in /opt/conda/lib/python3.10/site-packages (from plotly) (23.1)\n",
      "Installing collected packages: tenacity, plotly\n",
      "Successfully installed plotly-5.14.1 tenacity-8.2.2\n",
      "Note: you may need to restart the kernel to use updated packages.\n"
     ]
    }
   ],
   "source": [
    "pip install plotly"
   ]
  },
  {
   "cell_type": "code",
   "execution_count": 1,
   "id": "2c403e87-338b-4fa9-9f9b-fc1c2cd1b5f0",
   "metadata": {
    "tags": []
   },
   "outputs": [],
   "source": [
    "from pyspark.sql import SparkSession\n",
    "spark = SparkSession.builder.appName(\"Iris Kmean\").getOrCreate()"
   ]
  },
  {
   "cell_type": "code",
   "execution_count": 3,
   "id": "8f7fa695-6755-4ca6-85ed-c1a6a5b2d7e3",
   "metadata": {
    "tags": []
   },
   "outputs": [],
   "source": [
    "from sklearn.datasets import load_iris\n",
    "import pandas as pd\n",
    "df_iris = load_iris(as_frame=True)\n",
    "pd_df_iris = pd.DataFrame(df_iris.data, columns = df_iris.feature_names)\n",
    "pd_df_iris['target'] = pd.Series(df_iris.target)\n",
    "df = spark.createDataFrame(pd_df_iris)\n"
   ]
  },
  {
   "cell_type": "code",
   "execution_count": 4,
   "id": "27dcfe99-41df-4c38-87bd-3abcccaa9d1c",
   "metadata": {
    "tags": []
   },
   "outputs": [
    {
     "name": "stdout",
     "output_type": "stream",
     "text": [
      "+-----------------+----------------+-----------------+----------------+\n",
      "|sepal length (cm)|sepal width (cm)|petal length (cm)|petal width (cm)|\n",
      "+-----------------+----------------+-----------------+----------------+\n",
      "|              5.1|             3.5|              1.4|             0.2|\n",
      "|              4.9|             3.0|              1.4|             0.2|\n",
      "|              4.7|             3.2|              1.3|             0.2|\n",
      "|              4.6|             3.1|              1.5|             0.2|\n",
      "|              5.0|             3.6|              1.4|             0.2|\n",
      "|              5.4|             3.9|              1.7|             0.4|\n",
      "|              4.6|             3.4|              1.4|             0.3|\n",
      "|              5.0|             3.4|              1.5|             0.2|\n",
      "|              4.4|             2.9|              1.4|             0.2|\n",
      "|              4.9|             3.1|              1.5|             0.1|\n",
      "|              5.4|             3.7|              1.5|             0.2|\n",
      "|              4.8|             3.4|              1.6|             0.2|\n",
      "|              4.8|             3.0|              1.4|             0.1|\n",
      "|              4.3|             3.0|              1.1|             0.1|\n",
      "|              5.8|             4.0|              1.2|             0.2|\n",
      "|              5.7|             4.4|              1.5|             0.4|\n",
      "|              5.4|             3.9|              1.3|             0.4|\n",
      "|              5.1|             3.5|              1.4|             0.3|\n",
      "|              5.7|             3.8|              1.7|             0.3|\n",
      "|              5.1|             3.8|              1.5|             0.3|\n",
      "+-----------------+----------------+-----------------+----------------+\n",
      "only showing top 20 rows\n",
      "\n"
     ]
    }
   ],
   "source": [
    "df = df.drop(df['target'])\n",
    "df.show()\n"
   ]
  },
  {
   "cell_type": "code",
   "execution_count": 5,
   "id": "42ec93de-73ca-42b4-acb1-7be80eb4dda5",
   "metadata": {
    "collapsed": true,
    "jupyter": {
     "outputs_hidden": true
    },
    "tags": []
   },
   "outputs": [
    {
     "name": "stdout",
     "output_type": "stream",
     "text": [
      "+-----------------+\n",
      "|         features|\n",
      "+-----------------+\n",
      "|[5.1,3.5,1.4,0.2]|\n",
      "|[4.9,3.0,1.4,0.2]|\n",
      "|[4.7,3.2,1.3,0.2]|\n",
      "|[4.6,3.1,1.5,0.2]|\n",
      "|[5.0,3.6,1.4,0.2]|\n",
      "|[5.4,3.9,1.7,0.4]|\n",
      "|[4.6,3.4,1.4,0.3]|\n",
      "|[5.0,3.4,1.5,0.2]|\n",
      "|[4.4,2.9,1.4,0.2]|\n",
      "|[4.9,3.1,1.5,0.1]|\n",
      "|[5.4,3.7,1.5,0.2]|\n",
      "|[4.8,3.4,1.6,0.2]|\n",
      "|[4.8,3.0,1.4,0.1]|\n",
      "|[4.3,3.0,1.1,0.1]|\n",
      "|[5.8,4.0,1.2,0.2]|\n",
      "|[5.7,4.4,1.5,0.4]|\n",
      "|[5.4,3.9,1.3,0.4]|\n",
      "|[5.1,3.5,1.4,0.3]|\n",
      "|[5.7,3.8,1.7,0.3]|\n",
      "|[5.1,3.8,1.5,0.3]|\n",
      "+-----------------+\n",
      "only showing top 20 rows\n",
      "\n"
     ]
    }
   ],
   "source": [
    "from pyspark.ml.feature import VectorAssembler\n",
    "X = df.columns\n",
    "assembler = VectorAssembler(inputCols=X,outputCol='features')\n",
    "assembled_data = assembler.transform(df)\n",
    "assembled_data.select('features').show()\n"
   ]
  },
  {
   "cell_type": "code",
   "execution_count": 20,
   "id": "03f8d8d6-d2f2-46dd-b211-1b932b77e476",
   "metadata": {
    "tags": []
   },
   "outputs": [],
   "source": [
    "from pyspark.ml.clustering import KMeans\n",
    "kmeans = KMeans(k=5, featuresCol='features')\n",
    "fited = kmeans.fit(assembled_data)\n",
    "transformed = fited.transform(assembled_data)"
   ]
  },
  {
   "cell_type": "code",
   "execution_count": 10,
   "id": "4a72d4cc-873e-4d51-b802-7ebf9b944337",
   "metadata": {
    "tags": []
   },
   "outputs": [
    {
     "data": {
      "text/plain": [
       "26.32669382578206"
      ]
     },
     "execution_count": 10,
     "metadata": {},
     "output_type": "execute_result"
    }
   ],
   "source": [
    "fited.summary.trainingCost"
   ]
  },
  {
   "cell_type": "code",
   "execution_count": 21,
   "id": "4fc93a30-2905-437e-9778-befb96d28f90",
   "metadata": {
    "tags": []
   },
   "outputs": [
    {
     "name": "stdout",
     "output_type": "stream",
     "text": [
      "+----------+-----------------+\n",
      "|prediction|         features|\n",
      "+----------+-----------------+\n",
      "|         0|[5.1,3.5,1.4,0.2]|\n",
      "|         0|[4.9,3.0,1.4,0.2]|\n",
      "|         0|[4.7,3.2,1.3,0.2]|\n",
      "|         0|[4.6,3.1,1.5,0.2]|\n",
      "|         0|[5.0,3.6,1.4,0.2]|\n",
      "+----------+-----------------+\n",
      "only showing top 5 rows\n",
      "\n"
     ]
    }
   ],
   "source": [
    "transformed.select(\"prediction\",\"features\").show(5)"
   ]
  },
  {
   "cell_type": "code",
   "execution_count": 13,
   "id": "ddd7dbec-214e-4560-93c7-43513c783056",
   "metadata": {
    "tags": []
   },
   "outputs": [],
   "source": [
    "#Elbow Method\n",
    "costs = []\n",
    "for K in range(2,20):\n",
    "    kmeans = KMeans(k=K, featuresCol='features')\n",
    "    fited = kmeans.fit(assembled_data)\n",
    "    transformed = fited.transform(assembled_data)\n",
    "    costs.append(fited.summary.trainingCost)"
   ]
  },
  {
   "cell_type": "code",
   "execution_count": 15,
   "id": "0b46cd6c-1815-4187-8082-fb2543c146af",
   "metadata": {},
   "outputs": [
    {
     "name": "stderr",
     "output_type": "stream",
     "text": [
      "Exception ignored in: <function JavaWrapper.__del__ at 0x7f1993d78a60>\n",
      "Traceback (most recent call last):\n",
      "  File \"/usr/local/spark/python/pyspark/ml/wrapper.py\", line 53, in __del__\n",
      "    if SparkContext._active_spark_context and self._java_obj is not None:\n",
      "AttributeError: 'KMeans' object has no attribute '_java_obj'\n"
     ]
    },
    {
     "data": {
      "image/png": "[encoded data removed]",
      "text/plain": [
       "<Figure size 640x480 with 1 Axes>"
      ]
     },
     "metadata": {},
     "output_type": "display_data"
    }
   ],
   "source": [
    "import matplotlib.pyplot as plt\n",
    "plt.style.use('fivethirtyeight')\n",
    "plt.plot(range(2,20),costs)\n",
    "plt.xticks(range(2,20))\n",
    "plt.xlabel('Numero de Clusters')\n",
    "plt.ylabel('Cost')\n",
    "plt.show()"
   ]
  },
  {
   "cell_type": "code",
   "execution_count": 16,
   "id": "b2f9df55-d77f-4a89-9120-37281182a08f",
   "metadata": {
    "tags": []
   },
   "outputs": [
    {
     "name": "stdout",
     "output_type": "stream",
     "text": [
      "Collecting kneed\n",
      "  Downloading kneed-0.8.3-py3-none-any.whl (10 kB)\n",
      "Requirement already satisfied: numpy>=1.14.2 in /opt/conda/lib/python3.10/site-packages (from kneed) (1.23.5)\n",
      "Requirement already satisfied: scipy>=1.0.0 in /opt/conda/lib/python3.10/site-packages (from kneed) (1.10.1)\n",
      "Installing collected packages: kneed\n",
      "Successfully installed kneed-0.8.3\n",
      "Note: you may need to restart the kernel to use updated packages.\n"
     ]
    }
   ],
   "source": [
    "pip install kneed"
   ]
  },
  {
   "cell_type": "code",
   "execution_count": 19,
   "id": "f96beda0-1e82-4189-9906-217d40a6404d",
   "metadata": {
    "tags": []
   },
   "outputs": [
    {
     "data": {
      "text/plain": [
       "5"
      ]
     },
     "execution_count": 19,
     "metadata": {},
     "output_type": "execute_result"
    }
   ],
   "source": [
    "from kneed import KneeLocator\n",
    "knee = KneeLocator(range(2,20), costs, curve='convex', direction='decreasing')\n",
    "knee.elbow"
   ]
  },
  {
   "cell_type": "code",
   "execution_count": 22,
   "id": "dcd1c11e-df30-419e-94c7-e913168f5c71",
   "metadata": {
    "tags": []
   },
   "outputs": [],
   "source": [
    "#Silhouette Method\n",
    "from pyspark.ml.evaluation import ClusteringEvaluator\n",
    "evaluator = ClusteringEvaluator(featuresCol='features', metricName='silhouette', distanceMeasure='squaredEuclidean')\n"
   ]
  },
  {
   "cell_type": "code",
   "execution_count": 23,
   "id": "dbbd894a-5860-4dc8-b844-55033df5e512",
   "metadata": {
    "tags": []
   },
   "outputs": [],
   "source": [
    "silhouette_scores = []\n",
    "for K in range(2,20):\n",
    "    kmeans = KMeans(k=K, featuresCol='features')\n",
    "    fited = kmeans.fit(assembled_data)\n",
    "    transformed = fited.transform(assembled_data)\n",
    "    evaluation_score = evaluator.evaluate(transformed)\n",
    "    silhouette_scores.append(evaluation_score)"
   ]
  },
  {
   "cell_type": "code",
   "execution_count": 25,
   "id": "0201b759-726b-4a5f-bd6d-14a78b5bfa25",
   "metadata": {
    "tags": []
   },
   "outputs": [
    {
     "data": {
      "image/png": "[encoded data removed]",
      "text/plain": [
       "<Figure size 1000x800 with 1 Axes>"
      ]
     },
     "metadata": {},
     "output_type": "display_data"
    }
   ],
   "source": [
    "fig, ax = plt.subplots(1,1,figsize=(10,8))\n",
    "ax.plot(range(2,20),silhouette_scores)\n",
    "ax.set_xlabel('Numero de Clusters')\n",
    "ax.set_ylabel('Silhouette Score')\n",
    "fig.show()"
   ]
  },
  {
   "cell_type": "code",
   "execution_count": 26,
   "id": "0ca3d121-af1a-4502-83b4-4e878a7914f9",
   "metadata": {
    "tags": []
   },
   "outputs": [],
   "source": [
    "from pyspark.ml.clustering import KMeans\n",
    "kmeans_3 = KMeans(k=3, featuresCol='features')\n",
    "fited_3 = kmeans_3.fit(assembled_data)\n",
    "transformed_3 = fited_3.transform(assembled_data)"
   ]
  },
  {
   "cell_type": "code",
   "execution_count": 27,
   "id": "eca9a32d-4675-4713-a4dc-5fe0f9762886",
   "metadata": {
    "tags": []
   },
   "outputs": [],
   "source": [
    "from pyspark.ml.clustering import KMeans\n",
    "kmeans_5 = KMeans(k=5, featuresCol='features')\n",
    "fited_5 = kmeans_5.fit(assembled_data)\n",
    "transformed_5 = fited_5.transform(assembled_data)"
   ]
  },
  {
   "cell_type": "code",
   "execution_count": 34,
   "id": "dad06840-7aa2-4049-8cf5-230717f434fc",
   "metadata": {
    "tags": []
   },
   "outputs": [],
   "source": [
    "from  pyspark.ml.feature import PCA \n",
    "pca_3 = PCA(k=2,inputCol='features', outputCol='features_pca')\n",
    "pca_model_3 = pca_3.fit(transformed_3)\n",
    "pca_transformed_3 = pca_model_3.transform(transformed_3)\n"
   ]
  },
  {
   "cell_type": "code",
   "execution_count": 40,
   "id": "d0c01e4f-0859-4e16-ae89-eb5584206a7b",
   "metadata": {
    "tags": []
   },
   "outputs": [],
   "source": [
    "from  pyspark.ml.feature import PCA \n",
    "pca_5 = PCA(k=2,inputCol='features', outputCol='features_pca')\n",
    "pca_model_5 = pca_5.fit(transformed_5)\n",
    "pca_transformed_5 = pca_model_5.transform(transformed_5)\n"
   ]
  },
  {
   "cell_type": "code",
   "execution_count": 41,
   "id": "036f42cd-b146-4906-9438-d912c87bc47c",
   "metadata": {
    "tags": []
   },
   "outputs": [
    {
     "name": "stdout",
     "output_type": "stream",
     "text": [
      "+----------------------------------------+-----------------+----------+\n",
      "|features_pca                            |features         |prediction|\n",
      "+----------------------------------------+-----------------+----------+\n",
      "|[-2.818239506639469,-5.646349823412796] |[5.1,3.5,1.4,0.2]|0         |\n",
      "|[-2.78822344531468,-5.149951351762914]  |[4.9,3.0,1.4,0.2]|0         |\n",
      "|[-2.6133745635497094,-5.182003150742136]|[4.7,3.2,1.3,0.2]|0         |\n",
      "|[-2.757022276967596,-5.008653597575779] |[4.6,3.1,1.5,0.2]|0         |\n",
      "|[-2.7736485960544757,-5.653707089762614]|[5.0,3.6,1.4,0.2]|0         |\n",
      "|[-3.2215054997645134,-6.06828302589061] |[5.4,3.9,1.7,0.4]|0         |\n",
      "|[-2.681827381868397,-5.237491192299125] |[4.6,3.4,1.4,0.3]|0         |\n",
      "|[-2.876220159462373,-5.490337536526023] |[5.0,3.4,1.5,0.2]|0         |\n",
      "|[-2.615982400828453,-4.74864082264099]  |[4.4,2.9,1.4,0.2]|0         |\n",
      "|[-2.829609334788052,-5.2131783309535775]|[4.9,3.1,1.5,0.1]|0         |\n",
      "|[-2.99541804195715,-5.972021475476269]  |[5.4,3.7,1.5,0.2]|0         |\n",
      "|[-2.889609901700283,-5.34168251598907]  |[4.8,3.4,1.6,0.2]|0         |\n",
      "|[-2.7162558664209877,-5.091840576625977]|[4.8,3.0,1.4,0.1]|0         |\n",
      "|[-2.2785613887433533,-4.815557989821313]|[4.3,3.0,1.1,0.1]|0         |\n",
      "|[-2.857614742666976,-6.50571721326527]  |[5.8,4.0,1.2,0.2]|0         |\n",
      "|[-3.116326099077873,-6.665014907228347] |[5.7,4.4,1.5,0.4]|0         |\n",
      "|[-2.8788372573845793,-6.137632091008952]|[5.4,3.9,1.3,0.4]|0         |\n",
      "|[-2.8540684263546243,-5.638801721421049]|[5.1,3.5,1.4,0.3]|0         |\n",
      "|[-3.302544808991426,-6.199791615789906] |[5.7,3.8,1.7,0.3]|0         |\n",
      "|[-2.9143787327302375,-5.840512885576971]|[5.1,3.8,1.5,0.3]|0         |\n",
      "+----------------------------------------+-----------------+----------+\n",
      "only showing top 20 rows\n",
      "\n"
     ]
    }
   ],
   "source": [
    "pca_transformed_5.select('features_pca','features','prediction').show(truncate=False)"
   ]
  },
  {
   "cell_type": "code",
   "execution_count": 42,
   "id": "7aee18c7-7d98-4be6-830b-5fbd73dab68d",
   "metadata": {
    "tags": []
   },
   "outputs": [
    {
     "name": "stdout",
     "output_type": "stream",
     "text": [
      "+-----------------------------------------+-----------------+----------+\n",
      "|features_pca                             |features         |prediction|\n",
      "+-----------------------------------------+-----------------+----------+\n",
      "|[-2.818239506639469,-5.646349823412795]  |[5.1,3.5,1.4,0.2]|0         |\n",
      "|[-2.78822344531468,-5.149951351762914]   |[4.9,3.0,1.4,0.2]|0         |\n",
      "|[-2.6133745635497094,-5.182003150742137] |[4.7,3.2,1.3,0.2]|0         |\n",
      "|[-2.757022276967596,-5.008653597575777]  |[4.6,3.1,1.5,0.2]|0         |\n",
      "|[-2.7736485960544757,-5.653707089762613] |[5.0,3.6,1.4,0.2]|0         |\n",
      "|[-3.2215054997645134,-6.068283025890609] |[5.4,3.9,1.7,0.4]|0         |\n",
      "|[-2.6818273818683966,-5.2374911922991245]|[4.6,3.4,1.4,0.3]|0         |\n",
      "|[-2.876220159462373,-5.490337536526023]  |[5.0,3.4,1.5,0.2]|0         |\n",
      "|[-2.615982400828453,-4.74864082264099]   |[4.4,2.9,1.4,0.2]|0         |\n",
      "|[-2.829609334788052,-5.2131783309535775] |[4.9,3.1,1.5,0.1]|0         |\n",
      "|[-2.9954180419571497,-5.972021475476267] |[5.4,3.7,1.5,0.2]|0         |\n",
      "|[-2.8896099017002825,-5.341682515989069] |[4.8,3.4,1.6,0.2]|0         |\n",
      "|[-2.7162558664209877,-5.091840576625975] |[4.8,3.0,1.4,0.1]|0         |\n",
      "|[-2.2785613887433533,-4.815557989821311] |[4.3,3.0,1.1,0.1]|0         |\n",
      "|[-2.857614742666976,-6.505717213265269]  |[5.8,4.0,1.2,0.2]|0         |\n",
      "|[-3.116326099077873,-6.665014907228346]  |[5.7,4.4,1.5,0.4]|0         |\n",
      "|[-2.8788372573845793,-6.1376320910089515]|[5.4,3.9,1.3,0.4]|0         |\n",
      "|[-2.8540684263546243,-5.638801721421048] |[5.1,3.5,1.4,0.3]|0         |\n",
      "|[-3.302544808991426,-6.199791615789905]  |[5.7,3.8,1.7,0.3]|0         |\n",
      "|[-2.9143787327302375,-5.84051288557697]  |[5.1,3.8,1.5,0.3]|0         |\n",
      "+-----------------------------------------+-----------------+----------+\n",
      "only showing top 20 rows\n",
      "\n"
     ]
    }
   ],
   "source": [
    "pca_transformed_3.select('features_pca','features','prediction').show(truncate=False)"
   ]
  },
  {
   "cell_type": "code",
   "execution_count": 44,
   "id": "c24d5a4e-edce-4983-ba97-5286e64b10ad",
   "metadata": {
    "tags": []
   },
   "outputs": [
    {
     "name": "stdout",
     "output_type": "stream",
     "text": [
      "+-------------------+-------------------+----------+\n",
      "|                  x|                  y|prediction|\n",
      "+-------------------+-------------------+----------+\n",
      "| -2.818239506639469| -5.646349823412795|         0|\n",
      "|  -2.78822344531468| -5.149951351762914|         0|\n",
      "|-2.6133745635497094| -5.182003150742137|         0|\n",
      "| -2.757022276967596| -5.008653597575777|         0|\n",
      "|-2.7736485960544757| -5.653707089762613|         0|\n",
      "|-3.2215054997645134| -6.068283025890609|         0|\n",
      "|-2.6818273818683966|-5.2374911922991245|         0|\n",
      "| -2.876220159462373| -5.490337536526023|         0|\n",
      "| -2.615982400828453|  -4.74864082264099|         0|\n",
      "| -2.829609334788052|-5.2131783309535775|         0|\n",
      "|-2.9954180419571497| -5.972021475476267|         0|\n",
      "|-2.8896099017002825| -5.341682515989069|         0|\n",
      "|-2.7162558664209877| -5.091840576625975|         0|\n",
      "|-2.2785613887433533| -4.815557989821311|         0|\n",
      "| -2.857614742666976| -6.505717213265269|         0|\n",
      "| -3.116326099077873| -6.665014907228346|         0|\n",
      "|-2.8788372573845793|-6.1376320910089515|         0|\n",
      "|-2.8540684263546243| -5.638801721421048|         0|\n",
      "| -3.302544808991426| -6.199791615789905|         0|\n",
      "|-2.9143787327302375|  -5.84051288557697|         0|\n",
      "+-------------------+-------------------+----------+\n",
      "only showing top 20 rows\n",
      "\n"
     ]
    }
   ],
   "source": [
    "from pyspark.ml.functions import vector_to_array\n",
    "pca_features_xy_3 = pca_transformed_3.withColumn('x',vector_to_array('features_pca')[0])\\\n",
    "                    .withColumn('y',vector_to_array('features_pca')[1])\n",
    "pca_features_xy_3.select(['x','y', 'prediction']).show()"
   ]
  },
  {
   "cell_type": "code",
   "execution_count": 45,
   "id": "85940bce-d42b-408f-9fa3-c8d0520c01ab",
   "metadata": {
    "tags": []
   },
   "outputs": [
    {
     "name": "stdout",
     "output_type": "stream",
     "text": [
      "+-------------------+-------------------+----------+\n",
      "|                  x|                  y|prediction|\n",
      "+-------------------+-------------------+----------+\n",
      "| -2.818239506639469| -5.646349823412796|         0|\n",
      "|  -2.78822344531468| -5.149951351762914|         0|\n",
      "|-2.6133745635497094| -5.182003150742136|         0|\n",
      "| -2.757022276967596| -5.008653597575779|         0|\n",
      "|-2.7736485960544757| -5.653707089762614|         0|\n",
      "|-3.2215054997645134|  -6.06828302589061|         0|\n",
      "| -2.681827381868397| -5.237491192299125|         0|\n",
      "| -2.876220159462373| -5.490337536526023|         0|\n",
      "| -2.615982400828453|  -4.74864082264099|         0|\n",
      "| -2.829609334788052|-5.2131783309535775|         0|\n",
      "|  -2.99541804195715| -5.972021475476269|         0|\n",
      "| -2.889609901700283|  -5.34168251598907|         0|\n",
      "|-2.7162558664209877| -5.091840576625977|         0|\n",
      "|-2.2785613887433533| -4.815557989821313|         0|\n",
      "| -2.857614742666976|  -6.50571721326527|         0|\n",
      "| -3.116326099077873| -6.665014907228347|         0|\n",
      "|-2.8788372573845793| -6.137632091008952|         0|\n",
      "|-2.8540684263546243| -5.638801721421049|         0|\n",
      "| -3.302544808991426| -6.199791615789906|         0|\n",
      "|-2.9143787327302375| -5.840512885576971|         0|\n",
      "+-------------------+-------------------+----------+\n",
      "only showing top 20 rows\n",
      "\n"
     ]
    }
   ],
   "source": [
    "pca_features_xy_5 = pca_transformed_5.withColumn('x',vector_to_array('features_pca')[0])\\\n",
    "                    .withColumn('y',vector_to_array('features_pca')[1])\n",
    "pca_features_xy_5.select(['x','y', 'prediction']).show()"
   ]
  },
  {
   "cell_type": "code",
   "execution_count": 52,
   "id": "658f9bb8-0319-4114-8e7a-2bd812d1b844",
   "metadata": {
    "tags": []
   },
   "outputs": [
    {
     "data": {
      "text/html": [
       "<iframe\n",
       "    scrolling=\"no\"\n",
       "    width=\"100%\"\n",
       "    height=\"545px\"\n",
       "    src=\"iframe_figures/figure_52.html\"\n",
       "    frameborder=\"0\"\n",
       "    allowfullscreen\n",
       "></iframe>\n"
      ]
     },
     "metadata": {},
     "output_type": "display_data"
    }
   ],
   "source": [
    "import plotly.io as pio\n",
    "import plotly.express as px\n",
    "fig = px.scatter(pca_features_xy_3.toPandas(),x='x',y='y',color='prediction')\n",
    "fig.show()\n",
    "pio.renderers.default = 'iframe'\n"
   ]
  },
  {
   "cell_type": "code",
   "execution_count": 53,
   "id": "237b5815-f8f1-4069-bcda-bf0d754f91f6",
   "metadata": {
    "tags": []
   },
   "outputs": [
    {
     "data": {
      "text/html": [
       "<iframe\n",
       "    scrolling=\"no\"\n",
       "    width=\"100%\"\n",
       "    height=\"545px\"\n",
       "    src=\"iframe_figures/figure_53.html\"\n",
       "    frameborder=\"0\"\n",
       "    allowfullscreen\n",
       "></iframe>\n"
      ]
     },
     "metadata": {},
     "output_type": "display_data"
    }
   ],
   "source": [
    "fig = px.scatter(pca_features_xy_5.toPandas(),x='x',y='y',color='prediction')\n",
    "fig.show()\n",
    "pio.renderers.default = 'iframe'\n"
   ]
  },
  {
   "cell_type": "code",
   "execution_count": null,
   "id": "b4c93f2c-72ae-4203-8e89-fea1e8e68e1b",
   "metadata": {},
   "outputs": [],
   "source": []
  }
 ],
 "metadata": {
  "kernelspec": {
   "display_name": "Python 3 (ipykernel)",
   "language": "python",
   "name": "python3"
  },
  "language_info": {
   "codemirror_mode": {
    "name": "ipython",
    "version": 3
   },
   "file_extension": ".py",
   "mimetype": "text/x-python",
   "name": "python",
   "nbconvert_exporter": "python",
   "pygments_lexer": "ipython3",
   "version": "3.10.10"
  }
 },
 "nbformat": 4,
 "nbformat_minor": 5
}
