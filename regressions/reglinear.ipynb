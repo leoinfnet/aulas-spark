{
 "cells": [
  {
   "cell_type": "code",
   "execution_count": 3,
   "id": "ea0a4c1d-7c46-4003-a711-32a11d63ef26",
   "metadata": {
    "tags": []
   },
   "outputs": [],
   "source": [
    "from pyspark.sql import SparkSession\n",
    "spark= SparkSession.builder.appName(\"REG LINEAR\").getOrCreate()\n",
    "dados = spark.read.json('imoveis.json')"
   ]
  },
  {
   "cell_type": "code",
   "execution_count": 4,
   "id": "63259ff9-eb1b-4f0a-b734-c02ae831ddb5",
   "metadata": {
    "tags": []
   },
   "outputs": [
    {
     "name": "stdout",
     "output_type": "stream",
     "text": [
      "+--------------------------+-----------------------------------------------------------------------------------------------------------------------------------------------------------------+\n",
      "|ident                     |listing                                                                                                                                                          |\n",
      "+--------------------------+-----------------------------------------------------------------------------------------------------------------------------------------------------------------+\n",
      "|{775564-BOJSMVON, Website}|{{Rio de Janeiro, {-22.909429, -43.413557}, Taquara, Zona Oeste}, {0, 0, 0, 1, 0, 62, 0, 0, 62}, {45000, {150, 0}}, {Outros, Residencial}}                       |\n",
      "|{660895-AUENKNYY, Website}|{{Rio de Janeiro, {-22.869698, -43.509141}, Santíssimo, Zona Oeste}, {1, 2, 0, 1, 0, 0, 0, 0, 44}, {45000, {120, 0}}, {Apartamento, Residencial}}                |\n",
      "|{751522-JESYFEQL, Website}|{{Rio de Janeiro, {-22.986927, -43.646786}, Pedra de Guaratiba, Zona Oeste}, {0, 0, 0, 0, 0, 132, 0, 0, 132}, {50000, {100, 0}}, {Outros, Residencial}}          |\n",
      "|{714052-GAAEWYKS, Website}|{{Rio de Janeiro, {-22.881977, -43.330818}, Cascadura, Zona Norte}, {1, 0, 0, 0, 0, 32, 3, 0, 32}, {45000, {468, 346}}, {Outros, Comercial}}                     |\n",
      "|{568886-ZIBFOMCC, Website}|{{Rio de Janeiro, {-23.027653, -43.480742}, Recreio dos Bandeirantes, Zona Oeste}, {2, 3, 3, 1, 1, 0, 2, 4, 60}, {50000, {400, 120}}, {Apartamento, Residencial}}|\n",
      "|{526755-OBLTYTEN, Website}|{{Rio de Janeiro, {-22.966059, -43.571183}, Guaratiba, Zona Oeste}, {0, 0, 0, 0, 0, 200, 0, 0, 200}, {50000, {0, null}}, {Outros, Residencial}}                  |\n",
      "|{593569-CJLMNFGW, Website}|{{Rio de Janeiro, {-22.939028, -43.3453}, Freguesia (Jacarepaguá), Zona Oeste}, {1, 0, 0, 0, 0, 25, 2, 0, 25}, {50000, {801, 211}}, {Outros, Comercial}}         |\n",
      "|{989181-RYJOLMCU, Website}|{{Rio de Janeiro, {-22.841509, -43.278855}, Penha, Zona Norte}, {1, 0, 0, 0, 0, 23, 0, 0, 23}, {50000, {230, null}}, {Outros, Comercial}}                        |\n",
      "|{145372-EZKAKSWM, Website}|{{Rio de Janeiro, {-22.835609, -43.392253}, Ricardo de Albuquerque, Zona Norte}, {0, 0, 0, 0, 0, 60, 0, 0, 60}, {45000, {null, null}}, {Outros, Comercial}}      |\n",
      "|{792086-NWNQTDYL, Website}|{{Rio de Janeiro, {-22.885306, -43.253044}, Jacarezinho, Zona Norte}, {1, 1, 0, 1, 0, 35, 0, 0, 33}, {45336, {0, 0}}, {Apartamento, Residencial}}                |\n",
      "+--------------------------+-----------------------------------------------------------------------------------------------------------------------------------------------------------------+\n",
      "only showing top 10 rows\n",
      "\n"
     ]
    }
   ],
   "source": [
    "dados.show(10,truncate=False)"
   ]
  },
  {
   "cell_type": "code",
   "execution_count": 5,
   "id": "42c9f625-0b4c-4cee-9d4e-2138c99eb5c3",
   "metadata": {
    "tags": []
   },
   "outputs": [
    {
     "data": {
      "text/plain": [
       "73615"
      ]
     },
     "execution_count": 5,
     "metadata": {},
     "output_type": "execute_result"
    }
   ],
   "source": [
    "dados.count()"
   ]
  },
  {
   "cell_type": "code",
   "execution_count": 6,
   "id": "f058ac61-b1fb-4ed3-9cd7-ea41ca23ba56",
   "metadata": {
    "tags": []
   },
   "outputs": [
    {
     "name": "stdout",
     "output_type": "stream",
     "text": [
      "+---------------+--------------------------------------------------------------------------------+-------------------------------+---------------------+--------------------------+\n",
      "|customerID     |address                                                                         |features                       |prices               |types                     |\n",
      "+---------------+--------------------------------------------------------------------------------+-------------------------------+---------------------+--------------------------+\n",
      "|775564-BOJSMVON|{Rio de Janeiro, {-22.909429, -43.413557}, Taquara, Zona Oeste}                 |{0, 0, 0, 1, 0, 62, 0, 0, 62}  |{45000, {150, 0}}    |{Outros, Residencial}     |\n",
      "|660895-AUENKNYY|{Rio de Janeiro, {-22.869698, -43.509141}, Santíssimo, Zona Oeste}              |{1, 2, 0, 1, 0, 0, 0, 0, 44}   |{45000, {120, 0}}    |{Apartamento, Residencial}|\n",
      "|751522-JESYFEQL|{Rio de Janeiro, {-22.986927, -43.646786}, Pedra de Guaratiba, Zona Oeste}      |{0, 0, 0, 0, 0, 132, 0, 0, 132}|{50000, {100, 0}}    |{Outros, Residencial}     |\n",
      "|714052-GAAEWYKS|{Rio de Janeiro, {-22.881977, -43.330818}, Cascadura, Zona Norte}               |{1, 0, 0, 0, 0, 32, 3, 0, 32}  |{45000, {468, 346}}  |{Outros, Comercial}       |\n",
      "|568886-ZIBFOMCC|{Rio de Janeiro, {-23.027653, -43.480742}, Recreio dos Bandeirantes, Zona Oeste}|{2, 3, 3, 1, 1, 0, 2, 4, 60}   |{50000, {400, 120}}  |{Apartamento, Residencial}|\n",
      "|526755-OBLTYTEN|{Rio de Janeiro, {-22.966059, -43.571183}, Guaratiba, Zona Oeste}               |{0, 0, 0, 0, 0, 200, 0, 0, 200}|{50000, {0, null}}   |{Outros, Residencial}     |\n",
      "|593569-CJLMNFGW|{Rio de Janeiro, {-22.939028, -43.3453}, Freguesia (Jacarepaguá), Zona Oeste}   |{1, 0, 0, 0, 0, 25, 2, 0, 25}  |{50000, {801, 211}}  |{Outros, Comercial}       |\n",
      "|989181-RYJOLMCU|{Rio de Janeiro, {-22.841509, -43.278855}, Penha, Zona Norte}                   |{1, 0, 0, 0, 0, 23, 0, 0, 23}  |{50000, {230, null}} |{Outros, Comercial}       |\n",
      "|145372-EZKAKSWM|{Rio de Janeiro, {-22.835609, -43.392253}, Ricardo de Albuquerque, Zona Norte}  |{0, 0, 0, 0, 0, 60, 0, 0, 60}  |{45000, {null, null}}|{Outros, Comercial}       |\n",
      "|792086-NWNQTDYL|{Rio de Janeiro, {-22.885306, -43.253044}, Jacarezinho, Zona Norte}             |{1, 1, 0, 1, 0, 35, 0, 0, 33}  |{45336, {0, 0}}      |{Apartamento, Residencial}|\n",
      "+---------------+--------------------------------------------------------------------------------+-------------------------------+---------------------+--------------------------+\n",
      "only showing top 10 rows\n",
      "\n"
     ]
    }
   ],
   "source": [
    "dados.select('ident.customerID', 'listing.*').show(10,truncate=False)"
   ]
  },
  {
   "cell_type": "code",
   "execution_count": 7,
   "id": "dd41f7ca-8708-4b93-99b7-2e9421beaa93",
   "metadata": {
    "tags": []
   },
   "outputs": [
    {
     "name": "stdout",
     "output_type": "stream",
     "text": [
      "+---------------+-----------+-----------+---------+--------+------+-------------+------+----------+---------+---------------+-----------+--------------+------------------------+------------------------+------------+-----+-----+----+\n",
      "|customerID     |unit       |usage      |bathrooms|bedrooms|floors|parkingSpaces|suites|totalAreas|unitFloor|unitsOnTheFloor|usableAreas|city          |location                |neighborhood            |zone        |price|condo|iptu|\n",
      "+---------------+-----------+-----------+---------+--------+------+-------------+------+----------+---------+---------------+-----------+--------------+------------------------+------------------------+------------+-----+-----+----+\n",
      "|775564-BOJSMVON|Outros     |Residencial|0        |0       |0     |1            |0     |62        |0        |0              |62         |Rio de Janeiro|{-22.909429, -43.413557}|Taquara                 |Zona Oeste  |45000|150  |0   |\n",
      "|660895-AUENKNYY|Apartamento|Residencial|1        |2       |0     |1            |0     |0         |0        |0              |44         |Rio de Janeiro|{-22.869698, -43.509141}|Santíssimo              |Zona Oeste  |45000|120  |0   |\n",
      "|751522-JESYFEQL|Outros     |Residencial|0        |0       |0     |0            |0     |132       |0        |0              |132        |Rio de Janeiro|{-22.986927, -43.646786}|Pedra de Guaratiba      |Zona Oeste  |50000|100  |0   |\n",
      "|714052-GAAEWYKS|Outros     |Comercial  |1        |0       |0     |0            |0     |32        |3        |0              |32         |Rio de Janeiro|{-22.881977, -43.330818}|Cascadura               |Zona Norte  |45000|468  |346 |\n",
      "|568886-ZIBFOMCC|Apartamento|Residencial|2        |3       |3     |1            |1     |0         |2        |4              |60         |Rio de Janeiro|{-23.027653, -43.480742}|Recreio dos Bandeirantes|Zona Oeste  |50000|400  |120 |\n",
      "|526755-OBLTYTEN|Outros     |Residencial|0        |0       |0     |0            |0     |200       |0        |0              |200        |Rio de Janeiro|{-22.966059, -43.571183}|Guaratiba               |Zona Oeste  |50000|0    |null|\n",
      "|593569-CJLMNFGW|Outros     |Comercial  |1        |0       |0     |0            |0     |25        |2        |0              |25         |Rio de Janeiro|{-22.939028, -43.3453}  |Freguesia (Jacarepaguá) |Zona Oeste  |50000|801  |211 |\n",
      "|989181-RYJOLMCU|Outros     |Comercial  |1        |0       |0     |0            |0     |23        |0        |0              |23         |Rio de Janeiro|{-22.841509, -43.278855}|Penha                   |Zona Norte  |50000|230  |null|\n",
      "|145372-EZKAKSWM|Outros     |Comercial  |0        |0       |0     |0            |0     |60        |0        |0              |60         |Rio de Janeiro|{-22.835609, -43.392253}|Ricardo de Albuquerque  |Zona Norte  |45000|null |null|\n",
      "|792086-NWNQTDYL|Apartamento|Residencial|1        |1       |0     |1            |0     |35        |0        |0              |33         |Rio de Janeiro|{-22.885306, -43.253044}|Jacarezinho             |Zona Norte  |45336|0    |0   |\n",
      "|339622-MNZGLKTZ|Outros     |Residencial|0        |0       |0     |0            |0     |120       |0        |0              |120        |Rio de Janeiro|{-22.990425, -43.635505}|Guaratiba               |Zona Oeste  |45000|0    |0   |\n",
      "|952338-SVULQMXR|Outros     |Residencial|0        |0       |0     |0            |0     |468       |0        |0              |468        |Rio de Janeiro|{-22.877982, -43.651456}|Santa Cruz              |Zona Oeste  |45000|0    |0   |\n",
      "|570439-LDICQOXZ|Outros     |Residencial|0        |0       |0     |0            |0     |180       |1        |0              |180        |Rio de Janeiro|{-22.998183, -43.504337}|Vargem Grande           |Zona Oeste  |50000|0    |0   |\n",
      "|684023-YTBNKLLO|Outros     |Residencial|0        |0       |0     |0            |0     |128       |0        |0              |128        |Rio de Janeiro|{-22.843794, -43.512464}|Bangu                   |Zona Oeste  |50000|0    |0   |\n",
      "|629412-VKUMMAVR|Outros     |Residencial|0        |0       |0     |0            |0     |82        |1        |0              |82         |Rio de Janeiro|{-22.91077, -43.37182}  |Tanque                  |Zona Oeste  |45000|300  |0   |\n",
      "|041590-HMJIRKDX|Outros     |Comercial  |0        |0       |0     |1            |0     |5         |0        |0              |5          |Rio de Janeiro|{-22.910099, -43.17797} |Centro                  |Zona Central|45000|0    |0   |\n",
      "|870098-XTRYJAGY|Outros     |Comercial  |1        |0       |0     |0            |0     |350       |0        |0              |350        |Rio de Janeiro|{-22.867219, -43.335067}|Madureira               |Zona Norte  |50000|0    |1600|\n",
      "|951104-MACIAPIS|Apartamento|Residencial|2        |3       |20    |1            |1     |0         |20       |19             |70         |Rio de Janeiro|{-22.897014, -43.201575}|Santo Cristo            |Zona Central|45000|350  |120 |\n",
      "|375665-GHMFEZXX|Apartamento|Residencial|2        |3       |20    |1            |1     |0         |20       |19             |70         |Rio de Janeiro|{-22.902419, -43.20952} |Santo Cristo            |Zona Central|50000|350  |120 |\n",
      "|441711-LRTWHRUA|Apartamento|Residencial|1        |1       |0     |0            |0     |45        |2        |0              |37         |Rio de Janeiro|{-22.989852, -43.623097}|Pedra de Guaratiba      |Zona Oeste  |50000|0    |0   |\n",
      "+---------------+-----------+-----------+---------+--------+------+-------------+------+----------+---------+---------------+-----------+--------------+------------------------+------------------------+------------+-----+-----+----+\n",
      "only showing top 20 rows\n",
      "\n"
     ]
    }
   ],
   "source": [
    "dados \\\n",
    "    .select('ident.customerID', 'listing.types.*', 'listing.features.*', 'listing.address.*', 'listing.prices.price', 'listing.prices.tax.*') \\\n",
    "    .show(truncate=False)"
   ]
  },
  {
   "cell_type": "code",
   "execution_count": 8,
   "id": "88a3481f-5496-46a5-ae6a-8f089f046e93",
   "metadata": {
    "tags": []
   },
   "outputs": [],
   "source": [
    "dataset= dados \\\n",
    "    .select('ident.customerID', 'listing.types.*', 'listing.features.*', 'listing.address.*', 'listing.prices.price', 'listing.prices.tax.*') \\\n",
    "    .drop('city','location','totalAreas')"
   ]
  },
  {
   "cell_type": "code",
   "execution_count": 9,
   "id": "e62e692a-fb37-4da0-9005-b7c20674c858",
   "metadata": {
    "tags": []
   },
   "outputs": [
    {
     "name": "stdout",
     "output_type": "stream",
     "text": [
      "+---------------+-----------+-----------+---------+--------+------+-------------+------+---------+---------------+-----------+------------------------+----------+-----+-----+----+\n",
      "|customerID     |unit       |usage      |bathrooms|bedrooms|floors|parkingSpaces|suites|unitFloor|unitsOnTheFloor|usableAreas|neighborhood            |zone      |price|condo|iptu|\n",
      "+---------------+-----------+-----------+---------+--------+------+-------------+------+---------+---------------+-----------+------------------------+----------+-----+-----+----+\n",
      "|775564-BOJSMVON|Outros     |Residencial|0        |0       |0     |1            |0     |0        |0              |62         |Taquara                 |Zona Oeste|45000|150  |0   |\n",
      "|660895-AUENKNYY|Apartamento|Residencial|1        |2       |0     |1            |0     |0        |0              |44         |Santíssimo              |Zona Oeste|45000|120  |0   |\n",
      "|751522-JESYFEQL|Outros     |Residencial|0        |0       |0     |0            |0     |0        |0              |132        |Pedra de Guaratiba      |Zona Oeste|50000|100  |0   |\n",
      "|714052-GAAEWYKS|Outros     |Comercial  |1        |0       |0     |0            |0     |3        |0              |32         |Cascadura               |Zona Norte|45000|468  |346 |\n",
      "|568886-ZIBFOMCC|Apartamento|Residencial|2        |3       |3     |1            |1     |2        |4              |60         |Recreio dos Bandeirantes|Zona Oeste|50000|400  |120 |\n",
      "|526755-OBLTYTEN|Outros     |Residencial|0        |0       |0     |0            |0     |0        |0              |200        |Guaratiba               |Zona Oeste|50000|0    |null|\n",
      "|593569-CJLMNFGW|Outros     |Comercial  |1        |0       |0     |0            |0     |2        |0              |25         |Freguesia (Jacarepaguá) |Zona Oeste|50000|801  |211 |\n",
      "|989181-RYJOLMCU|Outros     |Comercial  |1        |0       |0     |0            |0     |0        |0              |23         |Penha                   |Zona Norte|50000|230  |null|\n",
      "|145372-EZKAKSWM|Outros     |Comercial  |0        |0       |0     |0            |0     |0        |0              |60         |Ricardo de Albuquerque  |Zona Norte|45000|null |null|\n",
      "|792086-NWNQTDYL|Apartamento|Residencial|1        |1       |0     |1            |0     |0        |0              |33         |Jacarezinho             |Zona Norte|45336|0    |0   |\n",
      "+---------------+-----------+-----------+---------+--------+------+-------------+------+---------+---------------+-----------+------------------------+----------+-----+-----+----+\n",
      "only showing top 10 rows\n",
      "\n"
     ]
    }
   ],
   "source": [
    "dataset.show(10,truncate=False)"
   ]
  },
  {
   "cell_type": "code",
   "execution_count": 10,
   "id": "14c0156f-1e8a-4796-a1ca-e79d417827ba",
   "metadata": {
    "tags": []
   },
   "outputs": [
    {
     "name": "stdout",
     "output_type": "stream",
     "text": [
      "root\n",
      " |-- customerID: string (nullable = true)\n",
      " |-- unit: string (nullable = true)\n",
      " |-- usage: string (nullable = true)\n",
      " |-- bathrooms: long (nullable = true)\n",
      " |-- bedrooms: long (nullable = true)\n",
      " |-- floors: long (nullable = true)\n",
      " |-- parkingSpaces: long (nullable = true)\n",
      " |-- suites: long (nullable = true)\n",
      " |-- unitFloor: long (nullable = true)\n",
      " |-- unitsOnTheFloor: long (nullable = true)\n",
      " |-- usableAreas: string (nullable = true)\n",
      " |-- neighborhood: string (nullable = true)\n",
      " |-- zone: string (nullable = true)\n",
      " |-- price: string (nullable = true)\n",
      " |-- condo: string (nullable = true)\n",
      " |-- iptu: string (nullable = true)\n",
      "\n"
     ]
    }
   ],
   "source": [
    "dataset.printSchema()"
   ]
  },
  {
   "cell_type": "code",
   "execution_count": 11,
   "id": "2d8a962c-e117-4ba6-8ae7-04cca075b861",
   "metadata": {
    "tags": []
   },
   "outputs": [
    {
     "name": "stdout",
     "output_type": "stream",
     "text": [
      "root\n",
      " |-- customerID: string (nullable = true)\n",
      " |-- unit: string (nullable = true)\n",
      " |-- usage: string (nullable = true)\n",
      " |-- bathrooms: long (nullable = true)\n",
      " |-- bedrooms: long (nullable = true)\n",
      " |-- floors: long (nullable = true)\n",
      " |-- parkingSpaces: long (nullable = true)\n",
      " |-- suites: long (nullable = true)\n",
      " |-- unitFloor: long (nullable = true)\n",
      " |-- unitsOnTheFloor: long (nullable = true)\n",
      " |-- usableAreas: integer (nullable = true)\n",
      " |-- neighborhood: string (nullable = true)\n",
      " |-- zone: string (nullable = true)\n",
      " |-- price: double (nullable = true)\n",
      " |-- condo: double (nullable = true)\n",
      " |-- iptu: double (nullable = true)\n",
      "\n"
     ]
    }
   ],
   "source": [
    "from pyspark.sql.types import IntegerType, DoubleType\n",
    "dataset\\\n",
    "        .withColumn('usableAreas', dataset['usableAreas'].cast(IntegerType()))\\\n",
    "        .withColumn('price', dataset['price'].cast(DoubleType()))\\\n",
    "        .withColumn('condo', dataset['condo'].cast(DoubleType()))\\\n",
    "        .withColumn('iptu', dataset['iptu'].cast(DoubleType()))\\\n",
    "        .printSchema()"
   ]
  },
  {
   "cell_type": "code",
   "execution_count": 12,
   "id": "89a2948d-c17b-46ba-9a39-509ac80b7277",
   "metadata": {
    "tags": []
   },
   "outputs": [],
   "source": [
    "dataset = dataset\\\n",
    "        .withColumn('usableAreas', dataset['usableAreas'].cast(IntegerType()))\\\n",
    "        .withColumn('price', dataset['price'].cast(DoubleType()))\\\n",
    "        .withColumn('condo', dataset['condo'].cast(DoubleType()))\\\n",
    "        .withColumn('iptu', dataset['iptu'].cast(DoubleType()))"
   ]
  },
  {
   "cell_type": "code",
   "execution_count": 13,
   "id": "98432271-14d8-492f-872a-deb326b15816",
   "metadata": {
    "tags": []
   },
   "outputs": [
    {
     "name": "stdout",
     "output_type": "stream",
     "text": [
      "+-----------+-----+\n",
      "|      usage|count|\n",
      "+-----------+-----+\n",
      "|  Comercial| 4019|\n",
      "|Residencial|69596|\n",
      "+-----------+-----+\n",
      "\n"
     ]
    }
   ],
   "source": [
    "dataset.select('usage').groupBy('usage').count().show()"
   ]
  },
  {
   "cell_type": "code",
   "execution_count": 14,
   "id": "5a1f5a21-4608-4f5d-95c1-b0433d031555",
   "metadata": {
    "tags": []
   },
   "outputs": [],
   "source": [
    "dataset = dataset.select('*').where('usage==\"Residencial\"')"
   ]
  },
  {
   "cell_type": "code",
   "execution_count": 15,
   "id": "cd7899a6-1f2a-42fe-aa44-7251c3c3a287",
   "metadata": {
    "tags": []
   },
   "outputs": [
    {
     "name": "stdout",
     "output_type": "stream",
     "text": [
      "+-----------+-----+\n",
      "|       unit|count|\n",
      "+-----------+-----+\n",
      "|     Outros| 1190|\n",
      "|Apartamento|59106|\n",
      "|       Casa| 9300|\n",
      "+-----------+-----+\n",
      "\n"
     ]
    }
   ],
   "source": [
    "dataset.select('unit').groupBy('unit').count().show()"
   ]
  },
  {
   "cell_type": "code",
   "execution_count": 16,
   "id": "1031a0f0-8cff-4817-aab9-21afd702be6d",
   "metadata": {
    "tags": []
   },
   "outputs": [
    {
     "name": "stdout",
     "output_type": "stream",
     "text": [
      "+------------+-----+\n",
      "|        zone|count|\n",
      "+------------+-----+\n",
      "|  Zona Norte|14379|\n",
      "|  Zona Oeste|35523|\n",
      "|Zona Central| 1002|\n",
      "|    Zona Sul|18535|\n",
      "|            |  157|\n",
      "+------------+-----+\n",
      "\n"
     ]
    }
   ],
   "source": [
    "dataset.select('zone').groupBy('zone').count().show()"
   ]
  },
  {
   "cell_type": "code",
   "execution_count": 17,
   "id": "78efb841-3fd0-43be-b4ab-c3afe6fa1efb",
   "metadata": {
    "tags": []
   },
   "outputs": [],
   "source": [
    "from pyspark.sql import functions as f"
   ]
  },
  {
   "cell_type": "code",
   "execution_count": 18,
   "id": "f78fd389-5c3e-4089-9409-216e29c84bb1",
   "metadata": {
    "tags": []
   },
   "outputs": [
    {
     "name": "stdout",
     "output_type": "stream",
     "text": [
      "+----------+----+-----+---------+--------+------+-------------+------+---------+---------------+-----------+------------+----+-----+-----+----+\n",
      "|customerID|unit|usage|bathrooms|bedrooms|floors|parkingSpaces|suites|unitFloor|unitsOnTheFloor|usableAreas|neighborhood|zone|price|condo|iptu|\n",
      "+----------+----+-----+---------+--------+------+-------------+------+---------+---------------+-----------+------------+----+-----+-----+----+\n",
      "|         0|   0|    0|        0|       0|     0|            0|     0|        0|              0|          0|           0|   0|    0| 6061|8726|\n",
      "+----------+----+-----+---------+--------+------+-------------+------+---------+---------------+-----------+------------+----+-----+-----+----+\n",
      "\n"
     ]
    }
   ],
   "source": [
    "dataset.select([f.count(f.when(f.isnan(c) | f.isnull(c),True)).alias(c) for c in dataset.columns  ])\\\n",
    "        .show()"
   ]
  },
  {
   "cell_type": "code",
   "execution_count": 19,
   "id": "427800ee-dde7-4b6a-a259-cadd9454d00c",
   "metadata": {
    "tags": []
   },
   "outputs": [
    {
     "name": "stdout",
     "output_type": "stream",
     "text": [
      "+---------------+-----------+-----------+---------+--------+------+-------------+------+---------+---------------+-----------+--------------------+------------+-------+-----+-----+\n",
      "|     customerID|       unit|      usage|bathrooms|bedrooms|floors|parkingSpaces|suites|unitFloor|unitsOnTheFloor|usableAreas|        neighborhood|        zone|  price|condo| iptu|\n",
      "+---------------+-----------+-----------+---------+--------+------+-------------+------+---------+---------------+-----------+--------------------+------------+-------+-----+-----+\n",
      "|775564-BOJSMVON|     Outros|Residencial|        0|       0|     0|            1|     0|        0|              0|         62|             Taquara|  Zona Oeste|45000.0|150.0|  0.0|\n",
      "|660895-AUENKNYY|Apartamento|Residencial|        1|       2|     0|            1|     0|        0|              0|         44|          Santíssimo|  Zona Oeste|45000.0|120.0|  0.0|\n",
      "|751522-JESYFEQL|     Outros|Residencial|        0|       0|     0|            0|     0|        0|              0|        132|  Pedra de Guaratiba|  Zona Oeste|50000.0|100.0|  0.0|\n",
      "|568886-ZIBFOMCC|Apartamento|Residencial|        2|       3|     3|            1|     1|        2|              4|         60|Recreio dos Bande...|  Zona Oeste|50000.0|400.0|120.0|\n",
      "|526755-OBLTYTEN|     Outros|Residencial|        0|       0|     0|            0|     0|        0|              0|        200|           Guaratiba|  Zona Oeste|50000.0|  0.0|  0.0|\n",
      "|792086-NWNQTDYL|Apartamento|Residencial|        1|       1|     0|            1|     0|        0|              0|         33|         Jacarezinho|  Zona Norte|45336.0|  0.0|  0.0|\n",
      "|339622-MNZGLKTZ|     Outros|Residencial|        0|       0|     0|            0|     0|        0|              0|        120|           Guaratiba|  Zona Oeste|45000.0|  0.0|  0.0|\n",
      "|952338-SVULQMXR|     Outros|Residencial|        0|       0|     0|            0|     0|        0|              0|        468|          Santa Cruz|  Zona Oeste|45000.0|  0.0|  0.0|\n",
      "|570439-LDICQOXZ|     Outros|Residencial|        0|       0|     0|            0|     0|        1|              0|        180|       Vargem Grande|  Zona Oeste|50000.0|  0.0|  0.0|\n",
      "|684023-YTBNKLLO|     Outros|Residencial|        0|       0|     0|            0|     0|        0|              0|        128|               Bangu|  Zona Oeste|50000.0|  0.0|  0.0|\n",
      "|629412-VKUMMAVR|     Outros|Residencial|        0|       0|     0|            0|     0|        1|              0|         82|              Tanque|  Zona Oeste|45000.0|300.0|  0.0|\n",
      "|951104-MACIAPIS|Apartamento|Residencial|        2|       3|    20|            1|     1|       20|             19|         70|        Santo Cristo|Zona Central|45000.0|350.0|120.0|\n",
      "|375665-GHMFEZXX|Apartamento|Residencial|        2|       3|    20|            1|     1|       20|             19|         70|        Santo Cristo|Zona Central|50000.0|350.0|120.0|\n",
      "|441711-LRTWHRUA|Apartamento|Residencial|        1|       1|     0|            0|     0|        2|              0|         37|  Pedra de Guaratiba|  Zona Oeste|50000.0|  0.0|  0.0|\n",
      "|221946-ENAQETGD|     Outros|Residencial|        0|       0|     0|            0|     0|        0|              0|        120|           Guaratiba|  Zona Oeste|45020.0|  0.0|  0.0|\n",
      "|023787-PTASXXTL|     Outros|Residencial|        0|       0|     0|            0|     0|        0|              0|        120|           Guaratiba|  Zona Oeste|45040.0|  0.0|  0.0|\n",
      "|385687-SWOBLUWG|     Outros|Residencial|        0|       0|     0|            0|     0|        0|              0|        150|          Santa Cruz|  Zona Oeste|45000.0|  0.0|  0.0|\n",
      "|037953-VZOABKON|Apartamento|Residencial|        1|       2|     0|            1|     0|        0|              0|         30|         Coelho Neto|  Zona Norte|45000.0|  0.0|  0.0|\n",
      "|913561-GIAMXOYU|     Outros|Residencial|        0|       0|     0|            0|     0|        0|              0|        128|           Guaratiba|  Zona Oeste|45000.0|  0.0|  0.0|\n",
      "|511928-EYKXPKBU|     Outros|Residencial|        0|       0|     0|            0|     0|        0|              0|        120|           Guaratiba|  Zona Oeste|45070.0|  0.0|  0.0|\n",
      "+---------------+-----------+-----------+---------+--------+------+-------------+------+---------+---------------+-----------+--------------------+------------+-------+-----+-----+\n",
      "only showing top 20 rows\n",
      "\n"
     ]
    }
   ],
   "source": [
    "dataset\\\n",
    "    .select('*')\\\n",
    "    .na\\\n",
    "    .fill(0)\\\n",
    "    .show()"
   ]
  },
  {
   "cell_type": "code",
   "execution_count": 20,
   "id": "0a9fce22-8471-4d96-a247-78367fde4e5a",
   "metadata": {
    "tags": []
   },
   "outputs": [],
   "source": [
    "dataset = dataset.select('*').na.fill(0)"
   ]
  },
  {
   "cell_type": "code",
   "execution_count": 21,
   "id": "b634b4ff-73ad-485f-a1e0-f602e5b2d8a3",
   "metadata": {
    "tags": []
   },
   "outputs": [
    {
     "name": "stdout",
     "output_type": "stream",
     "text": [
      "+----------+----+-----+---------+--------+------+-------------+------+---------+---------------+-----------+------------+----+-----+-----+----+\n",
      "|customerID|unit|usage|bathrooms|bedrooms|floors|parkingSpaces|suites|unitFloor|unitsOnTheFloor|usableAreas|neighborhood|zone|price|condo|iptu|\n",
      "+----------+----+-----+---------+--------+------+-------------+------+---------+---------------+-----------+------------+----+-----+-----+----+\n",
      "|         0|   0|    0|        0|       0|     0|            0|     0|        0|              0|          0|           0|   0|    0|    0|   0|\n",
      "+----------+----+-----+---------+--------+------+-------------+------+---------+---------------+-----------+------------+----+-----+-----+----+\n",
      "\n"
     ]
    }
   ],
   "source": [
    "dataset.select([f.count(f.when(f.isnan(c) | f.isnull(c),True)).alias(c) for c in dataset.columns  ])\\\n",
    "        .show()"
   ]
  },
  {
   "cell_type": "code",
   "execution_count": 22,
   "id": "ccdc04b4-7b79-4801-9061-4d684ee2f0ec",
   "metadata": {
    "tags": []
   },
   "outputs": [
    {
     "name": "stdout",
     "output_type": "stream",
     "text": [
      "+------------+-----+\n",
      "|        zone|count|\n",
      "+------------+-----+\n",
      "|  Zona Norte|14379|\n",
      "|  Zona Oeste|35523|\n",
      "|Zona Central| 1002|\n",
      "|    Zona Sul|18535|\n",
      "|            |  157|\n",
      "+------------+-----+\n",
      "\n"
     ]
    }
   ],
   "source": [
    "dataset.select('zone').groupBy('zone').count().show()"
   ]
  },
  {
   "cell_type": "code",
   "execution_count": 23,
   "id": "9b1e115f-9e79-4c1f-b14a-a78ccb6e06b7",
   "metadata": {
    "tags": []
   },
   "outputs": [],
   "source": [
    "dataset = dataset.where(f.col('zone') != '')"
   ]
  },
  {
   "cell_type": "code",
   "execution_count": 24,
   "id": "c7b09329-a79b-4e89-be04-fb009e6e090f",
   "metadata": {
    "tags": []
   },
   "outputs": [
    {
     "name": "stdout",
     "output_type": "stream",
     "text": [
      "+------------+-----+\n",
      "|        zone|count|\n",
      "+------------+-----+\n",
      "|  Zona Norte|14379|\n",
      "|  Zona Oeste|35523|\n",
      "|Zona Central| 1002|\n",
      "|    Zona Sul|18535|\n",
      "+------------+-----+\n",
      "\n"
     ]
    }
   ],
   "source": [
    "dataset.select('zone').groupBy('zone').count().show()"
   ]
  },
  {
   "cell_type": "code",
   "execution_count": 25,
   "id": "e2d8f043-86c2-42fd-96dc-7f34e194e934",
   "metadata": {
    "collapsed": true,
    "jupyter": {
     "outputs_hidden": true
    },
    "tags": []
   },
   "outputs": [
    {
     "name": "stdout",
     "output_type": "stream",
     "text": [
      "+---------------+------+-----------+---------+--------+------+-------------+------+---------+---------------+-----------+------------+----------+-------+-----+----+\n",
      "|customerID     |unit  |usage      |bathrooms|bedrooms|floors|parkingSpaces|suites|unitFloor|unitsOnTheFloor|usableAreas|neighborhood|zone      |price  |condo|iptu|\n",
      "+---------------+------+-----------+---------+--------+------+-------------+------+---------+---------------+-----------+------------+----------+-------+-----+----+\n",
      "|775564-BOJSMVON|Outros|Residencial|0        |0       |0     |1            |0     |0        |0              |62         |Taquara     |Zona Oeste|45000.0|150.0|0.0 |\n",
      "+---------------+------+-----------+---------+--------+------+-------------+------+---------+---------------+-----------+------------+----------+-------+-----+----+\n",
      "only showing top 1 row\n",
      "\n"
     ]
    }
   ],
   "source": [
    "dataset.show(1,truncate=False)"
   ]
  },
  {
   "cell_type": "code",
   "execution_count": 26,
   "id": "a4542f08-9b35-4640-9233-561035d4f25f",
   "metadata": {
    "tags": []
   },
   "outputs": [
    {
     "name": "stdout",
     "output_type": "stream",
     "text": [
      "+---------------+-----------+----+------+\n",
      "|     customerID|Apartamento|Casa|Outros|\n",
      "+---------------+-----------+----+------+\n",
      "|062130-QKYMWGMV|          1|   0|     0|\n",
      "|630945-AEEUPRXI|          0|   1|     0|\n",
      "|994985-OZQNHQKH|          1|   0|     0|\n",
      "|494674-JWXRZIBM|          1|   0|     0|\n",
      "|458844-UJCRFSRI|          1|   0|     0|\n",
      "|155284-BRCDAOIQ|          1|   0|     0|\n",
      "|396742-DUXBHLRU|          1|   0|     0|\n",
      "|916072-ZJXARAXO|          1|   0|     0|\n",
      "|943843-BVTWWHRQ|          1|   0|     0|\n",
      "|193126-MTNIIFQN|          1|   0|     0|\n",
      "|319762-UXTTQYFS|          1|   0|     0|\n",
      "|931151-GZCTKADB|          1|   0|     0|\n",
      "|103840-OFKPFEZJ|          0|   1|     0|\n",
      "|176885-NNKZRQGM|          0|   1|     0|\n",
      "|926638-PBYRAZYR|          1|   0|     0|\n",
      "|744421-IZJWISWB|          1|   0|     0|\n",
      "|530012-TYGLQMER|          1|   0|     0|\n",
      "|209407-GTEUOVKR|          1|   0|     0|\n",
      "|289667-ZPHGFHJH|          1|   0|     0|\n",
      "|859388-EYTPMKER|          1|   0|     0|\n",
      "+---------------+-----------+----+------+\n",
      "only showing top 20 rows\n",
      "\n"
     ]
    }
   ],
   "source": [
    "dataset.groupBy('customerID')\\\n",
    "        .pivot('unit')\\\n",
    "        .agg(f.lit(1))\\\n",
    "        .na\\\n",
    "        .fill(0)\\\n",
    "        .show()\n",
    "        "
   ]
  },
  {
   "cell_type": "code",
   "execution_count": 27,
   "id": "fd08c92e-53b7-44ac-9f77-7979805632f8",
   "metadata": {
    "tags": []
   },
   "outputs": [
    {
     "name": "stdout",
     "output_type": "stream",
     "text": [
      "+---------------+------------+----------+----------+--------+\n",
      "|     customerID|Zona Central|Zona Norte|Zona Oeste|Zona Sul|\n",
      "+---------------+------------+----------+----------+--------+\n",
      "|336149-TMGGYSKN|           0|         0|         1|       0|\n",
      "|846345-JYHIIHQM|           0|         1|         0|       0|\n",
      "|598128-VUMFFGPB|           0|         0|         0|       1|\n",
      "|368553-OPCVLPHJ|           0|         1|         0|       0|\n",
      "|549743-AXHKZBFK|           0|         0|         1|       0|\n",
      "|812359-OJYBIPJI|           0|         0|         0|       1|\n",
      "|660235-HZGMOQSM|           0|         0|         1|       0|\n",
      "|060113-BUDVVMLJ|           0|         0|         1|       0|\n",
      "|414450-LWZHERNQ|           0|         0|         1|       0|\n",
      "|002985-MNHDTPVG|           0|         0|         1|       0|\n",
      "|849580-WTTBUJKK|           0|         1|         0|       0|\n",
      "|869294-GMGUYRPI|           0|         0|         1|       0|\n",
      "|744421-IZJWISWB|           0|         0|         1|       0|\n",
      "|046476-NNUFIIVG|           0|         0|         1|       0|\n",
      "|626105-DOLRXIDZ|           0|         0|         0|       1|\n",
      "|863519-WWCECOZT|           0|         0|         1|       0|\n",
      "|529272-BGJLJSSR|           0|         0|         1|       0|\n",
      "|521324-MVDCUJPC|           0|         0|         1|       0|\n",
      "|650698-FDRGKLNW|           0|         0|         1|       0|\n",
      "|684301-OTOBDEKJ|           0|         0|         1|       0|\n",
      "+---------------+------------+----------+----------+--------+\n",
      "only showing top 20 rows\n",
      "\n"
     ]
    }
   ],
   "source": [
    "dataset.groupBy('customerID')\\\n",
    "        .pivot('zone')\\\n",
    "        .agg(f.lit(1))\\\n",
    "        .na\\\n",
    "        .fill(0)\\\n",
    "        .show()"
   ]
  },
  {
   "cell_type": "code",
   "execution_count": 28,
   "id": "cc3e79f0-143c-44f0-8518-41ec5a7bd44b",
   "metadata": {
    "tags": []
   },
   "outputs": [],
   "source": [
    "zone = dataset.groupBy('customerID')\\\n",
    "        .pivot('zone')\\\n",
    "        .agg(f.lit(1))\\\n",
    "        .na\\\n",
    "        .fill(0)"
   ]
  },
  {
   "cell_type": "code",
   "execution_count": 29,
   "id": "fb8561ef-153c-4528-9005-41f84475e004",
   "metadata": {
    "tags": []
   },
   "outputs": [],
   "source": [
    "unit = dataset.groupBy('customerID')\\\n",
    "        .pivot('unit')\\\n",
    "        .agg(f.lit(1))\\\n",
    "        .na\\\n",
    "        .fill(0)\n"
   ]
  },
  {
   "cell_type": "code",
   "execution_count": 30,
   "id": "6a5ee8c4-e358-4d77-9505-5601c7c440ff",
   "metadata": {
    "tags": []
   },
   "outputs": [],
   "source": [
    "dataset = dataset.join(zone, 'customerID', how='inner')"
   ]
  },
  {
   "cell_type": "code",
   "execution_count": 31,
   "id": "07f7a984-4a25-43e0-9993-2f568688c93a",
   "metadata": {
    "tags": []
   },
   "outputs": [
    {
     "name": "stdout",
     "output_type": "stream",
     "text": [
      "+---------------+-----------+-----------+---------+--------+------+-------------+------+---------+---------------+-----------+--------------------+----------+-------+-----+-----+------------+----------+----------+--------+\n",
      "|     customerID|       unit|      usage|bathrooms|bedrooms|floors|parkingSpaces|suites|unitFloor|unitsOnTheFloor|usableAreas|        neighborhood|      zone|  price|condo| iptu|Zona Central|Zona Norte|Zona Oeste|Zona Sul|\n",
      "+---------------+-----------+-----------+---------+--------+------+-------------+------+---------+---------------+-----------+--------------------+----------+-------+-----+-----+------------+----------+----------+--------+\n",
      "|775564-BOJSMVON|     Outros|Residencial|        0|       0|     0|            1|     0|        0|              0|         62|             Taquara|Zona Oeste|45000.0|150.0|  0.0|           0|         0|         1|       0|\n",
      "|660895-AUENKNYY|Apartamento|Residencial|        1|       2|     0|            1|     0|        0|              0|         44|          Santíssimo|Zona Oeste|45000.0|120.0|  0.0|           0|         0|         1|       0|\n",
      "|751522-JESYFEQL|     Outros|Residencial|        0|       0|     0|            0|     0|        0|              0|        132|  Pedra de Guaratiba|Zona Oeste|50000.0|100.0|  0.0|           0|         0|         1|       0|\n",
      "|568886-ZIBFOMCC|Apartamento|Residencial|        2|       3|     3|            1|     1|        2|              4|         60|Recreio dos Bande...|Zona Oeste|50000.0|400.0|120.0|           0|         0|         1|       0|\n",
      "|526755-OBLTYTEN|     Outros|Residencial|        0|       0|     0|            0|     0|        0|              0|        200|           Guaratiba|Zona Oeste|50000.0|  0.0|  0.0|           0|         0|         1|       0|\n",
      "+---------------+-----------+-----------+---------+--------+------+-------------+------+---------+---------------+-----------+--------------------+----------+-------+-----+-----+------------+----------+----------+--------+\n",
      "only showing top 5 rows\n",
      "\n"
     ]
    }
   ],
   "source": [
    "dataset.show(5)"
   ]
  },
  {
   "cell_type": "code",
   "execution_count": 32,
   "id": "627511f7-ad94-446f-9f7b-6043595b4b33",
   "metadata": {
    "tags": []
   },
   "outputs": [],
   "source": [
    "dataset = dataset.join(unit, 'customerID', how='inner')"
   ]
  },
  {
   "cell_type": "code",
   "execution_count": 33,
   "id": "1280bfda-f545-4987-9066-fb812472df3c",
   "metadata": {
    "tags": []
   },
   "outputs": [
    {
     "name": "stdout",
     "output_type": "stream",
     "text": [
      "+---------------+-----------+-----------+---------+--------+------+-------------+------+---------+---------------+-----------+--------------------+----------+-------+-----+-----+------------+----------+----------+--------+-----------+----+------+\n",
      "|     customerID|       unit|      usage|bathrooms|bedrooms|floors|parkingSpaces|suites|unitFloor|unitsOnTheFloor|usableAreas|        neighborhood|      zone|  price|condo| iptu|Zona Central|Zona Norte|Zona Oeste|Zona Sul|Apartamento|Casa|Outros|\n",
      "+---------------+-----------+-----------+---------+--------+------+-------------+------+---------+---------------+-----------+--------------------+----------+-------+-----+-----+------------+----------+----------+--------+-----------+----+------+\n",
      "|775564-BOJSMVON|     Outros|Residencial|        0|       0|     0|            1|     0|        0|              0|         62|             Taquara|Zona Oeste|45000.0|150.0|  0.0|           0|         0|         1|       0|          0|   0|     1|\n",
      "|660895-AUENKNYY|Apartamento|Residencial|        1|       2|     0|            1|     0|        0|              0|         44|          Santíssimo|Zona Oeste|45000.0|120.0|  0.0|           0|         0|         1|       0|          1|   0|     0|\n",
      "|751522-JESYFEQL|     Outros|Residencial|        0|       0|     0|            0|     0|        0|              0|        132|  Pedra de Guaratiba|Zona Oeste|50000.0|100.0|  0.0|           0|         0|         1|       0|          0|   0|     1|\n",
      "|568886-ZIBFOMCC|Apartamento|Residencial|        2|       3|     3|            1|     1|        2|              4|         60|Recreio dos Bande...|Zona Oeste|50000.0|400.0|120.0|           0|         0|         1|       0|          1|   0|     0|\n",
      "|526755-OBLTYTEN|     Outros|Residencial|        0|       0|     0|            0|     0|        0|              0|        200|           Guaratiba|Zona Oeste|50000.0|  0.0|  0.0|           0|         0|         1|       0|          0|   0|     1|\n",
      "+---------------+-----------+-----------+---------+--------+------+-------------+------+---------+---------------+-----------+--------------------+----------+-------+-----+-----+------------+----------+----------+--------+-----------+----+------+\n",
      "only showing top 5 rows\n",
      "\n"
     ]
    }
   ],
   "source": [
    "dataset.show(5)"
   ]
  },
  {
   "cell_type": "code",
   "execution_count": 34,
   "id": "61e69914-aa35-41cb-91a3-c0c8036003f7",
   "metadata": {
    "tags": []
   },
   "outputs": [],
   "source": [
    "dataset = dataset.withColumnRenamed('price', 'label')"
   ]
  },
  {
   "cell_type": "code",
   "execution_count": 35,
   "id": "082401f8-0e9b-4e11-9c36-625f1c7c2ef8",
   "metadata": {
    "tags": []
   },
   "outputs": [],
   "source": [
    "X = [\n",
    "    'bathrooms',\n",
    "    'bedrooms',\n",
    "    'floors',\n",
    "    'parkingSpaces',\n",
    "    'suites',\n",
    "    'unitFloor',\n",
    "    'unitsOnTheFloor',\n",
    "    'usableAreas',\n",
    "    'condo',\n",
    "    'iptu',\n",
    "    'Apartamento',\n",
    "    'Casa',\n",
    "    'Outros',\n",
    "    'Zona Central',\n",
    "    'Zona Norte',\n",
    "    'Zona Oeste',\n",
    "    'Zona Sul'\n",
    "]"
   ]
  },
  {
   "cell_type": "code",
   "execution_count": 36,
   "id": "61f5d90f-b921-41a5-8e39-3a4d1b994449",
   "metadata": {
    "tags": []
   },
   "outputs": [],
   "source": [
    "from pyspark.ml.feature import VectorAssembler\n",
    "assembler = VectorAssembler(inputCols=X, outputCol='features')\n",
    "dataset_prep = assembler.transform(dataset).select('features','label')"
   ]
  },
  {
   "cell_type": "code",
   "execution_count": 37,
   "id": "920200df-eaa7-4c3c-95cd-ba45cef675d9",
   "metadata": {
    "tags": []
   },
   "outputs": [
    {
     "name": "stdout",
     "output_type": "stream",
     "text": [
      "+--------------------+-------+\n",
      "|            features|  label|\n",
      "+--------------------+-------+\n",
      "|(17,[3,7,8,12,15]...|45000.0|\n",
      "|(17,[0,1,3,7,8,10...|45000.0|\n",
      "|(17,[7,8,12,15],[...|50000.0|\n",
      "|[2.0,3.0,3.0,1.0,...|50000.0|\n",
      "|(17,[7,12,15],[20...|50000.0|\n",
      "|(17,[0,1,3,7,10,1...|45336.0|\n",
      "|(17,[7,12,15],[12...|45000.0|\n",
      "|(17,[7,12,15],[46...|45000.0|\n",
      "|(17,[5,7,12,15],[...|50000.0|\n",
      "|(17,[7,12,15],[12...|50000.0|\n",
      "+--------------------+-------+\n",
      "only showing top 10 rows\n",
      "\n"
     ]
    }
   ],
   "source": [
    "dataset_prep.show(10)"
   ]
  },
  {
   "cell_type": "code",
   "execution_count": 38,
   "id": "5b0aeca1-2ca3-47ed-841e-a1f1ab743bd1",
   "metadata": {
    "tags": []
   },
   "outputs": [],
   "source": [
    "from pyspark.ml.stat import Correlation\n",
    "import pandas as pd"
   ]
  },
  {
   "cell_type": "code",
   "execution_count": 39,
   "id": "045d807d-6491-41d2-8926-479aa4bfb257",
   "metadata": {
    "tags": []
   },
   "outputs": [
    {
     "data": {
      "text/plain": [
       "DenseMatrix(17, 17, [1.0, 0.6659, -0.0446, 0.4876, 0.7529, 0.0076, -0.1074, 0.5981, ..., 0.0088, 0.1803, -0.1833, -0.0165, -0.073, -0.3084, -0.6176, 1.0], False)"
      ]
     },
     "execution_count": 39,
     "metadata": {},
     "output_type": "execute_result"
    }
   ],
   "source": [
    "correlacao = Correlation.corr(dataset_prep, 'features').collect()[0][0]\n",
    "correlacao"
   ]
  },
  {
   "cell_type": "code",
   "execution_count": 40,
   "id": "4e5fd5e6-4c55-4ded-bc31-f6f4ec1aef25",
   "metadata": {
    "collapsed": true,
    "jupyter": {
     "outputs_hidden": true
    },
    "tags": []
   },
   "outputs": [
    {
     "data": {
      "text/plain": [
       "array([[ 1.00000000e+00,  6.65910814e-01, -4.45907541e-02,\n",
       "         4.87590447e-01,  7.52927830e-01,  7.62425469e-03,\n",
       "        -1.07437445e-01,  5.98072790e-01,  2.00298945e-02,\n",
       "         1.51023977e-02, -2.75457964e-01,  3.43042378e-01,\n",
       "        -1.40183420e-01, -9.73678190e-02, -1.62497441e-01,\n",
       "         2.42345124e-01, -9.87517576e-02],\n",
       "       [ 6.65910814e-01,  1.00000000e+00, -8.21840063e-02,\n",
       "         4.67161260e-01,  6.01199220e-01, -7.16195849e-03,\n",
       "        -1.30814438e-01,  5.63750247e-01,  1.84819307e-02,\n",
       "         1.36391535e-02, -2.58339018e-01,  3.49962189e-01,\n",
       "        -2.05607705e-01, -1.23732152e-01, -1.11711865e-01,\n",
       "         1.63821698e-01, -4.94325200e-02],\n",
       "       [-4.45907541e-02, -8.21840063e-02,  1.00000000e+00,\n",
       "        -4.84861921e-02, -4.81062141e-02,  1.20981700e-01,\n",
       "         7.37717422e-01, -1.03916850e-01,  1.37973623e-02,\n",
       "         6.68849447e-03,  1.53947015e-01, -1.42089598e-01,\n",
       "        -5.19462291e-02,  1.26044467e-01, -1.69262936e-02,\n",
       "        -3.17495417e-02,  1.74019374e-02],\n",
       "       [ 4.87590447e-01,  4.67161260e-01, -4.84861921e-02,\n",
       "         1.00000000e+00,  4.84987652e-01,  3.76755370e-03,\n",
       "        -7.45265146e-02,  4.83731813e-01,  1.80124560e-02,\n",
       "         9.72140387e-03, -2.52745585e-01,  2.93325601e-01,\n",
       "        -7.23593595e-02, -8.64368160e-02, -1.09956571e-01,\n",
       "         2.67989967e-01, -1.78806840e-01],\n",
       "       [ 7.52927830e-01,  6.01199220e-01, -4.81062141e-02,\n",
       "         4.84987652e-01,  1.00000000e+00,  5.20616260e-03,\n",
       "        -9.19136006e-02,  5.77635834e-01,  2.34606128e-02,\n",
       "         1.90926884e-02, -2.36216911e-01,  2.82221024e-01,\n",
       "        -8.88343634e-02, -8.44165774e-02, -2.30316589e-01,\n",
       "         3.27546479e-01, -1.36397821e-01],\n",
       "       [ 7.62425469e-03, -7.16195849e-03,  1.20981700e-01,\n",
       "         3.76755370e-03,  5.20616260e-03,  1.00000000e+00,\n",
       "         9.23587397e-02, -1.27484319e-02,  3.06513241e-03,\n",
       "         1.20011722e-03,  3.46738112e-02, -3.14033404e-02,\n",
       "        -1.32746256e-02,  2.23147530e-02, -1.11115741e-02,\n",
       "         7.51785790e-03, -4.33263857e-03],\n",
       "       [-1.07437445e-01, -1.30814438e-01,  7.37717422e-01,\n",
       "        -7.45265146e-02, -9.19136006e-02,  9.23587397e-02,\n",
       "         1.00000000e+00, -1.44221795e-01, -5.53843929e-04,\n",
       "         5.02931788e-03,  1.47497097e-01, -1.37754210e-01,\n",
       "        -4.55227478e-02,  1.53638929e-01,  3.07529156e-02,\n",
       "        -1.24335521e-02, -5.55403382e-02],\n",
       "       [ 5.98072790e-01,  5.63750247e-01, -1.03916850e-01,\n",
       "         4.83731813e-01,  5.77635834e-01, -1.27484319e-02,\n",
       "        -1.44221795e-01,  1.00000000e+00,  1.97170581e-02,\n",
       "         1.46557718e-02, -4.82170368e-01,  4.59136000e-01,\n",
       "         1.25671636e-01, -7.52556784e-02, -1.58553255e-01,\n",
       "         1.92466079e-01, -5.19618547e-02],\n",
       "       [ 2.00298945e-02,  1.84819307e-02,  1.37973623e-02,\n",
       "         1.80124560e-02,  2.34606128e-02,  3.06513241e-03,\n",
       "        -5.53843929e-04,  1.97170581e-02,  1.00000000e+00,\n",
       "         2.26212288e-01,  9.10511948e-03, -8.62354544e-03,\n",
       "        -2.49547974e-03, -3.55287358e-03, -1.34528170e-02,\n",
       "        -1.05527328e-03,  1.44735011e-02],\n",
       "       [ 1.51023977e-02,  1.36391535e-02,  6.68849447e-03,\n",
       "         9.72140387e-03,  1.90926884e-02,  1.20011722e-03,\n",
       "         5.02931788e-03,  1.46557718e-02,  2.26212288e-01,\n",
       "         1.00000000e+00, -1.50172361e-03,  2.29128332e-03,\n",
       "        -1.86978516e-03, -2.43773221e-03, -8.40029867e-03,\n",
       "        -4.27577570e-04,  8.83529747e-03],\n",
       "       [-2.75457964e-01, -2.58339018e-01,  1.53947015e-01,\n",
       "        -2.52745585e-01, -2.36216911e-01,  3.46738112e-02,\n",
       "         1.47497097e-01, -4.82170368e-01,  9.10511948e-03,\n",
       "        -1.50172361e-03,  1.00000000e+00, -9.32270330e-01,\n",
       "        -3.13032028e-01,  3.40733867e-02,  1.03123851e-02,\n",
       "        -1.76033305e-01,  1.80288204e-01],\n",
       "       [ 3.43042378e-01,  3.49962189e-01, -1.42089598e-01,\n",
       "         2.93325601e-01,  2.82221024e-01, -3.14033404e-02,\n",
       "        -1.37754210e-01,  4.59136000e-01, -8.62354544e-03,\n",
       "         2.29128332e-03, -9.32270330e-01,  1.00000000e+00,\n",
       "        -5.17506766e-02, -4.18230764e-02, -7.96096280e-03,\n",
       "         1.78639806e-01, -1.83298315e-01],\n",
       "       [-1.40183420e-01, -2.05607705e-01, -5.19462291e-02,\n",
       "        -7.23593595e-02, -8.88343634e-02, -1.32746256e-02,\n",
       "        -4.55227478e-02,  1.25671636e-01, -2.49547974e-03,\n",
       "        -1.86978516e-03, -3.13032028e-01, -5.17506766e-02,\n",
       "         1.00000000e+00,  1.57380272e-02, -7.56767884e-03,\n",
       "         1.69602975e-02, -1.64760386e-02],\n",
       "       [-9.73678190e-02, -1.23732152e-01,  1.26044467e-01,\n",
       "        -8.64368160e-02, -8.44165774e-02,  2.23147530e-02,\n",
       "         1.53638929e-01, -7.52556784e-02, -3.55287358e-03,\n",
       "        -2.43773221e-03,  3.40733867e-02, -4.18230764e-02,\n",
       "         1.57380272e-02,  1.00000000e+00, -6.18350359e-02,\n",
       "        -1.23834280e-01, -7.30144333e-02],\n",
       "       [-1.62497441e-01, -1.11711865e-01, -1.69262936e-02,\n",
       "        -1.09956571e-01, -2.30316589e-01, -1.11115741e-02,\n",
       "         3.07529156e-02, -1.58553255e-01, -1.34528170e-02,\n",
       "        -8.40029867e-03,  1.03123851e-02, -7.96096280e-03,\n",
       "        -7.56767884e-03, -6.18350359e-02,  1.00000000e+00,\n",
       "        -5.22996452e-01, -3.08366065e-01],\n",
       "       [ 2.42345124e-01,  1.63821698e-01, -3.17495417e-02,\n",
       "         2.67989967e-01,  3.27546479e-01,  7.51785790e-03,\n",
       "        -1.24335521e-02,  1.92466079e-01, -1.05527328e-03,\n",
       "        -4.27577570e-04, -1.76033305e-01,  1.78639806e-01,\n",
       "         1.69602975e-02, -1.23834280e-01, -5.22996452e-01,\n",
       "         1.00000000e+00, -6.17551022e-01],\n",
       "       [-9.87517576e-02, -4.94325200e-02,  1.74019374e-02,\n",
       "        -1.78806840e-01, -1.36397821e-01, -4.33263857e-03,\n",
       "        -5.55403382e-02, -5.19618547e-02,  1.44735011e-02,\n",
       "         8.83529747e-03,  1.80288204e-01, -1.83298315e-01,\n",
       "        -1.64760386e-02, -7.30144333e-02, -3.08366065e-01,\n",
       "        -6.17551022e-01,  1.00000000e+00]])"
      ]
     },
     "execution_count": 40,
     "metadata": {},
     "output_type": "execute_result"
    }
   ],
   "source": [
    "correlacao.toArray()"
   ]
  },
  {
   "cell_type": "code",
   "execution_count": 41,
   "id": "5b0d67d2-2f25-477a-a1b8-4ca5d4abfe31",
   "metadata": {
    "collapsed": true,
    "jupyter": {
     "outputs_hidden": true
    },
    "tags": []
   },
   "outputs": [
    {
     "data": {
      "text/html": [
       "<div>\n",
       "<style scoped>\n",
       "    .dataframe tbody tr th:only-of-type {\n",
       "        vertical-align: middle;\n",
       "    }\n",
       "\n",
       "    .dataframe tbody tr th {\n",
       "        vertical-align: top;\n",
       "    }\n",
       "\n",
       "    .dataframe thead th {\n",
       "        text-align: right;\n",
       "    }\n",
       "</style>\n",
       "<table border=\"1\" class=\"dataframe\">\n",
       "  <thead>\n",
       "    <tr style=\"text-align: right;\">\n",
       "      <th></th>\n",
       "      <th>bathrooms</th>\n",
       "      <th>bedrooms</th>\n",
       "      <th>floors</th>\n",
       "      <th>parkingSpaces</th>\n",
       "      <th>suites</th>\n",
       "      <th>unitFloor</th>\n",
       "      <th>unitsOnTheFloor</th>\n",
       "      <th>usableAreas</th>\n",
       "      <th>condo</th>\n",
       "      <th>iptu</th>\n",
       "      <th>Apartamento</th>\n",
       "      <th>Casa</th>\n",
       "      <th>Outros</th>\n",
       "      <th>Zona Central</th>\n",
       "      <th>Zona Norte</th>\n",
       "      <th>Zona Oeste</th>\n",
       "      <th>Zona Sul</th>\n",
       "    </tr>\n",
       "  </thead>\n",
       "  <tbody>\n",
       "    <tr>\n",
       "      <th>bathrooms</th>\n",
       "      <td>1.000000</td>\n",
       "      <td>0.665911</td>\n",
       "      <td>-0.044591</td>\n",
       "      <td>0.487590</td>\n",
       "      <td>0.752928</td>\n",
       "      <td>0.007624</td>\n",
       "      <td>-0.107437</td>\n",
       "      <td>0.598073</td>\n",
       "      <td>0.020030</td>\n",
       "      <td>0.015102</td>\n",
       "      <td>-0.275458</td>\n",
       "      <td>0.343042</td>\n",
       "      <td>-0.140183</td>\n",
       "      <td>-0.097368</td>\n",
       "      <td>-0.162497</td>\n",
       "      <td>0.242345</td>\n",
       "      <td>-0.098752</td>\n",
       "    </tr>\n",
       "    <tr>\n",
       "      <th>bedrooms</th>\n",
       "      <td>0.665911</td>\n",
       "      <td>1.000000</td>\n",
       "      <td>-0.082184</td>\n",
       "      <td>0.467161</td>\n",
       "      <td>0.601199</td>\n",
       "      <td>-0.007162</td>\n",
       "      <td>-0.130814</td>\n",
       "      <td>0.563750</td>\n",
       "      <td>0.018482</td>\n",
       "      <td>0.013639</td>\n",
       "      <td>-0.258339</td>\n",
       "      <td>0.349962</td>\n",
       "      <td>-0.205608</td>\n",
       "      <td>-0.123732</td>\n",
       "      <td>-0.111712</td>\n",
       "      <td>0.163822</td>\n",
       "      <td>-0.049433</td>\n",
       "    </tr>\n",
       "    <tr>\n",
       "      <th>floors</th>\n",
       "      <td>-0.044591</td>\n",
       "      <td>-0.082184</td>\n",
       "      <td>1.000000</td>\n",
       "      <td>-0.048486</td>\n",
       "      <td>-0.048106</td>\n",
       "      <td>0.120982</td>\n",
       "      <td>0.737717</td>\n",
       "      <td>-0.103917</td>\n",
       "      <td>0.013797</td>\n",
       "      <td>0.006688</td>\n",
       "      <td>0.153947</td>\n",
       "      <td>-0.142090</td>\n",
       "      <td>-0.051946</td>\n",
       "      <td>0.126044</td>\n",
       "      <td>-0.016926</td>\n",
       "      <td>-0.031750</td>\n",
       "      <td>0.017402</td>\n",
       "    </tr>\n",
       "    <tr>\n",
       "      <th>parkingSpaces</th>\n",
       "      <td>0.487590</td>\n",
       "      <td>0.467161</td>\n",
       "      <td>-0.048486</td>\n",
       "      <td>1.000000</td>\n",
       "      <td>0.484988</td>\n",
       "      <td>0.003768</td>\n",
       "      <td>-0.074527</td>\n",
       "      <td>0.483732</td>\n",
       "      <td>0.018012</td>\n",
       "      <td>0.009721</td>\n",
       "      <td>-0.252746</td>\n",
       "      <td>0.293326</td>\n",
       "      <td>-0.072359</td>\n",
       "      <td>-0.086437</td>\n",
       "      <td>-0.109957</td>\n",
       "      <td>0.267990</td>\n",
       "      <td>-0.178807</td>\n",
       "    </tr>\n",
       "    <tr>\n",
       "      <th>suites</th>\n",
       "      <td>0.752928</td>\n",
       "      <td>0.601199</td>\n",
       "      <td>-0.048106</td>\n",
       "      <td>0.484988</td>\n",
       "      <td>1.000000</td>\n",
       "      <td>0.005206</td>\n",
       "      <td>-0.091914</td>\n",
       "      <td>0.577636</td>\n",
       "      <td>0.023461</td>\n",
       "      <td>0.019093</td>\n",
       "      <td>-0.236217</td>\n",
       "      <td>0.282221</td>\n",
       "      <td>-0.088834</td>\n",
       "      <td>-0.084417</td>\n",
       "      <td>-0.230317</td>\n",
       "      <td>0.327546</td>\n",
       "      <td>-0.136398</td>\n",
       "    </tr>\n",
       "    <tr>\n",
       "      <th>unitFloor</th>\n",
       "      <td>0.007624</td>\n",
       "      <td>-0.007162</td>\n",
       "      <td>0.120982</td>\n",
       "      <td>0.003768</td>\n",
       "      <td>0.005206</td>\n",
       "      <td>1.000000</td>\n",
       "      <td>0.092359</td>\n",
       "      <td>-0.012748</td>\n",
       "      <td>0.003065</td>\n",
       "      <td>0.001200</td>\n",
       "      <td>0.034674</td>\n",
       "      <td>-0.031403</td>\n",
       "      <td>-0.013275</td>\n",
       "      <td>0.022315</td>\n",
       "      <td>-0.011112</td>\n",
       "      <td>0.007518</td>\n",
       "      <td>-0.004333</td>\n",
       "    </tr>\n",
       "    <tr>\n",
       "      <th>unitsOnTheFloor</th>\n",
       "      <td>-0.107437</td>\n",
       "      <td>-0.130814</td>\n",
       "      <td>0.737717</td>\n",
       "      <td>-0.074527</td>\n",
       "      <td>-0.091914</td>\n",
       "      <td>0.092359</td>\n",
       "      <td>1.000000</td>\n",
       "      <td>-0.144222</td>\n",
       "      <td>-0.000554</td>\n",
       "      <td>0.005029</td>\n",
       "      <td>0.147497</td>\n",
       "      <td>-0.137754</td>\n",
       "      <td>-0.045523</td>\n",
       "      <td>0.153639</td>\n",
       "      <td>0.030753</td>\n",
       "      <td>-0.012434</td>\n",
       "      <td>-0.055540</td>\n",
       "    </tr>\n",
       "    <tr>\n",
       "      <th>usableAreas</th>\n",
       "      <td>0.598073</td>\n",
       "      <td>0.563750</td>\n",
       "      <td>-0.103917</td>\n",
       "      <td>0.483732</td>\n",
       "      <td>0.577636</td>\n",
       "      <td>-0.012748</td>\n",
       "      <td>-0.144222</td>\n",
       "      <td>1.000000</td>\n",
       "      <td>0.019717</td>\n",
       "      <td>0.014656</td>\n",
       "      <td>-0.482170</td>\n",
       "      <td>0.459136</td>\n",
       "      <td>0.125672</td>\n",
       "      <td>-0.075256</td>\n",
       "      <td>-0.158553</td>\n",
       "      <td>0.192466</td>\n",
       "      <td>-0.051962</td>\n",
       "    </tr>\n",
       "    <tr>\n",
       "      <th>condo</th>\n",
       "      <td>0.020030</td>\n",
       "      <td>0.018482</td>\n",
       "      <td>0.013797</td>\n",
       "      <td>0.018012</td>\n",
       "      <td>0.023461</td>\n",
       "      <td>0.003065</td>\n",
       "      <td>-0.000554</td>\n",
       "      <td>0.019717</td>\n",
       "      <td>1.000000</td>\n",
       "      <td>0.226212</td>\n",
       "      <td>0.009105</td>\n",
       "      <td>-0.008624</td>\n",
       "      <td>-0.002495</td>\n",
       "      <td>-0.003553</td>\n",
       "      <td>-0.013453</td>\n",
       "      <td>-0.001055</td>\n",
       "      <td>0.014474</td>\n",
       "    </tr>\n",
       "    <tr>\n",
       "      <th>iptu</th>\n",
       "      <td>0.015102</td>\n",
       "      <td>0.013639</td>\n",
       "      <td>0.006688</td>\n",
       "      <td>0.009721</td>\n",
       "      <td>0.019093</td>\n",
       "      <td>0.001200</td>\n",
       "      <td>0.005029</td>\n",
       "      <td>0.014656</td>\n",
       "      <td>0.226212</td>\n",
       "      <td>1.000000</td>\n",
       "      <td>-0.001502</td>\n",
       "      <td>0.002291</td>\n",
       "      <td>-0.001870</td>\n",
       "      <td>-0.002438</td>\n",
       "      <td>-0.008400</td>\n",
       "      <td>-0.000428</td>\n",
       "      <td>0.008835</td>\n",
       "    </tr>\n",
       "    <tr>\n",
       "      <th>Apartamento</th>\n",
       "      <td>-0.275458</td>\n",
       "      <td>-0.258339</td>\n",
       "      <td>0.153947</td>\n",
       "      <td>-0.252746</td>\n",
       "      <td>-0.236217</td>\n",
       "      <td>0.034674</td>\n",
       "      <td>0.147497</td>\n",
       "      <td>-0.482170</td>\n",
       "      <td>0.009105</td>\n",
       "      <td>-0.001502</td>\n",
       "      <td>1.000000</td>\n",
       "      <td>-0.932270</td>\n",
       "      <td>-0.313032</td>\n",
       "      <td>0.034073</td>\n",
       "      <td>0.010312</td>\n",
       "      <td>-0.176033</td>\n",
       "      <td>0.180288</td>\n",
       "    </tr>\n",
       "    <tr>\n",
       "      <th>Casa</th>\n",
       "      <td>0.343042</td>\n",
       "      <td>0.349962</td>\n",
       "      <td>-0.142090</td>\n",
       "      <td>0.293326</td>\n",
       "      <td>0.282221</td>\n",
       "      <td>-0.031403</td>\n",
       "      <td>-0.137754</td>\n",
       "      <td>0.459136</td>\n",
       "      <td>-0.008624</td>\n",
       "      <td>0.002291</td>\n",
       "      <td>-0.932270</td>\n",
       "      <td>1.000000</td>\n",
       "      <td>-0.051751</td>\n",
       "      <td>-0.041823</td>\n",
       "      <td>-0.007961</td>\n",
       "      <td>0.178640</td>\n",
       "      <td>-0.183298</td>\n",
       "    </tr>\n",
       "    <tr>\n",
       "      <th>Outros</th>\n",
       "      <td>-0.140183</td>\n",
       "      <td>-0.205608</td>\n",
       "      <td>-0.051946</td>\n",
       "      <td>-0.072359</td>\n",
       "      <td>-0.088834</td>\n",
       "      <td>-0.013275</td>\n",
       "      <td>-0.045523</td>\n",
       "      <td>0.125672</td>\n",
       "      <td>-0.002495</td>\n",
       "      <td>-0.001870</td>\n",
       "      <td>-0.313032</td>\n",
       "      <td>-0.051751</td>\n",
       "      <td>1.000000</td>\n",
       "      <td>0.015738</td>\n",
       "      <td>-0.007568</td>\n",
       "      <td>0.016960</td>\n",
       "      <td>-0.016476</td>\n",
       "    </tr>\n",
       "    <tr>\n",
       "      <th>Zona Central</th>\n",
       "      <td>-0.097368</td>\n",
       "      <td>-0.123732</td>\n",
       "      <td>0.126044</td>\n",
       "      <td>-0.086437</td>\n",
       "      <td>-0.084417</td>\n",
       "      <td>0.022315</td>\n",
       "      <td>0.153639</td>\n",
       "      <td>-0.075256</td>\n",
       "      <td>-0.003553</td>\n",
       "      <td>-0.002438</td>\n",
       "      <td>0.034073</td>\n",
       "      <td>-0.041823</td>\n",
       "      <td>0.015738</td>\n",
       "      <td>1.000000</td>\n",
       "      <td>-0.061835</td>\n",
       "      <td>-0.123834</td>\n",
       "      <td>-0.073014</td>\n",
       "    </tr>\n",
       "    <tr>\n",
       "      <th>Zona Norte</th>\n",
       "      <td>-0.162497</td>\n",
       "      <td>-0.111712</td>\n",
       "      <td>-0.016926</td>\n",
       "      <td>-0.109957</td>\n",
       "      <td>-0.230317</td>\n",
       "      <td>-0.011112</td>\n",
       "      <td>0.030753</td>\n",
       "      <td>-0.158553</td>\n",
       "      <td>-0.013453</td>\n",
       "      <td>-0.008400</td>\n",
       "      <td>0.010312</td>\n",
       "      <td>-0.007961</td>\n",
       "      <td>-0.007568</td>\n",
       "      <td>-0.061835</td>\n",
       "      <td>1.000000</td>\n",
       "      <td>-0.522996</td>\n",
       "      <td>-0.308366</td>\n",
       "    </tr>\n",
       "    <tr>\n",
       "      <th>Zona Oeste</th>\n",
       "      <td>0.242345</td>\n",
       "      <td>0.163822</td>\n",
       "      <td>-0.031750</td>\n",
       "      <td>0.267990</td>\n",
       "      <td>0.327546</td>\n",
       "      <td>0.007518</td>\n",
       "      <td>-0.012434</td>\n",
       "      <td>0.192466</td>\n",
       "      <td>-0.001055</td>\n",
       "      <td>-0.000428</td>\n",
       "      <td>-0.176033</td>\n",
       "      <td>0.178640</td>\n",
       "      <td>0.016960</td>\n",
       "      <td>-0.123834</td>\n",
       "      <td>-0.522996</td>\n",
       "      <td>1.000000</td>\n",
       "      <td>-0.617551</td>\n",
       "    </tr>\n",
       "    <tr>\n",
       "      <th>Zona Sul</th>\n",
       "      <td>-0.098752</td>\n",
       "      <td>-0.049433</td>\n",
       "      <td>0.017402</td>\n",
       "      <td>-0.178807</td>\n",
       "      <td>-0.136398</td>\n",
       "      <td>-0.004333</td>\n",
       "      <td>-0.055540</td>\n",
       "      <td>-0.051962</td>\n",
       "      <td>0.014474</td>\n",
       "      <td>0.008835</td>\n",
       "      <td>0.180288</td>\n",
       "      <td>-0.183298</td>\n",
       "      <td>-0.016476</td>\n",
       "      <td>-0.073014</td>\n",
       "      <td>-0.308366</td>\n",
       "      <td>-0.617551</td>\n",
       "      <td>1.000000</td>\n",
       "    </tr>\n",
       "  </tbody>\n",
       "</table>\n",
       "</div>"
      ],
      "text/plain": [
       "                 bathrooms  bedrooms    floors  parkingSpaces    suites   \n",
       "bathrooms         1.000000  0.665911 -0.044591       0.487590  0.752928  \\\n",
       "bedrooms          0.665911  1.000000 -0.082184       0.467161  0.601199   \n",
       "floors           -0.044591 -0.082184  1.000000      -0.048486 -0.048106   \n",
       "parkingSpaces     0.487590  0.467161 -0.048486       1.000000  0.484988   \n",
       "suites            0.752928  0.601199 -0.048106       0.484988  1.000000   \n",
       "unitFloor         0.007624 -0.007162  0.120982       0.003768  0.005206   \n",
       "unitsOnTheFloor  -0.107437 -0.130814  0.737717      -0.074527 -0.091914   \n",
       "usableAreas       0.598073  0.563750 -0.103917       0.483732  0.577636   \n",
       "condo             0.020030  0.018482  0.013797       0.018012  0.023461   \n",
       "iptu              0.015102  0.013639  0.006688       0.009721  0.019093   \n",
       "Apartamento      -0.275458 -0.258339  0.153947      -0.252746 -0.236217   \n",
       "Casa              0.343042  0.349962 -0.142090       0.293326  0.282221   \n",
       "Outros           -0.140183 -0.205608 -0.051946      -0.072359 -0.088834   \n",
       "Zona Central     -0.097368 -0.123732  0.126044      -0.086437 -0.084417   \n",
       "Zona Norte       -0.162497 -0.111712 -0.016926      -0.109957 -0.230317   \n",
       "Zona Oeste        0.242345  0.163822 -0.031750       0.267990  0.327546   \n",
       "Zona Sul         -0.098752 -0.049433  0.017402      -0.178807 -0.136398   \n",
       "\n",
       "                 unitFloor  unitsOnTheFloor  usableAreas     condo      iptu   \n",
       "bathrooms         0.007624        -0.107437     0.598073  0.020030  0.015102  \\\n",
       "bedrooms         -0.007162        -0.130814     0.563750  0.018482  0.013639   \n",
       "floors            0.120982         0.737717    -0.103917  0.013797  0.006688   \n",
       "parkingSpaces     0.003768        -0.074527     0.483732  0.018012  0.009721   \n",
       "suites            0.005206        -0.091914     0.577636  0.023461  0.019093   \n",
       "unitFloor         1.000000         0.092359    -0.012748  0.003065  0.001200   \n",
       "unitsOnTheFloor   0.092359         1.000000    -0.144222 -0.000554  0.005029   \n",
       "usableAreas      -0.012748        -0.144222     1.000000  0.019717  0.014656   \n",
       "condo             0.003065        -0.000554     0.019717  1.000000  0.226212   \n",
       "iptu              0.001200         0.005029     0.014656  0.226212  1.000000   \n",
       "Apartamento       0.034674         0.147497    -0.482170  0.009105 -0.001502   \n",
       "Casa             -0.031403        -0.137754     0.459136 -0.008624  0.002291   \n",
       "Outros           -0.013275        -0.045523     0.125672 -0.002495 -0.001870   \n",
       "Zona Central      0.022315         0.153639    -0.075256 -0.003553 -0.002438   \n",
       "Zona Norte       -0.011112         0.030753    -0.158553 -0.013453 -0.008400   \n",
       "Zona Oeste        0.007518        -0.012434     0.192466 -0.001055 -0.000428   \n",
       "Zona Sul         -0.004333        -0.055540    -0.051962  0.014474  0.008835   \n",
       "\n",
       "                 Apartamento      Casa    Outros  Zona Central  Zona Norte   \n",
       "bathrooms          -0.275458  0.343042 -0.140183     -0.097368   -0.162497  \\\n",
       "bedrooms           -0.258339  0.349962 -0.205608     -0.123732   -0.111712   \n",
       "floors              0.153947 -0.142090 -0.051946      0.126044   -0.016926   \n",
       "parkingSpaces      -0.252746  0.293326 -0.072359     -0.086437   -0.109957   \n",
       "suites             -0.236217  0.282221 -0.088834     -0.084417   -0.230317   \n",
       "unitFloor           0.034674 -0.031403 -0.013275      0.022315   -0.011112   \n",
       "unitsOnTheFloor     0.147497 -0.137754 -0.045523      0.153639    0.030753   \n",
       "usableAreas        -0.482170  0.459136  0.125672     -0.075256   -0.158553   \n",
       "condo               0.009105 -0.008624 -0.002495     -0.003553   -0.013453   \n",
       "iptu               -0.001502  0.002291 -0.001870     -0.002438   -0.008400   \n",
       "Apartamento         1.000000 -0.932270 -0.313032      0.034073    0.010312   \n",
       "Casa               -0.932270  1.000000 -0.051751     -0.041823   -0.007961   \n",
       "Outros             -0.313032 -0.051751  1.000000      0.015738   -0.007568   \n",
       "Zona Central        0.034073 -0.041823  0.015738      1.000000   -0.061835   \n",
       "Zona Norte          0.010312 -0.007961 -0.007568     -0.061835    1.000000   \n",
       "Zona Oeste         -0.176033  0.178640  0.016960     -0.123834   -0.522996   \n",
       "Zona Sul            0.180288 -0.183298 -0.016476     -0.073014   -0.308366   \n",
       "\n",
       "                 Zona Oeste  Zona Sul  \n",
       "bathrooms          0.242345 -0.098752  \n",
       "bedrooms           0.163822 -0.049433  \n",
       "floors            -0.031750  0.017402  \n",
       "parkingSpaces      0.267990 -0.178807  \n",
       "suites             0.327546 -0.136398  \n",
       "unitFloor          0.007518 -0.004333  \n",
       "unitsOnTheFloor   -0.012434 -0.055540  \n",
       "usableAreas        0.192466 -0.051962  \n",
       "condo             -0.001055  0.014474  \n",
       "iptu              -0.000428  0.008835  \n",
       "Apartamento       -0.176033  0.180288  \n",
       "Casa               0.178640 -0.183298  \n",
       "Outros             0.016960 -0.016476  \n",
       "Zona Central      -0.123834 -0.073014  \n",
       "Zona Norte        -0.522996 -0.308366  \n",
       "Zona Oeste         1.000000 -0.617551  \n",
       "Zona Sul          -0.617551  1.000000  "
      ]
     },
     "execution_count": 41,
     "metadata": {},
     "output_type": "execute_result"
    }
   ],
   "source": [
    "dataframe_corr = pd.DataFrame(correlacao.toArray(), columns=X,index=X)\n",
    "dataframe_corr"
   ]
  },
  {
   "cell_type": "code",
   "execution_count": 42,
   "id": "e3c6fd6e-b03d-4d4b-ae21-250481911a8b",
   "metadata": {
    "tags": []
   },
   "outputs": [],
   "source": [
    "import matplotlib.pyplot as plt\n",
    "import seaborn as sns\n"
   ]
  },
  {
   "cell_type": "code",
   "execution_count": 43,
   "id": "5c9e772b-a6a6-4263-8b61-a6976c819126",
   "metadata": {
    "tags": []
   },
   "outputs": [
    {
     "data": {
      "text/plain": [
       "<Axes: >"
      ]
     },
     "execution_count": 43,
     "metadata": {},
     "output_type": "execute_result"
    },
    {
     "data": {
      "image/png": "[encoded data removed]",
      "text/plain": [
       "<Figure size 1200x1000 with 2 Axes>"
      ]
     },
     "metadata": {},
     "output_type": "display_data"
    }
   ],
   "source": [
    "plt.figure(figsize=(12,10))\n",
    "cores = sns.color_palette('rocket', as_cmap=True)\n",
    "sns.heatmap(dataframe_corr.round(1), annot=True, cmap=cores)"
   ]
  },
  {
   "cell_type": "code",
   "execution_count": 44,
   "id": "cd64400d-cf7b-4442-862c-08356794444f",
   "metadata": {
    "tags": []
   },
   "outputs": [],
   "source": [
    "treino , teste = dataset_prep.randomSplit([0.7,0.3], seed=101)"
   ]
  },
  {
   "cell_type": "code",
   "execution_count": 45,
   "id": "377c678d-7cf9-4007-93dc-bf6b04b0dba8",
   "metadata": {
    "tags": []
   },
   "outputs": [
    {
     "name": "stdout",
     "output_type": "stream",
     "text": [
      "Treino  48528\n",
      "Teste  20911\n"
     ]
    }
   ],
   "source": [
    "print(\"Treino \",  treino.count())\n",
    "print(\"Teste \" , teste.count())"
   ]
  },
  {
   "cell_type": "code",
   "execution_count": 46,
   "id": "34eddcf1-7e3b-4c76-bcf3-635a2017caa1",
   "metadata": {
    "tags": []
   },
   "outputs": [],
   "source": [
    "from pyspark.ml.regression import LinearRegression\n"
   ]
  },
  {
   "cell_type": "code",
   "execution_count": 47,
   "id": "36f52fa3-65b9-48d7-a274-c395f851a1df",
   "metadata": {
    "tags": []
   },
   "outputs": [],
   "source": [
    "lr = LinearRegression()\n",
    "modelo_lr = lr.fit(treino)\n",
    "previsoes_lr_treino = modelo_lr.transform(treino)"
   ]
  },
  {
   "cell_type": "code",
   "execution_count": 48,
   "id": "0517cdda-9c91-4a7f-8b4d-3e18ccc0d8ca",
   "metadata": {
    "tags": []
   },
   "outputs": [
    {
     "name": "stdout",
     "output_type": "stream",
     "text": [
      "+--------------------+--------+------------------+\n",
      "|            features|   label|        prediction|\n",
      "+--------------------+--------+------------------+\n",
      "|(17,[0,1,2,3,4,5,...|260000.0|443266.04737020144|\n",
      "|(17,[0,1,2,3,4,5,...|500000.0|1127455.8300462805|\n",
      "|(17,[0,1,2,3,4,5,...|308615.0|111210.49949889386|\n",
      "|(17,[0,1,2,3,4,5,...|279000.0|113587.95787719043|\n",
      "|(17,[0,1,2,3,4,5,...|545000.0|340703.71307873435|\n",
      "|(17,[0,1,2,3,4,5,...|449000.0|390571.99595798284|\n",
      "|(17,[0,1,2,3,4,5,...|479000.0| 444003.4297194885|\n",
      "|(17,[0,1,2,3,4,5,...|420000.0| 720022.1542161054|\n",
      "|(17,[0,1,2,3,4,5,...|265000.0|519406.05037395435|\n",
      "|(17,[0,1,2,3,4,5,...|490000.0| 845483.5388437647|\n",
      "+--------------------+--------+------------------+\n",
      "only showing top 10 rows\n",
      "\n"
     ]
    }
   ],
   "source": [
    "previsoes_lr_treino.show(10)"
   ]
  },
  {
   "cell_type": "code",
   "execution_count": 49,
   "id": "27307a72-6c15-46e5-b82b-55efb28c6640",
   "metadata": {
    "tags": []
   },
   "outputs": [
    {
     "data": {
      "text/plain": [
       "810348.969531623"
      ]
     },
     "execution_count": 49,
     "metadata": {},
     "output_type": "execute_result"
    }
   ],
   "source": [
    "modelo_lr.summary.rootMeanSquaredError"
   ]
  },
  {
   "cell_type": "code",
   "execution_count": 50,
   "id": "b28c65ae-cb30-43e4-a657-712c0f4c18f8",
   "metadata": {
    "tags": []
   },
   "outputs": [
    {
     "data": {
      "text/plain": [
       "<pyspark.ml.regression.LinearRegressionSummary at 0x7f4561cb8760>"
      ]
     },
     "execution_count": 50,
     "metadata": {},
     "output_type": "execute_result"
    }
   ],
   "source": [
    "resumo_teste = modelo_lr.evaluate(teste)\n",
    "resumo_teste"
   ]
  },
  {
   "cell_type": "code",
   "execution_count": 51,
   "id": "17aef451-a431-4402-a53f-9fd3451c04c4",
   "metadata": {
    "tags": []
   },
   "outputs": [
    {
     "data": {
      "text/plain": [
       "0.6585207937774393"
      ]
     },
     "execution_count": 51,
     "metadata": {},
     "output_type": "execute_result"
    }
   ],
   "source": [
    "resumo_teste.r2"
   ]
  },
  {
   "cell_type": "code",
   "execution_count": 52,
   "id": "dc643292-782d-4d03-8b1b-1f88c5c2cbac",
   "metadata": {
    "tags": []
   },
   "outputs": [],
   "source": [
    "resumo_treino = modelo_lr.summary\n"
   ]
  },
  {
   "cell_type": "code",
   "execution_count": 53,
   "id": "0d66b0a3-6955-4017-b195-da8e6589fc0c",
   "metadata": {
    "tags": []
   },
   "outputs": [
    {
     "name": "stdout",
     "output_type": "stream",
     "text": [
      "Linear Regression\n",
      "==============================\n",
      "Dados de Treino\n",
      "==============================\n",
      "R²: 0.665587\n",
      "RMSE: 810348.969532\n",
      "\n",
      "==============================\n",
      "Dados de Teste\n",
      "==============================\n",
      "R²: 0.658521\n",
      "RMSE: 800525.969683\n"
     ]
    }
   ],
   "source": [
    "print('Linear Regression')\n",
    "print(\"=\"*30)\n",
    "print(\"Dados de Treino\")\n",
    "print(\"=\"*30)\n",
    "print(\"R²: %f\" % resumo_treino.r2)\n",
    "print(\"RMSE: %f\" % resumo_treino.rootMeanSquaredError)\n",
    "print(\"\")\n",
    "print(\"=\"*30)\n",
    "print(\"Dados de Teste\")\n",
    "print(\"=\"*30)\n",
    "print(\"R²: %f\" % resumo_teste.r2)\n",
    "print(\"RMSE: %f\" % resumo_teste.rootMeanSquaredError)"
   ]
  },
  {
   "cell_type": "code",
   "execution_count": 54,
   "id": "477bcd4b-c70c-4914-80cf-181439610920",
   "metadata": {},
   "outputs": [],
   "source": [
    "from pyspark.ml.regression import DecisionTreeRegressor\n",
    "dtr = DecisionTreeRegressor(seed=191, maxDepth=7)\n",
    "modelo_dtr = dtr.fit(treino)\n",
    "previsoes_dtr_treino = modelo_dtr.transform(treino)"
   ]
  },
  {
   "cell_type": "code",
   "execution_count": 55,
   "id": "7b0b304c-2100-4c0a-bc38-e4d0dd0b681e",
   "metadata": {
    "tags": []
   },
   "outputs": [
    {
     "name": "stdout",
     "output_type": "stream",
     "text": [
      "+--------------------+--------+-----------------+\n",
      "|            features|   label|       prediction|\n",
      "+--------------------+--------+-----------------+\n",
      "|(17,[0,1,2,3,4,5,...|260000.0|340855.8044843049|\n",
      "|(17,[0,1,2,3,4,5,...|500000.0|551560.6692818346|\n",
      "|(17,[0,1,2,3,4,5,...|308615.0|340855.8044843049|\n",
      "+--------------------+--------+-----------------+\n",
      "only showing top 3 rows\n",
      "\n"
     ]
    }
   ],
   "source": [
    "previsoes_dtr_treino.show(3)"
   ]
  },
  {
   "cell_type": "code",
   "execution_count": 56,
   "id": "9c69b4a3-2a85-4c93-93c4-535ee3102eb8",
   "metadata": {
    "tags": []
   },
   "outputs": [
    {
     "name": "stdout",
     "output_type": "stream",
     "text": [
      "0.7929460835083209\n",
      "637635.4762225805\n"
     ]
    }
   ],
   "source": [
    "from pyspark.ml.evaluation import RegressionEvaluator\n",
    "evaluator = RegressionEvaluator()\n",
    "print(evaluator.evaluate(previsoes_dtr_treino,{evaluator.metricName:'r2'}))\n",
    "print(evaluator.evaluate(previsoes_dtr_treino,{evaluator.metricName:'rmse'}))"
   ]
  },
  {
   "cell_type": "code",
   "execution_count": 57,
   "id": "abf392d3-cf99-4d0d-9463-068b83878f0d",
   "metadata": {
    "tags": []
   },
   "outputs": [
    {
     "name": "stdout",
     "output_type": "stream",
     "text": [
      "+--------------------+--------+-----------------+\n",
      "|            features|   label|       prediction|\n",
      "+--------------------+--------+-----------------+\n",
      "|(17,[0,1,2,3,4,5,...|199000.0|340855.8044843049|\n",
      "|(17,[0,1,2,3,4,5,...|350000.0|845048.3603896104|\n",
      "|(17,[0,1,2,3,4,5,...|340000.0|551560.6692818346|\n",
      "|(17,[0,1,2,3,4,5,...|430000.0|551560.6692818346|\n",
      "+--------------------+--------+-----------------+\n",
      "only showing top 4 rows\n",
      "\n"
     ]
    }
   ],
   "source": [
    "previsoes_dtr_teste = modelo_dtr.transform(teste)\n",
    "previsoes_dtr_teste.show(4)"
   ]
  },
  {
   "cell_type": "code",
   "execution_count": 58,
   "id": "cc549721-3512-4bc5-8f30-40a9d7e1e561",
   "metadata": {
    "tags": []
   },
   "outputs": [
    {
     "name": "stdout",
     "output_type": "stream",
     "text": [
      "Decision Tree Regression\n",
      "==============================\n",
      "Dados de Treino\n",
      "==============================\n",
      "R²: 0.792946\n",
      "RMSE: 637635.476223\n",
      "\n",
      "==============================\n",
      "Dados de Teste\n",
      "==============================\n",
      "R²: 0.773159\n",
      "RMSE: 652460.094491\n"
     ]
    }
   ],
   "source": [
    "print('Decision Tree Regression')\n",
    "print(\"=\"*30)\n",
    "print(\"Dados de Treino\")\n",
    "print(\"=\"*30)\n",
    "print(\"R²: %f\" % evaluator.evaluate(previsoes_dtr_treino, {evaluator.metricName: \"r2\"}))\n",
    "print(\"RMSE: %f\" % evaluator.evaluate(previsoes_dtr_treino, {evaluator.metricName: \"rmse\"}))\n",
    "print(\"\")\n",
    "print(\"=\"*30)\n",
    "print(\"Dados de Teste\")\n",
    "print(\"=\"*30)\n",
    "print(\"R²: %f\" % evaluator.evaluate(previsoes_dtr_teste, {evaluator.metricName: \"r2\"}))\n",
    "print(\"RMSE: %f\" % evaluator.evaluate(previsoes_dtr_teste, {evaluator.metricName: \"rmse\"}))"
   ]
  },
  {
   "cell_type": "code",
   "execution_count": 59,
   "id": "c6d7c4e2-0dea-4bdb-896d-906748694329",
   "metadata": {
    "tags": []
   },
   "outputs": [
    {
     "name": "stdout",
     "output_type": "stream",
     "text": [
      "+--------------------+--------+------------------+\n",
      "|            features|   label|        prediction|\n",
      "+--------------------+--------+------------------+\n",
      "|(17,[0,1,2,3,4,5,...|260000.0|390218.33742322924|\n",
      "|(17,[0,1,2,3,4,5,...|500000.0| 510060.6595782173|\n",
      "|(17,[0,1,2,3,4,5,...|308615.0|360766.74127901345|\n",
      "|(17,[0,1,2,3,4,5,...|279000.0|360766.74127901345|\n",
      "|(17,[0,1,2,3,4,5,...|545000.0|  396904.928725379|\n",
      "|(17,[0,1,2,3,4,5,...|449000.0|  492913.652312712|\n",
      "|(17,[0,1,2,3,4,5,...|479000.0|433807.13396085694|\n",
      "|(17,[0,1,2,3,4,5,...|420000.0| 664440.4325776277|\n",
      "|(17,[0,1,2,3,4,5,...|265000.0|479615.50733929937|\n",
      "|(17,[0,1,2,3,4,5,...|490000.0| 816123.0337632223|\n",
      "|(17,[0,1,2,3,4,5,...|650000.0| 640247.1517314625|\n",
      "|(17,[0,1,2,3,4,5,...|379900.0|403131.21721626434|\n",
      "|(17,[0,1,2,3,4,5,...|449000.0|403131.21721626434|\n",
      "|(17,[0,1,2,3,4,5,...|190000.0| 356904.3339549792|\n",
      "|(17,[0,1,2,3,4,5,...|896000.0| 547828.3209496561|\n",
      "|(17,[0,1,2,3,4,5,...|679000.0| 893791.6624292185|\n",
      "|(17,[0,1,2,3,4,5,...|620000.0| 526635.5362588142|\n",
      "|(17,[0,1,2,3,4,5,...|727000.0| 526635.5362588142|\n",
      "|(17,[0,1,2,3,4,5,...|880000.0| 526635.5362588142|\n",
      "|(17,[0,1,2,3,4,5,...|435000.0| 356904.3339549792|\n",
      "+--------------------+--------+------------------+\n",
      "only showing top 20 rows\n",
      "\n"
     ]
    }
   ],
   "source": [
    "from pyspark.ml.regression import RandomForestRegressor\n",
    "rfr = RandomForestRegressor(seed=101,maxDepth=7,numTrees=10)\n",
    "modelo_rfr = rfr.fit(treino)\n",
    "previsoes_rfr_treino = modelo_rfr.transform(treino)\n",
    "previsoes_rfr_treino.show()\n"
   ]
  },
  {
   "cell_type": "code",
   "execution_count": 60,
   "id": "2f284771-9a3c-45d2-9a04-55708b9b0e1a",
   "metadata": {
    "tags": []
   },
   "outputs": [
    {
     "name": "stdout",
     "output_type": "stream",
     "text": [
      "0.8017561510914318\n",
      "623922.4426224458\n"
     ]
    }
   ],
   "source": [
    "print(evaluator.evaluate(previsoes_rfr_treino,{evaluator.metricName:'r2'}))\n",
    "print(evaluator.evaluate(previsoes_rfr_treino,{evaluator.metricName:'rmse'}))"
   ]
  },
  {
   "cell_type": "code",
   "execution_count": 61,
   "id": "23d2a271-cec5-440b-9df9-538ac80b19ab",
   "metadata": {
    "tags": []
   },
   "outputs": [
    {
     "name": "stdout",
     "output_type": "stream",
     "text": [
      "+--------------------+---------+------------------+\n",
      "|            features|    label|        prediction|\n",
      "+--------------------+---------+------------------+\n",
      "|(17,[0,1,2,3,4,5,...| 199000.0| 350678.0454640939|\n",
      "|(17,[0,1,2,3,4,5,...| 350000.0| 792518.9735011571|\n",
      "|(17,[0,1,2,3,4,5,...| 340000.0|479615.50733929937|\n",
      "|(17,[0,1,2,3,4,5,...| 430000.0| 526635.5362588142|\n",
      "|(17,[0,1,2,3,4,5,...| 600000.0| 526635.5362588142|\n",
      "|(17,[0,1,2,3,4,5,...| 439000.0| 550795.8732599718|\n",
      "|(17,[0,1,2,3,4,5,...| 333000.0| 356904.3339549792|\n",
      "|(17,[0,1,2,3,4,5,...| 948000.0| 640247.1517314625|\n",
      "|(17,[0,1,2,3,4,5,...| 459600.0| 356904.3339549792|\n",
      "|(17,[0,1,2,3,4,5,...| 447600.0| 356904.3339549792|\n",
      "|(17,[0,1,2,3,4,5,...| 360000.0| 356904.3339549792|\n",
      "|(17,[0,1,2,3,4,5,...| 407000.0|  492913.652312712|\n",
      "|(17,[0,1,2,3,4,5,...| 310000.0|412580.35636663495|\n",
      "|(17,[0,1,2,3,4,5,...|1400000.0| 1375418.570408164|\n",
      "|(17,[0,1,2,3,4,5,...|1180000.0| 1375418.570408164|\n",
      "|(17,[0,1,2,3,4,5,...|1299500.0|1111896.8209940076|\n",
      "|(17,[0,1,2,3,4,5,...| 296100.0| 352263.6404621517|\n",
      "|(17,[0,1,2,3,4,5,...| 285000.0| 352263.6404621517|\n",
      "|(17,[0,1,2,3,4,5,...| 679720.0| 580272.9453894051|\n",
      "|(17,[0,1,2,3,4,5,...| 509150.0| 508101.1046743891|\n",
      "+--------------------+---------+------------------+\n",
      "only showing top 20 rows\n",
      "\n"
     ]
    }
   ],
   "source": [
    "previsoes_rfr_teste = modelo_rfr.transform(teste)\n",
    "previsoes_rfr_teste.show()"
   ]
  },
  {
   "cell_type": "code",
   "execution_count": 62,
   "id": "c1e3009b-463f-44ef-9948-75ce87334ea6",
   "metadata": {
    "tags": []
   },
   "outputs": [
    {
     "name": "stdout",
     "output_type": "stream",
     "text": [
      "Random Forest Regression\n",
      "==============================\n",
      "Dados de Treino\n",
      "==============================\n",
      "R²: 0.801756\n",
      "RMSE: 623922.442622\n",
      "\n",
      "==============================\n",
      "Dados de Teste\n",
      "==============================\n",
      "R²: 0.790530\n",
      "RMSE: 626981.467738\n"
     ]
    }
   ],
   "source": [
    "print('Random Forest Regression')\n",
    "print(\"=\"*30)\n",
    "print(\"Dados de Treino\")\n",
    "print(\"=\"*30)\n",
    "print(\"R²: %f\" % evaluator.evaluate(previsoes_rfr_treino, {evaluator.metricName: \"r2\"}))\n",
    "print(\"RMSE: %f\" % evaluator.evaluate(previsoes_rfr_treino, {evaluator.metricName: \"rmse\"}))\n",
    "print(\"\")\n",
    "print(\"=\"*30)\n",
    "print(\"Dados de Teste\")\n",
    "print(\"=\"*30)\n",
    "print(\"R²: %f\" % evaluator.evaluate(previsoes_rfr_teste, {evaluator.metricName: \"r2\"}))\n",
    "print(\"RMSE: %f\" % evaluator.evaluate(previsoes_rfr_teste, {evaluator.metricName: \"rmse\"}))"
   ]
  },
  {
   "cell_type": "code",
   "execution_count": 63,
   "id": "20625b62-cb55-4590-a442-12b3004345ab",
   "metadata": {
    "tags": []
   },
   "outputs": [],
   "source": [
    "from pyspark.ml.tuning import ParamGridBuilder\n",
    "dtr = DecisionTreeRegressor()\n",
    "grid = ParamGridBuilder() \\\n",
    "            .addGrid(dtr.maxDepth,[2,5,10])\\\n",
    "            .addGrid(dtr.maxBins, [10,32,45])\\\n",
    "            .build()"
   ]
  },
  {
   "cell_type": "code",
   "execution_count": 64,
   "id": "ad846696-5062-4c83-82c0-01edea485399",
   "metadata": {
    "tags": []
   },
   "outputs": [],
   "source": [
    "evaluator = RegressionEvaluator()"
   ]
  },
  {
   "cell_type": "code",
   "execution_count": 65,
   "id": "966083f7-a6c3-4265-8abc-1eed16d495ad",
   "metadata": {
    "tags": []
   },
   "outputs": [],
   "source": [
    "from pyspark.ml.tuning import CrossValidator\n",
    "dtr_cv = CrossValidator(\n",
    "    estimator=dtr,\n",
    "    estimatorParamMaps=grid,\n",
    "    evaluator=evaluator,\n",
    "    numFolds=3,\n",
    "    seed= 101\n",
    ")"
   ]
  },
  {
   "cell_type": "code",
   "execution_count": 66,
   "id": "50fb1e54-ac7a-46fb-b23c-4b95cd4dbd96",
   "metadata": {
    "tags": []
   },
   "outputs": [],
   "source": [
    "modelo_dtr_cv = dtr_cv.fit(treino)"
   ]
  },
  {
   "cell_type": "code",
   "execution_count": 67,
   "id": "d06bcbb3-8626-4dd3-99a9-f70ac1459b76",
   "metadata": {
    "tags": []
   },
   "outputs": [],
   "source": [
    "previsoes_dtr_cv_teste = modelo_dtr_cv.transform(teste)"
   ]
  },
  {
   "cell_type": "code",
   "execution_count": 68,
   "id": "ae53b35b-76ca-4f3b-af7b-bd110a0b089f",
   "metadata": {
    "tags": []
   },
   "outputs": [
    {
     "name": "stdout",
     "output_type": "stream",
     "text": [
      "Decision Tree Regression\n",
      "==============================\n",
      "Sem Cross Validation\n",
      "==============================\n",
      "R²: 0.773159\n",
      "RMSE: 652460.094491\n",
      "\n",
      "==============================\n",
      "Com Cross Validation\n",
      "==============================\n",
      "R²: 0.795144\n",
      "RMSE: 620036.912955\n"
     ]
    }
   ],
   "source": [
    "print('Decision Tree Regression')\n",
    "print(\"=\"*30)\n",
    "print(\"Sem Cross Validation\")\n",
    "print(\"=\"*30)\n",
    "print(\"R²: %f\" % evaluator.evaluate(previsoes_dtr_teste, {evaluator.metricName: \"r2\"}))\n",
    "print(\"RMSE: %f\" % evaluator.evaluate(previsoes_dtr_teste, {evaluator.metricName: \"rmse\"}))\n",
    "print(\"\")\n",
    "print(\"=\"*30)\n",
    "print(\"Com Cross Validation\")\n",
    "print(\"=\"*30)\n",
    "print(\"R²: %f\" % evaluator.evaluate(previsoes_dtr_cv_teste, {evaluator.metricName: \"r2\"}))\n",
    "print(\"RMSE: %f\" % evaluator.evaluate(previsoes_dtr_cv_teste, {evaluator.metricName: \"rmse\"}))"
   ]
  },
  {
   "cell_type": "code",
   "execution_count": 73,
   "id": "b250ceb7-958c-4448-a09d-1392766f5262",
   "metadata": {
    "tags": []
   },
   "outputs": [],
   "source": [
    "rfr = RandomForestRegressor()\n",
    "grid = ParamGridBuilder() \\\n",
    "        .addGrid(rfr.maxDepth,[5,10])\\\n",
    "        .addGrid(rfr.numTrees,[10,20,30])\\\n",
    "        .addGrid(rfr.maxBins,[10,32,45]).build()"
   ]
  },
  {
   "cell_type": "code",
   "execution_count": 74,
   "id": "0f102f60-4562-4771-b8e1-1eab320c37b8",
   "metadata": {
    "tags": []
   },
   "outputs": [],
   "source": [
    "evaluator = RegressionEvaluator()"
   ]
  },
  {
   "cell_type": "code",
   "execution_count": 75,
   "id": "b9d34639-c7b2-4d8e-a64c-27867224f39c",
   "metadata": {
    "tags": []
   },
   "outputs": [],
   "source": [
    "rfr_cv = CrossValidator(\n",
    "        estimator=rfr,\n",
    "        estimatorParamMaps=grid,\n",
    "        evaluator=evaluator,\n",
    "        numFolds= 3\n",
    "        \n",
    ")"
   ]
  },
  {
   "cell_type": "code",
   "execution_count": 76,
   "id": "8f6d2d7f-1511-46f9-88e9-b313262e4df2",
   "metadata": {
    "tags": []
   },
   "outputs": [],
   "source": [
    "modelo_rfr_cv = rfr_cv.fit(treino)"
   ]
  },
  {
   "cell_type": "code",
   "execution_count": 78,
   "id": "d6aa3b38-418b-441c-b997-79422abbde0a",
   "metadata": {
    "tags": []
   },
   "outputs": [],
   "source": [
    "previsoes_rfr_cv_teste = modelo_rfr_cv.transform(teste)"
   ]
  },
  {
   "cell_type": "code",
   "execution_count": 79,
   "id": "25a4611b-cd84-4701-a1d6-a8e1bada3a32",
   "metadata": {},
   "outputs": [
    {
     "name": "stdout",
     "output_type": "stream",
     "text": [
      "Random Forest Regression\n",
      "==============================\n",
      "Sem Cross Validation\n",
      "==============================\n",
      "R²: 0.790530\n",
      "RMSE: 626981.467738\n",
      "\n",
      "==============================\n",
      "Com Cross Validation\n",
      "==============================\n",
      "R²: 0.831078\n",
      "RMSE: 563035.991734\n"
     ]
    }
   ],
   "source": [
    "print('Random Forest Regression')\n",
    "print(\"=\"*30)\n",
    "print(\"Sem Cross Validation\")\n",
    "print(\"=\"*30)\n",
    "print(\"R²: %f\" % evaluator.evaluate(previsoes_rfr_teste, {evaluator.metricName: \"r2\"}))\n",
    "print(\"RMSE: %f\" % evaluator.evaluate(previsoes_rfr_teste, {evaluator.metricName: \"rmse\"}))\n",
    "print(\"\")\n",
    "print(\"=\"*30)\n",
    "print(\"Com Cross Validation\")\n",
    "print(\"=\"*30)\n",
    "print(\"R²: %f\" % evaluator.evaluate(previsoes_rfr_cv_teste, {evaluator.metricName: \"r2\"}))\n",
    "print(\"RMSE: %f\" % evaluator.evaluate(previsoes_rfr_cv_teste, {evaluator.metricName: \"rmse\"}))"
   ]
  },
  {
   "cell_type": "code",
   "execution_count": 102,
   "id": "68ad6504-13e0-4015-a3aa-5ec9cad17603",
   "metadata": {
    "tags": []
   },
   "outputs": [],
   "source": [
    "novo_imovel_zona_sul = [{\n",
    "    'bathrooms': 10,\n",
    "    'bedrooms': 8,\n",
    "    'floors': 3,\n",
    "    'parkingSpaces': 5,\n",
    "    'suites': 6,\n",
    "    'unitFloor':0,\n",
    "    'unitsOnTheFloor':0,\n",
    "    'usableAreas':5000,\n",
    "    'condo':0,\n",
    "    'iptu':0,\n",
    "    'Apartamento':0,\n",
    "    'Casa':1,\n",
    "    'Outros':0,\n",
    "    'Zona Central':0,\n",
    "    'Zona Norte':1,\n",
    "    'Zona Oeste':0,\n",
    "    'Zona Sul':0,\n",
    "    'label': 0}]\n"
   ]
  },
  {
   "cell_type": "code",
   "execution_count": 99,
   "id": "91ee1bad-4b75-4814-9587-a5f7a6c5fb47",
   "metadata": {
    "tags": []
   },
   "outputs": [],
   "source": [
    "novo_imovel_zona_teste = [{\n",
    "    'bathrooms': 3,\n",
    "    'bedrooms': 5,\n",
    "    'floors': 1,\n",
    "    'parkingSpaces': 1,\n",
    "    'suites': 2,\n",
    "    'unitFloor':0,\n",
    "    'unitsOnTheFloor':0,\n",
    "    'usableAreas':2000,\n",
    "    'condo':200,\n",
    "    'iptu':0,\n",
    "    'Apartamento':1,\n",
    "    'Casa':0,\n",
    "    'Outros':0,\n",
    "    'Zona Central':0,\n",
    "    'Zona Norte':1,\n",
    "    'Zona Oeste':0,\n",
    "    'Zona Sul':0,\n",
    "    'label': 0}]"
   ]
  },
  {
   "cell_type": "code",
   "execution_count": null,
   "id": "3abee4b8-4926-44ff-be29-c40b2dfef86c",
   "metadata": {},
   "outputs": [],
   "source": []
  },
  {
   "cell_type": "code",
   "execution_count": 103,
   "id": "fd95822c-a636-45ab-b755-d7d3f3f738e5",
   "metadata": {
    "tags": []
   },
   "outputs": [
    {
     "name": "stdout",
     "output_type": "stream",
     "text": [
      "+--------------------+-----+\n",
      "|            features|label|\n",
      "+--------------------+-----+\n",
      "|(17,[0,1,2,3,4,7,...|    0|\n",
      "+--------------------+-----+\n",
      "\n"
     ]
    }
   ],
   "source": [
    "meu_imovel = spark.createDataFrame(novo_imovel_zona_sul)\n",
    "assembler = VectorAssembler(inputCols=X, outputCol='features')\n",
    "meu_imovel_vetorizado = assembler.transform(meu_imovel).select('features','label')\n",
    "meu_imovel_vetorizado.show()"
   ]
  },
  {
   "cell_type": "code",
   "execution_count": 85,
   "id": "38c96d5b-6fd7-4adc-a9bc-36951ebb7e4d",
   "metadata": {
    "tags": []
   },
   "outputs": [
    {
     "name": "stdout",
     "output_type": "stream",
     "text": [
      "+--------------------+-----+\n",
      "|            features|label|\n",
      "+--------------------+-----+\n",
      "|(17,[0,1,2,3,4,7,...|    0|\n",
      "+--------------------+-----+\n",
      "\n"
     ]
    }
   ],
   "source": [
    "novo_imovel_zona = spark.createDataFrame(novo_imovel_zona_teste)\n",
    "assembler = VectorAssembler(inputCols=X, outputCol='features')\n",
    "meu_imovel_vetorizado_zona_teste = assembler.transform(novo_imovel_zona).select('features','label')\n",
    "meu_imovel_vetorizado_zona_teste.show()"
   ]
  },
  {
   "cell_type": "code",
   "execution_count": 104,
   "id": "6c2233cb-350f-44e9-94b5-36f468e8dbe3",
   "metadata": {
    "tags": []
   },
   "outputs": [
    {
     "name": "stdout",
     "output_type": "stream",
     "text": [
      "+-----------------+\n",
      "|       prediction|\n",
      "+-----------------+\n",
      "|4889019.501424759|\n",
      "+-----------------+\n",
      "\n"
     ]
    }
   ],
   "source": [
    "modelo_rfr_cv.transform(meu_imovel_vetorizado).select('prediction').show()"
   ]
  },
  {
   "cell_type": "code",
   "execution_count": 86,
   "id": "d7299b3f-6af0-45e3-becc-cba7ace811b6",
   "metadata": {
    "tags": []
   },
   "outputs": [
    {
     "name": "stdout",
     "output_type": "stream",
     "text": [
      "+------------------+\n",
      "|        prediction|\n",
      "+------------------+\n",
      "|2043166.6270639186|\n",
      "+------------------+\n",
      "\n"
     ]
    }
   ],
   "source": [
    "modelo_rfr_cv.transform(meu_imovel_vetorizado_zona_teste).select('prediction').show()"
   ]
  },
  {
   "cell_type": "code",
   "execution_count": null,
   "id": "17d9914a-2474-490f-a0f9-205c2d5344f1",
   "metadata": {},
   "outputs": [],
   "source": []
  }
 ],
 "metadata": {
  "kernelspec": {
   "display_name": "Python 3 (ipykernel)",
   "language": "python",
   "name": "python3"
  },
  "language_info": {
   "codemirror_mode": {
    "name": "ipython",
    "version": 3
   },
   "file_extension": ".py",
   "mimetype": "text/x-python",
   "name": "python",
   "nbconvert_exporter": "python",
   "pygments_lexer": "ipython3",
   "version": "3.10.10"
  }
 },
 "nbformat": 4,
 "nbformat_minor": 5
}
